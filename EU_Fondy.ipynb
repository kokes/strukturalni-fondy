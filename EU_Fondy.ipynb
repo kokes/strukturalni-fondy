{
 "cells": [
  {
   "cell_type": "markdown",
   "metadata": {},
   "source": [
    "# Strukturální fondy\n",
    "Loni jsem [se hrabal](https://gist.github.com/kokes/052cc2a63e6366fc92b1) v datech od MMR, konkrétně v tabulce projektů za období 2007-2013. A jelikož to [nikoho nezajímalo](https://twitter.com/kondrej/status/604406720471961600), rozhodl jsem se to udělat znovu a pořádněji.\n",
    "\n",
    "Vše níže uvedné je na základě [dat na webu MMR](http://www.strukturalni-fondy.cz/cs/Informace-o-cerpani/Seznamy-prijemcu). Rozdíl od loňských hrátek je v tom, že MMR v mezičase dodalo mnohem čistší tabulku. Dříve člověk musel párovat projekty na vládní instituce, NACE kategorie atd. Teď to za nás udělalo ministerstvo, takže můžeme stratifikaci prohlížet mnohem snadněji.\n",
    "\n",
    "Stížnosti do [twitterů](http://twitter.com/kondrej) nebo [mailů](mailto:ondrej.kokes@gmail.com)\n",
    "\n",
    "*(Kód používá víceméně jen Python 3 a knihovnu `pandas`, klidně si to pusťte)*"
   ]
  },
  {
   "cell_type": "code",
   "execution_count": 40,
   "metadata": {
    "collapsed": true
   },
   "outputs": [],
   "source": [
    "import pandas as pd\n",
    "import numpy as np\n",
    "import urllib.request\n",
    "import os\n",
    "%matplotlib inline"
   ]
  },
  {
   "cell_type": "code",
   "execution_count": 41,
   "metadata": {
    "collapsed": true
   },
   "outputs": [],
   "source": [
    "url = 'http://www.strukturalni-fondy.cz/getmedia/d10fe3b0-15f5-4cdb-b916-64be5b4c5c4d/Prehled_projektu_20160406u.xlsx?ext=.xlsx'\n",
    "fn = 'vstupy/prehled.xlsx'\n",
    "\n",
    "if not os.path.exists(fn):\n",
    "    urllib.request.urlretrieve(url, fn)"
   ]
  },
  {
   "cell_type": "code",
   "execution_count": 42,
   "metadata": {
    "collapsed": true
   },
   "outputs": [],
   "source": [
    "df = pd.read_excel(fn)\n",
    "df = df.loc[df.loc[:, 'Pořadí v rámci v projektu (filtr)'] == 1] # kazdy projekt ma vic radku"
   ]
  },
  {
   "cell_type": "markdown",
   "metadata": {
    "collapsed": true
   },
   "source": [
    "Celkem máme 75 tisíc projektů z období 2007-2013, ke každému 28 indikátorů, většina je celkem sebevysvětlující."
   ]
  },
  {
   "cell_type": "code",
   "execution_count": 43,
   "metadata": {
    "collapsed": false
   },
   "outputs": [
    {
     "data": {
      "text/plain": [
       "(75137, 28)"
      ]
     },
     "execution_count": 43,
     "metadata": {},
     "output_type": "execute_result"
    }
   ],
   "source": [
    "df.shape"
   ]
  },
  {
   "cell_type": "code",
   "execution_count": 44,
   "metadata": {
    "collapsed": false
   },
   "outputs": [
    {
     "data": {
      "text/plain": [
       "Index(['Číslo a název programu', 'Číslo prioritní osy',\n",
       "       'Číslo oblasti podpory', 'Číslo projektu', 'Název projektu',\n",
       "       'Popis projektu', 'Žadatel', 'IČ žadatele', 'Hosp.právní forma',\n",
       "       'Hosp.právní forma - skupina', 'Stav projektu',\n",
       "       'Datum podpisu smlouvy/rozhodnutí', 'Adresa žadatele',\n",
       "       'Kraj žadatele - kód', 'Kraj žadatele - název', 'Obec žadatele - kód',\n",
       "       'Obec žadatele - název', 'Celkové zdroje - Sml/Dod',\n",
       "       'Rozhodnutí/Smlouva o poskytnutí dotace (celkové zdroje)',\n",
       "       'Rozhodnutí/Smlouva o poskytnutí dotace (veřejné prostředky celkem)',\n",
       "       'Rozhodnutí/Smlouva o poskytnutí dotace (EU zdroje)',\n",
       "       'Proplacené prostředky příjemcům - vyúčtované (veřejné prostředky celkem)',\n",
       "       'Proplacené prostředky příjemcům - vyúčtované (EU zdroje)',\n",
       "       'Certifikované prostředky (veřejné prostředky celkem)',\n",
       "       'Certifikované prostředky (EU zdroje)', 'Název NUTS',\n",
       "       'Pořadí v rámci v projektu (filtr)', 'Počet míst realizace'],\n",
       "      dtype='object')"
      ]
     },
     "execution_count": 44,
     "metadata": {},
     "output_type": "execute_result"
    }
   ],
   "source": [
    "df.columns"
   ]
  },
  {
   "cell_type": "code",
   "execution_count": 45,
   "metadata": {
    "collapsed": true
   },
   "outputs": [],
   "source": [
    "# nazvy sloupcu, at se to lip filtruje\n",
    "prfo = 'Hosp.právní forma'\n",
    "prfos = 'Hosp.právní forma - skupina'\n",
    "prog = 'Číslo a název programu'\n",
    "nuts = 'Název NUTS'\n",
    "ico = 'IČ žadatele'\n",
    "zad = 'Žadatel'\n",
    "stav = 'Stav projektu'\n",
    "popis = 'Popis projektu'\n",
    "nazev = 'Název projektu'\n",
    "celk = 'Celkové zdroje - Sml/Dod'\n",
    "euz = 'Rozhodnutí/Smlouva o poskytnutí dotace (EU zdroje)'"
   ]
  },
  {
   "cell_type": "markdown",
   "metadata": {},
   "source": [
    "První tři projekty vypadají takto"
   ]
  },
  {
   "cell_type": "code",
   "execution_count": 46,
   "metadata": {
    "collapsed": false
   },
   "outputs": [
    {
     "data": {
      "text/html": [
       "<div>\n",
       "<table border=\"1\" class=\"dataframe\">\n",
       "  <thead>\n",
       "    <tr style=\"text-align: right;\">\n",
       "      <th></th>\n",
       "      <th>0</th>\n",
       "      <th>10</th>\n",
       "      <th>26</th>\n",
       "    </tr>\n",
       "  </thead>\n",
       "  <tbody>\n",
       "    <tr>\n",
       "      <th>Číslo a název programu</th>\n",
       "      <td>CZ.1.01 OP Doprava</td>\n",
       "      <td>CZ.1.01 OP Doprava</td>\n",
       "      <td>CZ.1.01 OP Doprava</td>\n",
       "    </tr>\n",
       "    <tr>\n",
       "      <th>Číslo prioritní osy</th>\n",
       "      <td>1.1</td>\n",
       "      <td>1.1</td>\n",
       "      <td>1.1</td>\n",
       "    </tr>\n",
       "    <tr>\n",
       "      <th>Číslo oblasti podpory</th>\n",
       "      <td>1.1.1</td>\n",
       "      <td>1.1.1</td>\n",
       "      <td>1.1.1</td>\n",
       "    </tr>\n",
       "    <tr>\n",
       "      <th>Číslo projektu</th>\n",
       "      <td>CZ.1.01/1.1.00/06.0019</td>\n",
       "      <td>CZ.1.01/1.1.00/07.0006</td>\n",
       "      <td>CZ.1.01/1.1.00/07.0015</td>\n",
       "    </tr>\n",
       "    <tr>\n",
       "      <th>Název projektu</th>\n",
       "      <td>Optimalizace trati Benešov u Prahy - Strančice</td>\n",
       "      <td>Optimalizace trati Horní Dvořiště st. hranice ...</td>\n",
       "      <td>Rekonstrukce kolejí č.1 a 2 v km 224,391-226,0...</td>\n",
       "    </tr>\n",
       "    <tr>\n",
       "      <th>Popis projektu</th>\n",
       "      <td>Délka rekonstruovaného úseku je 23,95 km. Stáv...</td>\n",
       "      <td>Vzhledem k již proběhlé částečné optimalizaci ...</td>\n",
       "      <td>V rámci stavby se předpokládá řešit rekonstruk...</td>\n",
       "    </tr>\n",
       "    <tr>\n",
       "      <th>Žadatel</th>\n",
       "      <td>Správa železniční dopravní cesty, státní organ...</td>\n",
       "      <td>Správa železniční dopravní cesty, státní organ...</td>\n",
       "      <td>Správa železniční dopravní cesty, státní organ...</td>\n",
       "    </tr>\n",
       "    <tr>\n",
       "      <th>IČ žadatele</th>\n",
       "      <td>70994234</td>\n",
       "      <td>70994234</td>\n",
       "      <td>70994234</td>\n",
       "    </tr>\n",
       "    <tr>\n",
       "      <th>Hosp.právní forma</th>\n",
       "      <td>Správa žel.dopr.cesty</td>\n",
       "      <td>Správa žel.dopr.cesty</td>\n",
       "      <td>Správa žel.dopr.cesty</td>\n",
       "    </tr>\n",
       "    <tr>\n",
       "      <th>Hosp.právní forma - skupina</th>\n",
       "      <td>Stát a jeho instituce a organizace</td>\n",
       "      <td>Stát a jeho instituce a organizace</td>\n",
       "      <td>Stát a jeho instituce a organizace</td>\n",
       "    </tr>\n",
       "    <tr>\n",
       "      <th>Stav projektu</th>\n",
       "      <td>P7 Výdaje projektu certifikovány</td>\n",
       "      <td>P7 Výdaje projektu certifikovány</td>\n",
       "      <td>P7 Výdaje projektu certifikovány</td>\n",
       "    </tr>\n",
       "    <tr>\n",
       "      <th>Datum podpisu smlouvy/rozhodnutí</th>\n",
       "      <td>2008-07-02 00:00:00</td>\n",
       "      <td>2008-07-02 00:00:00</td>\n",
       "      <td>2008-06-11 00:00:00</td>\n",
       "    </tr>\n",
       "    <tr>\n",
       "      <th>Adresa žadatele</th>\n",
       "      <td>11000 Praha, Dlážděná 1003/7</td>\n",
       "      <td>11000 Praha, Dlážděná 1003/7</td>\n",
       "      <td>11000 Praha, Dlážděná 1003/7</td>\n",
       "    </tr>\n",
       "    <tr>\n",
       "      <th>Kraj žadatele - kód</th>\n",
       "      <td>CZ010</td>\n",
       "      <td>CZ010</td>\n",
       "      <td>CZ010</td>\n",
       "    </tr>\n",
       "    <tr>\n",
       "      <th>Kraj žadatele - název</th>\n",
       "      <td>Hlavní město Praha</td>\n",
       "      <td>Hlavní město Praha</td>\n",
       "      <td>Hlavní město Praha</td>\n",
       "    </tr>\n",
       "    <tr>\n",
       "      <th>Obec žadatele - kód</th>\n",
       "      <td>CZ0100554782</td>\n",
       "      <td>CZ0100554782</td>\n",
       "      <td>CZ0100554782</td>\n",
       "    </tr>\n",
       "    <tr>\n",
       "      <th>Obec žadatele - název</th>\n",
       "      <td>Praha</td>\n",
       "      <td>Praha</td>\n",
       "      <td>Praha</td>\n",
       "    </tr>\n",
       "    <tr>\n",
       "      <th>Celkové zdroje - Sml/Dod</th>\n",
       "      <td>4.04112e+09</td>\n",
       "      <td>1.28206e+09</td>\n",
       "      <td>9.08545e+07</td>\n",
       "    </tr>\n",
       "    <tr>\n",
       "      <th>Rozhodnutí/Smlouva o poskytnutí dotace (celkové zdroje)</th>\n",
       "      <td>3.70623e+09</td>\n",
       "      <td>1.18184e+09</td>\n",
       "      <td>9.08545e+07</td>\n",
       "    </tr>\n",
       "    <tr>\n",
       "      <th>Rozhodnutí/Smlouva o poskytnutí dotace (veřejné prostředky celkem)</th>\n",
       "      <td>2.60026e+09</td>\n",
       "      <td>8.41525e+08</td>\n",
       "      <td>7.3365e+07</td>\n",
       "    </tr>\n",
       "    <tr>\n",
       "      <th>Rozhodnutí/Smlouva o poskytnutí dotace (EU zdroje)</th>\n",
       "      <td>3.65886e+09</td>\n",
       "      <td>1.18184e+09</td>\n",
       "      <td>8.03869e+07</td>\n",
       "    </tr>\n",
       "    <tr>\n",
       "      <th>Proplacené prostředky příjemcům - vyúčtované (veřejné prostředky celkem)</th>\n",
       "      <td>2.56681e+09</td>\n",
       "      <td>8.73972e+08</td>\n",
       "      <td>6.49124e+07</td>\n",
       "    </tr>\n",
       "    <tr>\n",
       "      <th>Proplacené prostředky příjemcům - vyúčtované (EU zdroje)</th>\n",
       "      <td>3.65886e+09</td>\n",
       "      <td>1.18184e+09</td>\n",
       "      <td>8.03869e+07</td>\n",
       "    </tr>\n",
       "    <tr>\n",
       "      <th>Certifikované prostředky (veřejné prostředky celkem)</th>\n",
       "      <td>2.56681e+09</td>\n",
       "      <td>8.73972e+08</td>\n",
       "      <td>6.49124e+07</td>\n",
       "    </tr>\n",
       "    <tr>\n",
       "      <th>Certifikované prostředky (EU zdroje)</th>\n",
       "      <td>CZ0201529303</td>\n",
       "      <td>CZ0311544256</td>\n",
       "      <td>CZ0631568414</td>\n",
       "    </tr>\n",
       "    <tr>\n",
       "      <th>Název NUTS</th>\n",
       "      <td>Benešov</td>\n",
       "      <td>České Budějovice</td>\n",
       "      <td>Havlíčkův Brod</td>\n",
       "    </tr>\n",
       "    <tr>\n",
       "      <th>Pořadí v rámci v projektu (filtr)</th>\n",
       "      <td>1</td>\n",
       "      <td>1</td>\n",
       "      <td>1</td>\n",
       "    </tr>\n",
       "    <tr>\n",
       "      <th>Počet míst realizace</th>\n",
       "      <td>10</td>\n",
       "      <td>16</td>\n",
       "      <td>1</td>\n",
       "    </tr>\n",
       "  </tbody>\n",
       "</table>\n",
       "</div>"
      ],
      "text/plain": [
       "                                                                                                   0   \\\n",
       "Číslo a název programu                                                             CZ.1.01 OP Doprava   \n",
       "Číslo prioritní osy                                                                               1.1   \n",
       "Číslo oblasti podpory                                                                           1.1.1   \n",
       "Číslo projektu                                                                 CZ.1.01/1.1.00/06.0019   \n",
       "Název projektu                                         Optimalizace trati Benešov u Prahy - Strančice   \n",
       "Popis projektu                                      Délka rekonstruovaného úseku je 23,95 km. Stáv...   \n",
       "Žadatel                                             Správa železniční dopravní cesty, státní organ...   \n",
       "IČ žadatele                                                                                  70994234   \n",
       "Hosp.právní forma                                                               Správa žel.dopr.cesty   \n",
       "Hosp.právní forma - skupina                                        Stát a jeho instituce a organizace   \n",
       "Stav projektu                                                        P7 Výdaje projektu certifikovány   \n",
       "Datum podpisu smlouvy/rozhodnutí                                                  2008-07-02 00:00:00   \n",
       "Adresa žadatele                                                          11000 Praha, Dlážděná 1003/7   \n",
       "Kraj žadatele - kód                                                                             CZ010   \n",
       "Kraj žadatele - název                                                              Hlavní město Praha   \n",
       "Obec žadatele - kód                                                                      CZ0100554782   \n",
       "Obec žadatele - název                                                                           Praha   \n",
       "Celkové zdroje - Sml/Dod                                                                  4.04112e+09   \n",
       "Rozhodnutí/Smlouva o poskytnutí dotace (celkové...                                        3.70623e+09   \n",
       "Rozhodnutí/Smlouva o poskytnutí dotace (veřejné...                                        2.60026e+09   \n",
       "Rozhodnutí/Smlouva o poskytnutí dotace (EU zdroje)                                        3.65886e+09   \n",
       "Proplacené prostředky příjemcům - vyúčtované (v...                                        2.56681e+09   \n",
       "Proplacené prostředky příjemcům - vyúčtované (E...                                        3.65886e+09   \n",
       "Certifikované prostředky (veřejné prostředky ce...                                        2.56681e+09   \n",
       "Certifikované prostředky (EU zdroje)                                                     CZ0201529303   \n",
       "Název NUTS                                                                                    Benešov   \n",
       "Pořadí v rámci v projektu (filtr)                                                                   1   \n",
       "Počet míst realizace                                                                               10   \n",
       "\n",
       "                                                                                                   10  \\\n",
       "Číslo a název programu                                                             CZ.1.01 OP Doprava   \n",
       "Číslo prioritní osy                                                                               1.1   \n",
       "Číslo oblasti podpory                                                                           1.1.1   \n",
       "Číslo projektu                                                                 CZ.1.01/1.1.00/07.0006   \n",
       "Název projektu                                      Optimalizace trati Horní Dvořiště st. hranice ...   \n",
       "Popis projektu                                      Vzhledem k již proběhlé částečné optimalizaci ...   \n",
       "Žadatel                                             Správa železniční dopravní cesty, státní organ...   \n",
       "IČ žadatele                                                                                  70994234   \n",
       "Hosp.právní forma                                                               Správa žel.dopr.cesty   \n",
       "Hosp.právní forma - skupina                                        Stát a jeho instituce a organizace   \n",
       "Stav projektu                                                        P7 Výdaje projektu certifikovány   \n",
       "Datum podpisu smlouvy/rozhodnutí                                                  2008-07-02 00:00:00   \n",
       "Adresa žadatele                                                          11000 Praha, Dlážděná 1003/7   \n",
       "Kraj žadatele - kód                                                                             CZ010   \n",
       "Kraj žadatele - název                                                              Hlavní město Praha   \n",
       "Obec žadatele - kód                                                                      CZ0100554782   \n",
       "Obec žadatele - název                                                                           Praha   \n",
       "Celkové zdroje - Sml/Dod                                                                  1.28206e+09   \n",
       "Rozhodnutí/Smlouva o poskytnutí dotace (celkové...                                        1.18184e+09   \n",
       "Rozhodnutí/Smlouva o poskytnutí dotace (veřejné...                                        8.41525e+08   \n",
       "Rozhodnutí/Smlouva o poskytnutí dotace (EU zdroje)                                        1.18184e+09   \n",
       "Proplacené prostředky příjemcům - vyúčtované (v...                                        8.73972e+08   \n",
       "Proplacené prostředky příjemcům - vyúčtované (E...                                        1.18184e+09   \n",
       "Certifikované prostředky (veřejné prostředky ce...                                        8.73972e+08   \n",
       "Certifikované prostředky (EU zdroje)                                                     CZ0311544256   \n",
       "Název NUTS                                                                           České Budějovice   \n",
       "Pořadí v rámci v projektu (filtr)                                                                   1   \n",
       "Počet míst realizace                                                                               16   \n",
       "\n",
       "                                                                                                   26  \n",
       "Číslo a název programu                                                             CZ.1.01 OP Doprava  \n",
       "Číslo prioritní osy                                                                               1.1  \n",
       "Číslo oblasti podpory                                                                           1.1.1  \n",
       "Číslo projektu                                                                 CZ.1.01/1.1.00/07.0015  \n",
       "Název projektu                                      Rekonstrukce kolejí č.1 a 2 v km 224,391-226,0...  \n",
       "Popis projektu                                      V rámci stavby se předpokládá řešit rekonstruk...  \n",
       "Žadatel                                             Správa železniční dopravní cesty, státní organ...  \n",
       "IČ žadatele                                                                                  70994234  \n",
       "Hosp.právní forma                                                               Správa žel.dopr.cesty  \n",
       "Hosp.právní forma - skupina                                        Stát a jeho instituce a organizace  \n",
       "Stav projektu                                                        P7 Výdaje projektu certifikovány  \n",
       "Datum podpisu smlouvy/rozhodnutí                                                  2008-06-11 00:00:00  \n",
       "Adresa žadatele                                                          11000 Praha, Dlážděná 1003/7  \n",
       "Kraj žadatele - kód                                                                             CZ010  \n",
       "Kraj žadatele - název                                                              Hlavní město Praha  \n",
       "Obec žadatele - kód                                                                      CZ0100554782  \n",
       "Obec žadatele - název                                                                           Praha  \n",
       "Celkové zdroje - Sml/Dod                                                                  9.08545e+07  \n",
       "Rozhodnutí/Smlouva o poskytnutí dotace (celkové...                                        9.08545e+07  \n",
       "Rozhodnutí/Smlouva o poskytnutí dotace (veřejné...                                         7.3365e+07  \n",
       "Rozhodnutí/Smlouva o poskytnutí dotace (EU zdroje)                                        8.03869e+07  \n",
       "Proplacené prostředky příjemcům - vyúčtované (v...                                        6.49124e+07  \n",
       "Proplacené prostředky příjemcům - vyúčtované (E...                                        8.03869e+07  \n",
       "Certifikované prostředky (veřejné prostředky ce...                                        6.49124e+07  \n",
       "Certifikované prostředky (EU zdroje)                                                     CZ0631568414  \n",
       "Název NUTS                                                                             Havlíčkův Brod  \n",
       "Pořadí v rámci v projektu (filtr)                                                                   1  \n",
       "Počet míst realizace                                                                                1  "
      ]
     },
     "execution_count": 46,
     "metadata": {},
     "output_type": "execute_result"
    }
   ],
   "source": [
    "df.head(3).T"
   ]
  },
  {
   "cell_type": "markdown",
   "metadata": {},
   "source": [
    "### Další datasety na napojení - veřejné podniky\n",
    "Sice náš MMR dataset obsahuje informace o státních institucích, seznam není kompletní. Podniky s výrazným podílem státu nebo firmy plně vlastněné kraji, obcemi atd., jsou v datasetu často označené jako běžné akciové společnosti.\n",
    "\n",
    "Můžeme ale použít dva datasety of ministerstva financí:\n",
    "- [Seznam vládních institucí v ČR](http://www.mfcr.cz/cs/verejny-sektor/rozpoctove-ramce-statisticke-informace/verejny-sektor/sektor-vladnich-instituci/2016/seznam-vladnich-instituci-v-cr-2016-24749)\n",
    "- [Seznam veřejných společností v ČR](http://www.mfcr.cz/cs/verejny-sektor/rozpoctove-ramce-statisticke-informace/verejny-sektor/verejne-spolecnosti/2016/seznam-verejnych-spolecnosti-v-cr-2016-24752)"
   ]
  },
  {
   "cell_type": "code",
   "execution_count": 322,
   "metadata": {
    "collapsed": true
   },
   "outputs": [],
   "source": [
    "url = 'http://www.mfcr.cz/assets/cs/media/Rozp-ramce-EU-85-2011_2016_Seznam-verejnych-spolecnosti-v-CR.xlsx'\n",
    "fn = 'vstupy/verejne-instituce.xlsx'\n",
    "\n",
    "if not os.path.exists(fn):\n",
    "    urllib.request.urlretrieve(url, fn)\n",
    "    \n",
    "url = 'http://www.mfcr.cz/assets/cs/media/Rozp-ramce-EU-85-2011_2016_Seznam-vladnich-instituci-v-CR.xls'\n",
    "fn = 'vstupy/vladni-instituce.xls'\n",
    "\n",
    "if not os.path.exists(fn):\n",
    "    urllib.request.urlretrieve(url, fn)"
   ]
  },
  {
   "cell_type": "code",
   "execution_count": 327,
   "metadata": {
    "collapsed": false
   },
   "outputs": [
    {
     "data": {
      "text/html": [
       "<div>\n",
       "<table border=\"1\" class=\"dataframe\">\n",
       "  <thead>\n",
       "    <tr style=\"text-align: right;\">\n",
       "      <th></th>\n",
       "      <th>IČO</th>\n",
       "      <th>NÁZEV</th>\n",
       "      <th>DATUM VZNIKU</th>\n",
       "      <th>FORMA</th>\n",
       "      <th>NACE</th>\n",
       "      <th>SUBSEKTOR</th>\n",
       "    </tr>\n",
       "  </thead>\n",
       "  <tbody>\n",
       "    <tr>\n",
       "      <th>0</th>\n",
       "      <td>46967036</td>\n",
       "      <td>JUPITER club, s.r.o.</td>\n",
       "      <td>1992-08-03</td>\n",
       "      <td>112</td>\n",
       "      <td>90040</td>\n",
       "      <td>11001</td>\n",
       "    </tr>\n",
       "    <tr>\n",
       "      <th>1</th>\n",
       "      <td>48909467</td>\n",
       "      <td>Služby města Konice, spol. s r.o.</td>\n",
       "      <td>1993-08-18</td>\n",
       "      <td>112</td>\n",
       "      <td>38110</td>\n",
       "      <td>11001</td>\n",
       "    </tr>\n",
       "    <tr>\n",
       "      <th>2</th>\n",
       "      <td>25013599</td>\n",
       "      <td>TS HRÁDEK s.r.o.</td>\n",
       "      <td>1996-12-19</td>\n",
       "      <td>112</td>\n",
       "      <td>38110</td>\n",
       "      <td>11001</td>\n",
       "    </tr>\n",
       "    <tr>\n",
       "      <th>3</th>\n",
       "      <td>25013866</td>\n",
       "      <td>Klášterecká kyselka, s.r.o.</td>\n",
       "      <td>1996-12-31</td>\n",
       "      <td>112</td>\n",
       "      <td>47190</td>\n",
       "      <td>11001</td>\n",
       "    </tr>\n",
       "    <tr>\n",
       "      <th>4</th>\n",
       "      <td>25020307</td>\n",
       "      <td>Podnik služeb Jirkov s.r.o.</td>\n",
       "      <td>1997-05-06</td>\n",
       "      <td>112</td>\n",
       "      <td>81290</td>\n",
       "      <td>11001</td>\n",
       "    </tr>\n",
       "  </tbody>\n",
       "</table>\n",
       "</div>"
      ],
      "text/plain": [
       "        IČO                              NÁZEV DATUM VZNIKU   FORMA   NACE  \\\n",
       "0  46967036               JUPITER club, s.r.o.    1992-08-03    112  90040   \n",
       "1  48909467  Služby města Konice, spol. s r.o.    1993-08-18    112  38110   \n",
       "2  25013599                   TS HRÁDEK s.r.o.    1996-12-19    112  38110   \n",
       "3  25013866        Klášterecká kyselka, s.r.o.    1996-12-31    112  47190   \n",
       "4  25020307        Podnik služeb Jirkov s.r.o.    1997-05-06    112  81290   \n",
       "\n",
       "   SUBSEKTOR  \n",
       "0      11001  \n",
       "1      11001  \n",
       "2      11001  \n",
       "3      11001  \n",
       "4      11001  "
      ]
     },
     "execution_count": 327,
     "metadata": {},
     "output_type": "execute_result"
    }
   ],
   "source": [
    "ver = pd.read_excel('vstupy/verejne-instituce.xlsx', skiprows=4)\n",
    "ver = ver.iloc[:, 1:]\n",
    "ver.head(5)"
   ]
  },
  {
   "cell_type": "code",
   "execution_count": 328,
   "metadata": {
    "collapsed": false
   },
   "outputs": [
    {
     "data": {
      "text/html": [
       "<div>\n",
       "<table border=\"1\" class=\"dataframe\">\n",
       "  <thead>\n",
       "    <tr style=\"text-align: right;\">\n",
       "      <th></th>\n",
       "      <th>IČO</th>\n",
       "      <th>NÁZEV</th>\n",
       "      <th>DATUM VZNIKU</th>\n",
       "      <th>FORMA</th>\n",
       "      <th>NACE</th>\n",
       "      <th>COFOG</th>\n",
       "      <th>SUBSEKTOR</th>\n",
       "    </tr>\n",
       "  </thead>\n",
       "  <tbody>\n",
       "    <tr>\n",
       "      <th>0</th>\n",
       "      <td>26925974</td>\n",
       "      <td>Nemocnice Boskovice s.r.o</td>\n",
       "      <td>2004-04-22</td>\n",
       "      <td>112</td>\n",
       "      <td>86100</td>\n",
       "      <td>NaN</td>\n",
       "      <td>13130</td>\n",
       "    </tr>\n",
       "    <tr>\n",
       "      <th>1</th>\n",
       "      <td>3960765</td>\n",
       "      <td>Lesy Drmoul s.r.o.</td>\n",
       "      <td>2015-04-03</td>\n",
       "      <td>112</td>\n",
       "      <td>2100</td>\n",
       "      <td>NaN</td>\n",
       "      <td>13130</td>\n",
       "    </tr>\n",
       "    <tr>\n",
       "      <th>2</th>\n",
       "      <td>27577708</td>\n",
       "      <td>Divadla Kladno s.r.o.</td>\n",
       "      <td>2006-08-02</td>\n",
       "      <td>112</td>\n",
       "      <td>90020</td>\n",
       "      <td>NaN</td>\n",
       "      <td>13130</td>\n",
       "    </tr>\n",
       "    <tr>\n",
       "      <th>3</th>\n",
       "      <td>26076357</td>\n",
       "      <td>Strakonická televize, s.r.o.</td>\n",
       "      <td>2004-07-10</td>\n",
       "      <td>112</td>\n",
       "      <td>60200</td>\n",
       "      <td>NaN</td>\n",
       "      <td>13130</td>\n",
       "    </tr>\n",
       "    <tr>\n",
       "      <th>4</th>\n",
       "      <td>4510984</td>\n",
       "      <td>Pošumavská odpadová, s.r.o.</td>\n",
       "      <td>2015-10-26</td>\n",
       "      <td>112</td>\n",
       "      <td>38</td>\n",
       "      <td>NaN</td>\n",
       "      <td>13130</td>\n",
       "    </tr>\n",
       "  </tbody>\n",
       "</table>\n",
       "</div>"
      ],
      "text/plain": [
       "        IČO                         NÁZEV DATUM VZNIKU  FORMA   NACE  COFOG  \\\n",
       "0  26925974     Nemocnice Boskovice s.r.o   2004-04-22    112  86100    NaN   \n",
       "1   3960765            Lesy Drmoul s.r.o.   2015-04-03    112   2100    NaN   \n",
       "2  27577708         Divadla Kladno s.r.o.   2006-08-02    112  90020    NaN   \n",
       "3  26076357  Strakonická televize, s.r.o.   2004-07-10    112  60200    NaN   \n",
       "4   4510984   Pošumavská odpadová, s.r.o.   2015-10-26    112     38    NaN   \n",
       "\n",
       "   SUBSEKTOR  \n",
       "0      13130  \n",
       "1      13130  \n",
       "2      13130  \n",
       "3      13130  \n",
       "4      13130  "
      ]
     },
     "execution_count": 328,
     "metadata": {},
     "output_type": "execute_result"
    }
   ],
   "source": [
    "vlad = pd.read_excel('vstupy/vladni-instituce.xls', skiprows=4)\n",
    "vlad = vlad.iloc[:, 1:]\n",
    "vlad.head(5)"
   ]
  },
  {
   "cell_type": "code",
   "execution_count": 336,
   "metadata": {
    "collapsed": false
   },
   "outputs": [
    {
     "data": {
      "text/plain": [
       "(1172, 18117)"
      ]
     },
     "execution_count": 336,
     "metadata": {},
     "output_type": "execute_result"
    }
   ],
   "source": [
    "len(ver), len(vlad)"
   ]
  },
  {
   "cell_type": "code",
   "execution_count": 358,
   "metadata": {
    "collapsed": false
   },
   "outputs": [],
   "source": [
    "vvico = list(ver.loc[:, 'IČO'].values) + list(vlad.loc[:, 'IČO'].values)\n",
    "vvico = [str(l).rjust(8, '0') for l in vvico]\n",
    "vvico = set(vvico)"
   ]
  },
  {
   "cell_type": "code",
   "execution_count": null,
   "metadata": {
    "collapsed": true
   },
   "outputs": [],
   "source": []
  },
  {
   "cell_type": "code",
   "execution_count": null,
   "metadata": {
    "collapsed": true
   },
   "outputs": [],
   "source": []
  },
  {
   "cell_type": "markdown",
   "metadata": {},
   "source": [
    "## První prohrab"
   ]
  },
  {
   "cell_type": "markdown",
   "metadata": {},
   "source": [
    "Hlavní přídavek oproti předchozímu datasetu je přítomnost klasifikací dle pravních forem."
   ]
  },
  {
   "cell_type": "code",
   "execution_count": 47,
   "metadata": {
    "collapsed": false
   },
   "outputs": [
    {
     "data": {
      "text/plain": [
       "array(['Správa žel.dopr.cesty',\n",
       "       'Správa železniční dopravní cesty, státní organizace',\n",
       "       'Společnost s r.o.', 'Akciová společnost', 'Příspěvková organizace',\n",
       "       'Státní příspěvková organizace', 'Kraj', 'Dobrovolný svazek obcí',\n",
       "       'Obec nebo m.část hl.m.', 'Org. složka státu'], dtype=object)"
      ]
     },
     "execution_count": 47,
     "metadata": {},
     "output_type": "execute_result"
    }
   ],
   "source": [
    "df.loc[:, prfo].unique()[:10]"
   ]
  },
  {
   "cell_type": "markdown",
   "metadata": {},
   "source": [
    "Ty jsou seskupené do skupin. Nejvíc projektů (ne nutně peněz) připadá na obce."
   ]
  },
  {
   "cell_type": "code",
   "execution_count": 48,
   "metadata": {
    "collapsed": false
   },
   "outputs": [
    {
     "data": {
      "text/plain": [
       "Obce                                   25192\n",
       "Podnikatelské subjekty                 22118\n",
       "Ostatní                                15068\n",
       "Komory, profesní a zájmové sdružení     3221\n",
       "Stát a jeho instituce a organizace      2542\n",
       "Neziskový sektor                        1601\n",
       "Kraje                                   1584\n",
       "Vzdělávací a výzkumné instituce         1550\n",
       "Name: Hosp.právní forma - skupina, dtype: int64"
      ]
     },
     "execution_count": 48,
     "metadata": {},
     "output_type": "execute_result"
    }
   ],
   "source": [
    "df.loc[:, prfos].value_counts()"
   ]
  },
  {
   "cell_type": "code",
   "execution_count": null,
   "metadata": {
    "collapsed": true
   },
   "outputs": [],
   "source": []
  },
  {
   "cell_type": "code",
   "execution_count": null,
   "metadata": {
    "collapsed": true
   },
   "outputs": [],
   "source": []
  },
  {
   "cell_type": "code",
   "execution_count": null,
   "metadata": {
    "collapsed": true
   },
   "outputs": [],
   "source": []
  },
  {
   "cell_type": "markdown",
   "metadata": {},
   "source": [
    "## Očista"
   ]
  },
  {
   "cell_type": "markdown",
   "metadata": {},
   "source": [
    "### Duplikované skupiny"
   ]
  },
  {
   "cell_type": "code",
   "execution_count": 86,
   "metadata": {
    "collapsed": true
   },
   "outputs": [],
   "source": [
    "df.loc[:, prfo] = df.loc[:, prfo].replace('Společen.vlast.jednot.', 'Společenství vlastníků jednotek')\n",
    "df.loc[:, prfo] = df.loc[:, prfo].replace('Reg.rada regionu soudr.', 'Regionální rada regionu soudržnosti')"
   ]
  },
  {
   "cell_type": "code",
   "execution_count": 95,
   "metadata": {
    "collapsed": true
   },
   "outputs": [],
   "source": [
    "df.loc[:, prfo] = df.loc[:, prfo].replace('Vysoká škola (veřejná, státní)', 'Vysoká škola')"
   ]
  },
  {
   "cell_type": "code",
   "execution_count": 96,
   "metadata": {
    "collapsed": false
   },
   "outputs": [],
   "source": [
    "# df.loc[df.loc[:, prfo].str.contains('Vysok'), prfo].unique()"
   ]
  },
  {
   "cell_type": "code",
   "execution_count": 102,
   "metadata": {
    "collapsed": true
   },
   "outputs": [],
   "source": [
    "df.loc[:, prfo] = df.loc[:, prfo].replace('Příspěvková organizace', 'Státní příspěvková organizace')"
   ]
  },
  {
   "cell_type": "code",
   "execution_count": 289,
   "metadata": {
    "collapsed": true
   },
   "outputs": [],
   "source": [
    "df.loc[:, prfo] = df.loc[:, prfo].replace('Veř. výzkumná instituce', 'Veřejná výzkumná instituce')"
   ]
  },
  {
   "cell_type": "markdown",
   "metadata": {},
   "source": [
    "### Veřejné instituce\n",
    "Čtyři skupiny institucí patří mezi veřejné - obce, kraje, stát, vzdělávací a výzkumné instituce."
   ]
  },
  {
   "cell_type": "code",
   "execution_count": 97,
   "metadata": {
    "collapsed": false
   },
   "outputs": [],
   "source": [
    "erar = 'veřejná instituce'\n",
    "df.loc[:, erar] = False\n",
    "df.loc[df.loc[:, prfos].isin(['Obce', 'Kraje', 'Stát a jeho instituce a organizace', 'Vzdělávací a výzkumné instituce']), erar] = True"
   ]
  },
  {
   "cell_type": "markdown",
   "metadata": {},
   "source": [
    "...ale v 'Ostatní' je i několik skupin, které jsou veřejné."
   ]
  },
  {
   "cell_type": "code",
   "execution_count": 103,
   "metadata": {
    "collapsed": false
   },
   "outputs": [
    {
     "data": {
      "text/plain": [
       "['Státní příspěvková organizace',\n",
       " 'Příspěvková organizace zřízená územním samosprávným celkem',\n",
       " 'Fyzická osoba nepodnikající dle Živnost. zákona a nezapsaná v OR',\n",
       " 'Ústav',\n",
       " 'Odštěp.záv.zaps.v ob.r.',\n",
       " 'Společenství vlastníků jednotek',\n",
       " 'Regionální rada regionu soudržnosti',\n",
       " 'Zatím neurčeno']"
      ]
     },
     "execution_count": 103,
     "metadata": {},
     "output_type": "execute_result"
    }
   ],
   "source": [
    "list(df.loc[df.loc[:, prfos] == 'Ostatní', prfo].unique())"
   ]
  },
  {
   "cell_type": "code",
   "execution_count": 112,
   "metadata": {
    "collapsed": false
   },
   "outputs": [],
   "source": [
    "df.loc[df.loc[:, prfo].isin(['Státní příspěvková organizace',\n",
    " 'Příspěvková organizace zřízená územním samosprávným celkem',\n",
    " 'Regionální rada regionu soudržnosti']), erar] = True"
   ]
  },
  {
   "cell_type": "markdown",
   "metadata": {},
   "source": [
    "Taky je pár veřejných institucí mezi žadateli, kteří nemají hlavní nadskupinu."
   ]
  },
  {
   "cell_type": "code",
   "execution_count": 292,
   "metadata": {
    "collapsed": false
   },
   "outputs": [
    {
     "data": {
      "text/plain": [
       "array(['Veřejná výzkumná instituce', 'Školská právnická osoba',\n",
       "       'Evropská společnost',\n",
       "       'Odborová organizace a organizace zaměstnavatelů', 'Ostatní',\n",
       "       'Zem.podnik.FO nez.v OR'], dtype=object)"
      ]
     },
     "execution_count": 292,
     "metadata": {},
     "output_type": "execute_result"
    }
   ],
   "source": [
    "df.loc[df.loc[:, prfos].isnull(),prfo].unique()[:6]"
   ]
  },
  {
   "cell_type": "code",
   "execution_count": 299,
   "metadata": {
    "collapsed": false
   },
   "outputs": [],
   "source": [
    "df.loc[df.loc[:,prfo].isin(['Veřejná výzkumná instituce', 'Školská právnická osoba']), erar] = True"
   ]
  },
  {
   "cell_type": "markdown",
   "metadata": {},
   "source": [
    "Poslední zdroj informací budou ty dva datasety of MFČR, které jsme načetli výše. Projdeme tedy podniky, které jsou označené jako soukromé a podíváme se, jestli jeji IČO není v těch dvou datasetech."
   ]
  },
  {
   "cell_type": "code",
   "execution_count": 382,
   "metadata": {
    "collapsed": false
   },
   "outputs": [],
   "source": [
    "dd = df.loc[df.loc[:,erar] == False, [ico, erar]]\n",
    "for j in dd.iterrows():\n",
    "    if j[1].loc[ico] not in vvico: continue\n",
    "    df.loc[j[0], erar] = True"
   ]
  },
  {
   "cell_type": "markdown",
   "metadata": {},
   "source": [
    "### EIB\n",
    "Poslední výjimka, v datech je pod IČO 00000000 Evropská investiční banka, EIB. Tak ji přepneme do veřejných."
   ]
  },
  {
   "cell_type": "code",
   "execution_count": 400,
   "metadata": {
    "collapsed": false,
    "scrolled": true
   },
   "outputs": [
    {
     "data": {
      "text/html": [
       "<div>\n",
       "<table border=\"1\" class=\"dataframe\">\n",
       "  <thead>\n",
       "    <tr style=\"text-align: right;\">\n",
       "      <th></th>\n",
       "      <th>Číslo a název programu</th>\n",
       "      <th>Číslo prioritní osy</th>\n",
       "      <th>Číslo oblasti podpory</th>\n",
       "      <th>Číslo projektu</th>\n",
       "      <th>Název projektu</th>\n",
       "      <th>Popis projektu</th>\n",
       "      <th>Žadatel</th>\n",
       "      <th>IČ žadatele</th>\n",
       "      <th>Hosp.právní forma</th>\n",
       "      <th>Hosp.právní forma - skupina</th>\n",
       "      <th>...</th>\n",
       "      <th>Rozhodnutí/Smlouva o poskytnutí dotace (EU zdroje)</th>\n",
       "      <th>Proplacené prostředky příjemcům - vyúčtované (veřejné prostředky celkem)</th>\n",
       "      <th>Proplacené prostředky příjemcům - vyúčtované (EU zdroje)</th>\n",
       "      <th>Certifikované prostředky (veřejné prostředky celkem)</th>\n",
       "      <th>Certifikované prostředky (EU zdroje)</th>\n",
       "      <th>Název NUTS</th>\n",
       "      <th>Pořadí v rámci v projektu (filtr)</th>\n",
       "      <th>Počet míst realizace</th>\n",
       "      <th>veřejná instituce</th>\n",
       "      <th>poměr vlastních financí (0-1)</th>\n",
       "    </tr>\n",
       "  </thead>\n",
       "  <tbody>\n",
       "    <tr>\n",
       "      <th>100818</th>\n",
       "      <td>CZ.1.10 ROP NUTS II Moravskoslezsko</td>\n",
       "      <td>10.2</td>\n",
       "      <td>10.2.3</td>\n",
       "      <td>CZ.1.10/2.3.00/02.00976</td>\n",
       "      <td>JESSICA Holdingový fond Moravskoslezsko</td>\n",
       "      <td>Evidence financování JESSICA Holdingového fond...</td>\n",
       "      <td>Evropská investiční banka</td>\n",
       "      <td>00000000</td>\n",
       "      <td>Zahraniční osoba</td>\n",
       "      <td>Podnikatelské subjekty</td>\n",
       "      <td>...</td>\n",
       "      <td>506920000.0</td>\n",
       "      <td>430882000.0</td>\n",
       "      <td>506920000.0</td>\n",
       "      <td>430882000.0</td>\n",
       "      <td>CZ0802598003</td>\n",
       "      <td>Frýdek-Místek</td>\n",
       "      <td>1.0</td>\n",
       "      <td>5.0</td>\n",
       "      <td>False</td>\n",
       "      <td>0.0</td>\n",
       "    </tr>\n",
       "  </tbody>\n",
       "</table>\n",
       "<p>1 rows × 30 columns</p>\n",
       "</div>"
      ],
      "text/plain": [
       "                     Číslo a název programu Číslo prioritní osy  \\\n",
       "100818  CZ.1.10 ROP NUTS II Moravskoslezsko                10.2   \n",
       "\n",
       "       Číslo oblasti podpory           Číslo projektu  \\\n",
       "100818                10.2.3  CZ.1.10/2.3.00/02.00976   \n",
       "\n",
       "                                 Název projektu  \\\n",
       "100818  JESSICA Holdingový fond Moravskoslezsko   \n",
       "\n",
       "                                           Popis projektu  \\\n",
       "100818  Evidence financování JESSICA Holdingového fond...   \n",
       "\n",
       "                          Žadatel IČ žadatele Hosp.právní forma  \\\n",
       "100818  Evropská investiční banka    00000000  Zahraniční osoba   \n",
       "\n",
       "       Hosp.právní forma - skupina              ...                \\\n",
       "100818      Podnikatelské subjekty              ...                 \n",
       "\n",
       "       Rozhodnutí/Smlouva o poskytnutí dotace (EU zdroje)  \\\n",
       "100818                                        506920000.0   \n",
       "\n",
       "       Proplacené prostředky příjemcům - vyúčtované (veřejné prostředky celkem)  \\\n",
       "100818                                        430882000.0                         \n",
       "\n",
       "       Proplacené prostředky příjemcům - vyúčtované (EU zdroje)  \\\n",
       "100818                                        506920000.0         \n",
       "\n",
       "       Certifikované prostředky (veřejné prostředky celkem)  \\\n",
       "100818                                        430882000.0     \n",
       "\n",
       "       Certifikované prostředky (EU zdroje)     Název NUTS  \\\n",
       "100818                         CZ0802598003  Frýdek-Místek   \n",
       "\n",
       "       Pořadí v rámci v projektu (filtr)  Počet míst realizace  \\\n",
       "100818                               1.0                   5.0   \n",
       "\n",
       "        veřejná instituce  poměr vlastních financí (0-1)  \n",
       "100818              False                            0.0  \n",
       "\n",
       "[1 rows x 30 columns]"
      ]
     },
     "execution_count": 400,
     "metadata": {},
     "output_type": "execute_result"
    }
   ],
   "source": [
    "df.loc[df.loc[:, ico] == '00000000']"
   ]
  },
  {
   "cell_type": "code",
   "execution_count": 401,
   "metadata": {
    "collapsed": true
   },
   "outputs": [],
   "source": [
    "df.loc[df.loc[:, ico] == '00000000', erar] = True"
   ]
  },
  {
   "cell_type": "markdown",
   "metadata": {},
   "source": [
    "### Kofinancování"
   ]
  },
  {
   "cell_type": "code",
   "execution_count": 50,
   "metadata": {
    "collapsed": false
   },
   "outputs": [],
   "source": [
    "kofi = 'poměr vlastních financí (0-1)'\n",
    "df.loc[:, kofi] = np.nan\n",
    "fr = 1-df.loc[:, euz] / df.loc[:, celk]\n",
    "\n",
    "fr = fr[fr >= 0] # mám pocit že u těch českopolských projektů je celková cena v eurech, ale dotace v korunách (a zlotých)\n",
    "df.loc[fr.index, kofi] = fr.values"
   ]
  },
  {
   "cell_type": "markdown",
   "metadata": {},
   "source": [
    "### Čištění o.p.s."
   ]
  },
  {
   "cell_type": "markdown",
   "metadata": {},
   "source": [
    "ops bylo někde špatně"
   ]
  },
  {
   "cell_type": "code",
   "execution_count": 51,
   "metadata": {
    "collapsed": true
   },
   "outputs": [],
   "source": [
    "df.loc[:, prfo] = df.loc[:, prfo].replace('Obecně prospěšná spol.', 'Obecně prospěšná společnost')"
   ]
  },
  {
   "cell_type": "markdown",
   "metadata": {},
   "source": [
    "### Negativní dotace"
   ]
  },
  {
   "cell_type": "markdown",
   "metadata": {},
   "source": [
    "**Negativní dotace.** Nezkoumal sem, jestli chyba nebo pokuta nebo co."
   ]
  },
  {
   "cell_type": "code",
   "execution_count": 119,
   "metadata": {
    "collapsed": false,
    "scrolled": false
   },
   "outputs": [
    {
     "data": {
      "text/html": [
       "<div>\n",
       "<table border=\"1\" class=\"dataframe\">\n",
       "  <thead>\n",
       "    <tr style=\"text-align: right;\">\n",
       "      <th></th>\n",
       "      <th>Žadatel</th>\n",
       "      <th>Rozhodnutí/Smlouva o poskytnutí dotace (EU zdroje)</th>\n",
       "    </tr>\n",
       "  </thead>\n",
       "  <tbody>\n",
       "    <tr>\n",
       "      <th>79295</th>\n",
       "      <td>Odborná střední škola podnikatelská Kolín s.r.o.</td>\n",
       "      <td>-5.820766e-11</td>\n",
       "    </tr>\n",
       "    <tr>\n",
       "      <th>112983</th>\n",
       "      <td>AAA BYTY.CZ akciová společnost</td>\n",
       "      <td>-2.849530e+05</td>\n",
       "    </tr>\n",
       "  </tbody>\n",
       "</table>\n",
       "</div>"
      ],
      "text/plain": [
       "                                                 Žadatel  \\\n",
       "79295   Odborná střední škola podnikatelská Kolín s.r.o.   \n",
       "112983                    AAA BYTY.CZ akciová společnost   \n",
       "\n",
       "        Rozhodnutí/Smlouva o poskytnutí dotace (EU zdroje)  \n",
       "79295                                       -5.820766e-11   \n",
       "112983                                      -2.849530e+05   "
      ]
     },
     "execution_count": 119,
     "metadata": {},
     "output_type": "execute_result"
    }
   ],
   "source": [
    "df.loc[df.loc[:, euz]<0, [zad, euz]]"
   ]
  },
  {
   "cell_type": "markdown",
   "metadata": {},
   "source": [
    "### Duplikovaní žadatelé\n",
    "Máme víc žadatelů než IČO."
   ]
  },
  {
   "cell_type": "code",
   "execution_count": 121,
   "metadata": {
    "collapsed": false
   },
   "outputs": [
    {
     "name": "stdout",
     "output_type": "stream",
     "text": [
      "26944\n",
      "24847\n"
     ]
    }
   ],
   "source": [
    "print(len(df.loc[:, zad].unique()))\n",
    "\n",
    "\n",
    "print(len(df.loc[:, ico].unique()))"
   ]
  },
  {
   "cell_type": "code",
   "execution_count": 145,
   "metadata": {
    "collapsed": false
   },
   "outputs": [
    {
     "data": {
      "text/html": [
       "<div>\n",
       "<table border=\"1\" class=\"dataframe\">\n",
       "  <thead>\n",
       "    <tr style=\"text-align: right;\">\n",
       "      <th></th>\n",
       "      <th>Žadatel</th>\n",
       "      <th>IČ žadatele</th>\n",
       "    </tr>\n",
       "  </thead>\n",
       "  <tbody>\n",
       "    <tr>\n",
       "      <th>0</th>\n",
       "      <td>Dolnośląski Urząd Wojewódzki we Wrocławiu</td>\n",
       "      <td>000 514 3</td>\n",
       "    </tr>\n",
       "    <tr>\n",
       "      <th>1</th>\n",
       "      <td>Evropská investiční banka</td>\n",
       "      <td>00000000</td>\n",
       "    </tr>\n",
       "    <tr>\n",
       "      <th>2</th>\n",
       "      <td>Uniwersytet Śląski w Katowicach</td>\n",
       "      <td>000001347</td>\n",
       "    </tr>\n",
       "  </tbody>\n",
       "</table>\n",
       "</div>"
      ],
      "text/plain": [
       "                                     Žadatel IČ žadatele\n",
       "0  Dolnośląski Urząd Wojewódzki we Wrocławiu   000 514 3\n",
       "1                  Evropská investiční banka    00000000\n",
       "2            Uniwersytet Śląski w Katowicach   000001347"
      ]
     },
     "execution_count": 145,
     "metadata": {},
     "output_type": "execute_result"
    }
   ],
   "source": [
    "dd = df.loc[:, [zad,ico]].drop_duplicates().sort_values(by=ico)\n",
    "dd.index = range(len(dd))\n",
    "dd.head(3)"
   ]
  },
  {
   "cell_type": "code",
   "execution_count": null,
   "metadata": {
    "collapsed": true
   },
   "outputs": [],
   "source": []
  },
  {
   "cell_type": "code",
   "execution_count": 185,
   "metadata": {
    "collapsed": false
   },
   "outputs": [
    {
     "data": {
      "text/plain": [
       "(28776, 2)"
      ]
     },
     "execution_count": 185,
     "metadata": {},
     "output_type": "execute_result"
    }
   ],
   "source": [
    "df.loc[:, [zad, ico]].drop_duplicates().shape"
   ]
  },
  {
   "cell_type": "code",
   "execution_count": 230,
   "metadata": {
    "collapsed": true
   },
   "outputs": [],
   "source": [
    "?dd.dropna()"
   ]
  },
  {
   "cell_type": "code",
   "execution_count": 234,
   "metadata": {
    "collapsed": false,
    "scrolled": true
   },
   "outputs": [
    {
     "data": {
      "text/html": [
       "<div>\n",
       "<table border=\"1\" class=\"dataframe\">\n",
       "  <thead>\n",
       "    <tr style=\"text-align: right;\">\n",
       "      <th></th>\n",
       "      <th>Žadatel</th>\n",
       "      <th>IČ žadatele</th>\n",
       "    </tr>\n",
       "  </thead>\n",
       "  <tbody>\n",
       "    <tr>\n",
       "      <th>1487</th>\n",
       "      <td>NaN</td>\n",
       "      <td>NaN</td>\n",
       "    </tr>\n",
       "    <tr>\n",
       "      <th>21377</th>\n",
       "      <td>Českomoravská záruční a rozvojová banka, a.s.</td>\n",
       "      <td>NaN</td>\n",
       "    </tr>\n",
       "    <tr>\n",
       "      <th>27914</th>\n",
       "      <td>Agentura pro podporu podnikání a investic Czec...</td>\n",
       "      <td>NaN</td>\n",
       "    </tr>\n",
       "    <tr>\n",
       "      <th>31744</th>\n",
       "      <td>Ministerstvo průmyslu a obchodu ČR</td>\n",
       "      <td>NaN</td>\n",
       "    </tr>\n",
       "    <tr>\n",
       "      <th>34907</th>\n",
       "      <td>Česká agentura na podporu obchodu/CzechTrade</td>\n",
       "      <td>NaN</td>\n",
       "    </tr>\n",
       "    <tr>\n",
       "      <th>42486</th>\n",
       "      <td>Zaměstnavatelský svaz důlního a naftového prům...</td>\n",
       "      <td>NaN</td>\n",
       "    </tr>\n",
       "    <tr>\n",
       "      <th>56143</th>\n",
       "      <td>OBEC KOSTELEC U HOLEŠOVA</td>\n",
       "      <td>NaN</td>\n",
       "    </tr>\n",
       "    <tr>\n",
       "      <th>56144</th>\n",
       "      <td>OBEC CHOMÝŽ</td>\n",
       "      <td>NaN</td>\n",
       "    </tr>\n",
       "    <tr>\n",
       "      <th>60812</th>\n",
       "      <td>STATUTÁRNÍ MĚSTO MOST</td>\n",
       "      <td>NaN</td>\n",
       "    </tr>\n",
       "    <tr>\n",
       "      <th>60817</th>\n",
       "      <td>OBEC RŮŽOVÁ</td>\n",
       "      <td>NaN</td>\n",
       "    </tr>\n",
       "  </tbody>\n",
       "</table>\n",
       "</div>"
      ],
      "text/plain": [
       "                                                 Žadatel IČ žadatele\n",
       "1487                                                 NaN         NaN\n",
       "21377      Českomoravská záruční a rozvojová banka, a.s.         NaN\n",
       "27914  Agentura pro podporu podnikání a investic Czec...         NaN\n",
       "31744                 Ministerstvo průmyslu a obchodu ČR         NaN\n",
       "34907       Česká agentura na podporu obchodu/CzechTrade         NaN\n",
       "42486  Zaměstnavatelský svaz důlního a naftového prům...         NaN\n",
       "56143                           OBEC KOSTELEC U HOLEŠOVA         NaN\n",
       "56144                                        OBEC CHOMÝŽ         NaN\n",
       "60812                              STATUTÁRNÍ MĚSTO MOST         NaN\n",
       "60817                                        OBEC RŮŽOVÁ         NaN"
      ]
     },
     "execution_count": 234,
     "metadata": {},
     "output_type": "execute_result"
    }
   ],
   "source": [
    "dd = df.loc[:, [zad, ico]].drop_duplicates()\n",
    "dd = dd.loc[dd.duplicated(subset=ico, keep=False)].sort_values(by=ico)\n",
    "dd.head(10)"
   ]
  },
  {
   "cell_type": "markdown",
   "metadata": {},
   "source": [
    "Můžem nahradit duplikovaný názvy."
   ]
  },
  {
   "cell_type": "code",
   "execution_count": 217,
   "metadata": {
    "collapsed": false
   },
   "outputs": [],
   "source": [
    "for j in dd.drop_duplicates(subset=ico).iterrows():\n",
    "    df.loc[df.loc[:, ico] == j[1].loc[ico], zad] = j[1].loc[zad]"
   ]
  },
  {
   "cell_type": "markdown",
   "metadata": {},
   "source": [
    "**Furt nějaký zbývaj**"
   ]
  },
  {
   "cell_type": "code",
   "execution_count": 249,
   "metadata": {
    "collapsed": false
   },
   "outputs": [
    {
     "name": "stdout",
     "output_type": "stream",
     "text": [
      "24570\n",
      "24847\n"
     ]
    }
   ],
   "source": [
    "print(len(df.loc[:, zad].unique()))\n",
    "\n",
    "print(len(df.loc[:, ico].unique()))"
   ]
  },
  {
   "cell_type": "markdown",
   "metadata": {},
   "source": [
    "Bude možná tím, že v datech jsou mezery."
   ]
  },
  {
   "cell_type": "code",
   "execution_count": null,
   "metadata": {
    "collapsed": true
   },
   "outputs": [],
   "source": []
  },
  {
   "cell_type": "markdown",
   "metadata": {},
   "source": [
    "## Operační programy"
   ]
  },
  {
   "cell_type": "code",
   "execution_count": 253,
   "metadata": {
    "collapsed": false
   },
   "outputs": [
    {
     "data": {
      "text/html": [
       "<div>\n",
       "<table border=\"1\" class=\"dataframe\">\n",
       "  <thead>\n",
       "    <tr>\n",
       "      <th></th>\n",
       "      <th colspan=\"2\" halign=\"left\">Rozhodnutí/Smlouva o poskytnutí dotace (EU zdroje)</th>\n",
       "    </tr>\n",
       "    <tr>\n",
       "      <th>veřejná instituce</th>\n",
       "      <th>False</th>\n",
       "      <th>True</th>\n",
       "    </tr>\n",
       "    <tr>\n",
       "      <th>Číslo a název programu</th>\n",
       "      <th></th>\n",
       "      <th></th>\n",
       "    </tr>\n",
       "  </thead>\n",
       "  <tbody>\n",
       "    <tr>\n",
       "      <th>CZ.1.01 OP Doprava</th>\n",
       "      <td>10046.0</td>\n",
       "      <td>181245.0</td>\n",
       "    </tr>\n",
       "    <tr>\n",
       "      <th>CZ.1.02 OP Životní prostředí</th>\n",
       "      <td>36494.0</td>\n",
       "      <td>107551.0</td>\n",
       "    </tr>\n",
       "    <tr>\n",
       "      <th>CZ.1.03 OP Podnikání a inovace</th>\n",
       "      <td>94114.0</td>\n",
       "      <td>5062.0</td>\n",
       "    </tr>\n",
       "    <tr>\n",
       "      <th>CZ.1.04 OP Lidské zdroje a zaměstnanost</th>\n",
       "      <td>15786.0</td>\n",
       "      <td>40574.0</td>\n",
       "    </tr>\n",
       "    <tr>\n",
       "      <th>CZ.1.05 OP Výzkum a vývoj pro inovace</th>\n",
       "      <td>17901.0</td>\n",
       "      <td>36851.0</td>\n",
       "    </tr>\n",
       "    <tr>\n",
       "      <th>CZ.1.06 Integrovaný operační program</th>\n",
       "      <td>7734.0</td>\n",
       "      <td>36895.0</td>\n",
       "    </tr>\n",
       "    <tr>\n",
       "      <th>CZ.1.07 OP Vzdělávání pro konkurenceschopnost</th>\n",
       "      <td>11081.0</td>\n",
       "      <td>40480.0</td>\n",
       "    </tr>\n",
       "    <tr>\n",
       "      <th>CZ.1.08 OP Technická pomoc</th>\n",
       "      <td>106.0</td>\n",
       "      <td>3980.0</td>\n",
       "    </tr>\n",
       "    <tr>\n",
       "      <th>CZ.1.09 ROP NUTS II Severozápad</th>\n",
       "      <td>4911.0</td>\n",
       "      <td>16783.0</td>\n",
       "    </tr>\n",
       "    <tr>\n",
       "      <th>CZ.1.10 ROP NUTS II Moravskoslezsko</th>\n",
       "      <td>5834.0</td>\n",
       "      <td>16957.0</td>\n",
       "    </tr>\n",
       "    <tr>\n",
       "      <th>CZ.1.11 ROP NUTS II Jihovýchod</th>\n",
       "      <td>4577.0</td>\n",
       "      <td>18486.0</td>\n",
       "    </tr>\n",
       "    <tr>\n",
       "      <th>CZ.1.12 ROP NUTS II Střední Morava</th>\n",
       "      <td>4500.0</td>\n",
       "      <td>16975.0</td>\n",
       "    </tr>\n",
       "    <tr>\n",
       "      <th>CZ.1.13 ROP NUTS II Severovýchod</th>\n",
       "      <td>6275.0</td>\n",
       "      <td>15493.0</td>\n",
       "    </tr>\n",
       "    <tr>\n",
       "      <th>CZ.1.14 ROP Jihozápad</th>\n",
       "      <td>4334.0</td>\n",
       "      <td>16234.0</td>\n",
       "    </tr>\n",
       "    <tr>\n",
       "      <th>CZ.1.15 ROP NUTS II Střední Čechy</th>\n",
       "      <td>4001.0</td>\n",
       "      <td>14623.0</td>\n",
       "    </tr>\n",
       "    <tr>\n",
       "      <th>CZ.1.25 OP Rybářství</th>\n",
       "      <td>694.0</td>\n",
       "      <td>207.0</td>\n",
       "    </tr>\n",
       "    <tr>\n",
       "      <th>CZ.2.16 OP Praha Konkurenceschopnost</th>\n",
       "      <td>4377.0</td>\n",
       "      <td>2895.0</td>\n",
       "    </tr>\n",
       "    <tr>\n",
       "      <th>CZ.2.17 OP Praha Adaptibilita</th>\n",
       "      <td>1911.0</td>\n",
       "      <td>1222.0</td>\n",
       "    </tr>\n",
       "    <tr>\n",
       "      <th>CZ.3.22 OP ČR - Polsko</th>\n",
       "      <td>512.0</td>\n",
       "      <td>504.0</td>\n",
       "    </tr>\n",
       "  </tbody>\n",
       "</table>\n",
       "</div>"
      ],
      "text/plain": [
       "                                              Rozhodnutí/Smlouva o poskytnutí dotace (EU zdroje)  \\\n",
       "veřejná instituce                                                                          False   \n",
       "Číslo a název programu                                                                             \n",
       "CZ.1.01 OP Doprava                                                                       10046.0   \n",
       "CZ.1.02 OP Životní prostředí                                                             36494.0   \n",
       "CZ.1.03 OP Podnikání a inovace                                                           94114.0   \n",
       "CZ.1.04 OP Lidské zdroje a zaměstnanost                                                  15786.0   \n",
       "CZ.1.05 OP Výzkum a vývoj pro inovace                                                    17901.0   \n",
       "CZ.1.06 Integrovaný operační program                                                      7734.0   \n",
       "CZ.1.07 OP Vzdělávání pro konkurenceschopnost                                            11081.0   \n",
       "CZ.1.08 OP Technická pomoc                                                                 106.0   \n",
       "CZ.1.09 ROP NUTS II Severozápad                                                           4911.0   \n",
       "CZ.1.10 ROP NUTS II Moravskoslezsko                                                       5834.0   \n",
       "CZ.1.11 ROP NUTS II Jihovýchod                                                            4577.0   \n",
       "CZ.1.12 ROP NUTS II Střední Morava                                                        4500.0   \n",
       "CZ.1.13 ROP NUTS II Severovýchod                                                          6275.0   \n",
       "CZ.1.14 ROP Jihozápad                                                                     4334.0   \n",
       "CZ.1.15 ROP NUTS II Střední Čechy                                                         4001.0   \n",
       "CZ.1.25 OP Rybářství                                                                       694.0   \n",
       "CZ.2.16 OP Praha Konkurenceschopnost                                                      4377.0   \n",
       "CZ.2.17 OP Praha Adaptibilita                                                             1911.0   \n",
       "CZ.3.22 OP ČR - Polsko                                                                     512.0   \n",
       "\n",
       "                                                         \n",
       "veřejná instituce                                 True   \n",
       "Číslo a název programu                                   \n",
       "CZ.1.01 OP Doprava                             181245.0  \n",
       "CZ.1.02 OP Životní prostředí                   107551.0  \n",
       "CZ.1.03 OP Podnikání a inovace                   5062.0  \n",
       "CZ.1.04 OP Lidské zdroje a zaměstnanost         40574.0  \n",
       "CZ.1.05 OP Výzkum a vývoj pro inovace           36851.0  \n",
       "CZ.1.06 Integrovaný operační program            36895.0  \n",
       "CZ.1.07 OP Vzdělávání pro konkurenceschopnost   40480.0  \n",
       "CZ.1.08 OP Technická pomoc                       3980.0  \n",
       "CZ.1.09 ROP NUTS II Severozápad                 16783.0  \n",
       "CZ.1.10 ROP NUTS II Moravskoslezsko             16957.0  \n",
       "CZ.1.11 ROP NUTS II Jihovýchod                  18486.0  \n",
       "CZ.1.12 ROP NUTS II Střední Morava              16975.0  \n",
       "CZ.1.13 ROP NUTS II Severovýchod                15493.0  \n",
       "CZ.1.14 ROP Jihozápad                           16234.0  \n",
       "CZ.1.15 ROP NUTS II Střední Čechy               14623.0  \n",
       "CZ.1.25 OP Rybářství                              207.0  \n",
       "CZ.2.16 OP Praha Konkurenceschopnost             2895.0  \n",
       "CZ.2.17 OP Praha Adaptibilita                    1222.0  \n",
       "CZ.3.22 OP ČR - Polsko                            504.0  "
      ]
     },
     "execution_count": 253,
     "metadata": {},
     "output_type": "execute_result"
    }
   ],
   "source": [
    "prdf = df.loc[:, [prog, euz, erar]].groupby([prog, erar]).sum()\n",
    "prdf /= 10**6\n",
    "prdf.round(0).sort_values(by=euz, ascending=False).unstack()"
   ]
  },
  {
   "cell_type": "code",
   "execution_count": null,
   "metadata": {
    "collapsed": true
   },
   "outputs": [],
   "source": []
  },
  {
   "cell_type": "code",
   "execution_count": null,
   "metadata": {
    "collapsed": true
   },
   "outputs": [],
   "source": []
  },
  {
   "cell_type": "code",
   "execution_count": 54,
   "metadata": {
    "collapsed": false
   },
   "outputs": [
    {
     "data": {
      "text/plain": [
       "<matplotlib.axes._subplots.AxesSubplot at 0x113885160>"
      ]
     },
     "execution_count": 54,
     "metadata": {},
     "output_type": "execute_result"
    },
    {
     "data": {
      "image/png": "[encoded data removed]",
      "text/plain": [
       "<matplotlib.figure.Figure at 0x10d428d30>"
      ]
     },
     "metadata": {},
     "output_type": "display_data"
    }
   ],
   "source": [
    "df.loc[:, prog].value_counts().plot(kind='pie')"
   ]
  },
  {
   "cell_type": "markdown",
   "metadata": {},
   "source": [
    "ten graf je čistá krása"
   ]
  },
  {
   "cell_type": "code",
   "execution_count": 254,
   "metadata": {
    "collapsed": false
   },
   "outputs": [
    {
     "data": {
      "text/plain": [
       "<matplotlib.axes._subplots.AxesSubplot at 0x111cdcd68>"
      ]
     },
     "execution_count": 254,
     "metadata": {},
     "output_type": "execute_result"
    },
    {
     "data": {
      "image/png": "[encoded data removed]",
      "text/plain": [
       "<matplotlib.figure.Figure at 0x119bcf208>"
      ]
     },
     "metadata": {},
     "output_type": "display_data"
    }
   ],
   "source": [
    "mld = df.groupby(prog).sum().loc[:, euz]/10**9\n",
    "mld.plot(kind='pie')"
   ]
  },
  {
   "cell_type": "code",
   "execution_count": 255,
   "metadata": {
    "collapsed": false
   },
   "outputs": [
    {
     "data": {
      "text/plain": [
       "<matplotlib.axes._subplots.AxesSubplot at 0x113abc5c0>"
      ]
     },
     "execution_count": 255,
     "metadata": {},
     "output_type": "execute_result"
    },
    {
     "data": {
      "image/png": "[encoded data removed]",
      "text/plain": [
       "<matplotlib.figure.Figure at 0x11171cdd8>"
      ]
     },
     "metadata": {},
     "output_type": "display_data"
    }
   ],
   "source": [
    "mld.plot(kind='barh')"
   ]
  },
  {
   "cell_type": "code",
   "execution_count": null,
   "metadata": {
    "collapsed": true
   },
   "outputs": [],
   "source": []
  },
  {
   "cell_type": "code",
   "execution_count": null,
   "metadata": {
    "collapsed": true
   },
   "outputs": [],
   "source": []
  },
  {
   "cell_type": "code",
   "execution_count": null,
   "metadata": {
    "collapsed": true
   },
   "outputs": [],
   "source": []
  },
  {
   "cell_type": "code",
   "execution_count": 402,
   "metadata": {
    "collapsed": false
   },
   "outputs": [
    {
     "data": {
      "text/html": [
       "<div>\n",
       "<table border=\"1\" class=\"dataframe\">\n",
       "  <thead>\n",
       "    <tr style=\"text-align: right;\">\n",
       "      <th></th>\n",
       "      <th>Celkové zdroje - Sml/Dod</th>\n",
       "      <th>Rozhodnutí/Smlouva o poskytnutí dotace (EU zdroje)</th>\n",
       "    </tr>\n",
       "    <tr>\n",
       "      <th>veřejná instituce</th>\n",
       "      <th></th>\n",
       "      <th></th>\n",
       "    </tr>\n",
       "  </thead>\n",
       "  <tbody>\n",
       "    <tr>\n",
       "      <th>False</th>\n",
       "      <td>347.0</td>\n",
       "      <td>173.0</td>\n",
       "    </tr>\n",
       "    <tr>\n",
       "      <th>True</th>\n",
       "      <td>856.0</td>\n",
       "      <td>636.0</td>\n",
       "    </tr>\n",
       "  </tbody>\n",
       "</table>\n",
       "</div>"
      ],
      "text/plain": [
       "                   Celkové zdroje - Sml/Dod  \\\n",
       "veřejná instituce                             \n",
       "False                                 347.0   \n",
       "True                                  856.0   \n",
       "\n",
       "                   Rozhodnutí/Smlouva o poskytnutí dotace (EU zdroje)  \n",
       "veřejná instituce                                                      \n",
       "False                                                          173.0   \n",
       "True                                                           636.0   "
      ]
     },
     "execution_count": 402,
     "metadata": {},
     "output_type": "execute_result"
    }
   ],
   "source": [
    "(df.loc[:, [celk, euz, erar]].groupby(erar).sum()/10**9).round(0)"
   ]
  },
  {
   "cell_type": "markdown",
   "metadata": {},
   "source": [
    "Jde tedy o cca 800 mld na projekty za 1.2 bilionu, kofinance jsou tedy zhruba třetinová."
   ]
  },
  {
   "cell_type": "code",
   "execution_count": 257,
   "metadata": {
    "collapsed": false
   },
   "outputs": [
    {
     "data": {
      "text/html": [
       "<div>\n",
       "<table border=\"1\" class=\"dataframe\">\n",
       "  <thead>\n",
       "    <tr>\n",
       "      <th></th>\n",
       "      <th colspan=\"8\" halign=\"left\">poměr vlastních financí (0-1)</th>\n",
       "    </tr>\n",
       "    <tr>\n",
       "      <th></th>\n",
       "      <th>count</th>\n",
       "      <th>mean</th>\n",
       "      <th>std</th>\n",
       "      <th>min</th>\n",
       "      <th>25%</th>\n",
       "      <th>50%</th>\n",
       "      <th>75%</th>\n",
       "      <th>max</th>\n",
       "    </tr>\n",
       "    <tr>\n",
       "      <th>veřejná instituce</th>\n",
       "      <th></th>\n",
       "      <th></th>\n",
       "      <th></th>\n",
       "      <th></th>\n",
       "      <th></th>\n",
       "      <th></th>\n",
       "      <th></th>\n",
       "      <th></th>\n",
       "    </tr>\n",
       "  </thead>\n",
       "  <tbody>\n",
       "    <tr>\n",
       "      <th>False</th>\n",
       "      <td>28359.0</td>\n",
       "      <td>0.391169</td>\n",
       "      <td>0.248885</td>\n",
       "      <td>0.0</td>\n",
       "      <td>0.136191</td>\n",
       "      <td>0.471611</td>\n",
       "      <td>0.600000</td>\n",
       "      <td>1.358232</td>\n",
       "    </tr>\n",
       "    <tr>\n",
       "      <th>True</th>\n",
       "      <td>43061.0</td>\n",
       "      <td>0.160204</td>\n",
       "      <td>0.181071</td>\n",
       "      <td>0.0</td>\n",
       "      <td>0.002426</td>\n",
       "      <td>0.101527</td>\n",
       "      <td>0.252178</td>\n",
       "      <td>1.000000</td>\n",
       "    </tr>\n",
       "  </tbody>\n",
       "</table>\n",
       "</div>"
      ],
      "text/plain": [
       "                  poměr vlastních financí (0-1)                           \\\n",
       "                                          count      mean       std  min   \n",
       "veřejná instituce                                                          \n",
       "False                                   28359.0  0.391169  0.248885  0.0   \n",
       "True                                    43061.0  0.160204  0.181071  0.0   \n",
       "\n",
       "                                                           \n",
       "                        25%       50%       75%       max  \n",
       "veřejná instituce                                          \n",
       "False              0.136191  0.471611  0.600000  1.358232  \n",
       "True               0.002426  0.101527  0.252178  1.000000  "
      ]
     },
     "execution_count": 257,
     "metadata": {},
     "output_type": "execute_result"
    }
   ],
   "source": [
    "df.loc[:, [kofi,erar]].groupby(erar).describe().unstack()"
   ]
  },
  {
   "cell_type": "markdown",
   "metadata": {},
   "source": [
    "**chyba v mejch počtech (max > 1)**"
   ]
  },
  {
   "cell_type": "markdown",
   "metadata": {},
   "source": [
    "## Nejvíc"
   ]
  },
  {
   "cell_type": "markdown",
   "metadata": {},
   "source": [
    "### Veřejné"
   ]
  },
  {
   "cell_type": "code",
   "execution_count": 393,
   "metadata": {
    "collapsed": false
   },
   "outputs": [
    {
     "data": {
      "text/html": [
       "<div>\n",
       "<table border=\"1\" class=\"dataframe\">\n",
       "  <thead>\n",
       "    <tr style=\"text-align: right;\">\n",
       "      <th></th>\n",
       "      <th></th>\n",
       "      <th>Rozhodnutí/Smlouva o poskytnutí dotace (EU zdroje)</th>\n",
       "    </tr>\n",
       "    <tr>\n",
       "      <th>Žadatel</th>\n",
       "      <th>IČ žadatele</th>\n",
       "      <th></th>\n",
       "    </tr>\n",
       "  </thead>\n",
       "  <tbody>\n",
       "    <tr>\n",
       "      <th>Ředitelství silnic a dálnic ČR</th>\n",
       "      <th>65993390</th>\n",
       "      <td>96.057743</td>\n",
       "    </tr>\n",
       "    <tr>\n",
       "      <th>Správa železniční dopravní cesty, státní organizace</th>\n",
       "      <th>70994234</th>\n",
       "      <td>79.466513</td>\n",
       "    </tr>\n",
       "    <tr>\n",
       "      <th>MINISTERSTVO PRÁCE A SOCIÁLNÍCH VĚCÍ</th>\n",
       "      <th>00551023</th>\n",
       "      <td>20.226537</td>\n",
       "    </tr>\n",
       "    <tr>\n",
       "      <th>Dopravní podnik hl.m. Prahy ,akciová společnost</th>\n",
       "      <th>00005886</th>\n",
       "      <td>11.874581</td>\n",
       "    </tr>\n",
       "    <tr>\n",
       "      <th>Moravskoslezský kraj</th>\n",
       "      <th>70890692</th>\n",
       "      <td>10.898059</td>\n",
       "    </tr>\n",
       "    <tr>\n",
       "      <th>Masarykova univerzita</th>\n",
       "      <th>00216224</th>\n",
       "      <td>10.800979</td>\n",
       "    </tr>\n",
       "    <tr>\n",
       "      <th>Ministerstvo vnitra</th>\n",
       "      <th>00007064</th>\n",
       "      <td>7.751601</td>\n",
       "    </tr>\n",
       "    <tr>\n",
       "      <th>ÚŘAD PRÁCE ČESKÉ REPUBLIKY</th>\n",
       "      <th>72496991</th>\n",
       "      <td>7.735390</td>\n",
       "    </tr>\n",
       "    <tr>\n",
       "      <th>České dráhy, a.s.</th>\n",
       "      <th>70994226</th>\n",
       "      <td>7.636482</td>\n",
       "    </tr>\n",
       "    <tr>\n",
       "      <th>Univerzita Palackého v Olomouci</th>\n",
       "      <th>61989592</th>\n",
       "      <td>7.479109</td>\n",
       "    </tr>\n",
       "    <tr>\n",
       "      <th>Kraj Vysočina</th>\n",
       "      <th>70890749</th>\n",
       "      <td>6.932345</td>\n",
       "    </tr>\n",
       "    <tr>\n",
       "      <th>Fyzikální ústav AV ČR, v.v.i.</th>\n",
       "      <th>68378271</th>\n",
       "      <td>6.828292</td>\n",
       "    </tr>\n",
       "    <tr>\n",
       "      <th>Ministerstvo školství, mládeže a tělovýchovy</th>\n",
       "      <th>00022985</th>\n",
       "      <td>6.265654</td>\n",
       "    </tr>\n",
       "    <tr>\n",
       "      <th>Vysoké učení technické v Brně</th>\n",
       "      <th>00216305</th>\n",
       "      <td>5.859317</td>\n",
       "    </tr>\n",
       "    <tr>\n",
       "      <th>Středočeský kraj</th>\n",
       "      <th>70891095</th>\n",
       "      <td>5.720254</td>\n",
       "    </tr>\n",
       "    <tr>\n",
       "      <th>VYSOKÁ ŠKOLA BÁŇSKÁ-TECHNICKÁ UNIVERZITA OSTRAVA</th>\n",
       "      <th>61989100</th>\n",
       "      <td>5.718307</td>\n",
       "    </tr>\n",
       "    <tr>\n",
       "      <th>Ústecký kraj</th>\n",
       "      <th>70892156</th>\n",
       "      <td>4.394183</td>\n",
       "    </tr>\n",
       "    <tr>\n",
       "      <th>Jihočeský kraj</th>\n",
       "      <th>70890650</th>\n",
       "      <td>4.366608</td>\n",
       "    </tr>\n",
       "    <tr>\n",
       "      <th>Pardubický kraj</th>\n",
       "      <th>70892822</th>\n",
       "      <td>4.365592</td>\n",
       "    </tr>\n",
       "    <tr>\n",
       "      <th>Správa a údržba silnic Jihomoravského kraje, příspěvková organizace kraje</th>\n",
       "      <th>70932581</th>\n",
       "      <td>4.105832</td>\n",
       "    </tr>\n",
       "  </tbody>\n",
       "</table>\n",
       "</div>"
      ],
      "text/plain": [
       "                                                                Rozhodnutí/Smlouva o poskytnutí dotace (EU zdroje)\n",
       "Žadatel                                            IČ žadatele                                                    \n",
       "Ředitelství silnic a dálnic ČR                     65993390                                             96.057743 \n",
       "Správa železniční dopravní cesty, státní organi... 70994234                                             79.466513 \n",
       "MINISTERSTVO PRÁCE A SOCIÁLNÍCH VĚCÍ               00551023                                             20.226537 \n",
       "Dopravní podnik hl.m. Prahy ,akciová společnost    00005886                                             11.874581 \n",
       "Moravskoslezský kraj                               70890692                                             10.898059 \n",
       "Masarykova univerzita                              00216224                                             10.800979 \n",
       "Ministerstvo vnitra                                00007064                                              7.751601 \n",
       "ÚŘAD PRÁCE ČESKÉ REPUBLIKY                         72496991                                              7.735390 \n",
       "České dráhy, a.s.                                  70994226                                              7.636482 \n",
       "Univerzita Palackého v Olomouci                    61989592                                              7.479109 \n",
       "Kraj Vysočina                                      70890749                                              6.932345 \n",
       "Fyzikální ústav AV ČR, v.v.i.                      68378271                                              6.828292 \n",
       "Ministerstvo školství, mládeže a tělovýchovy       00022985                                              6.265654 \n",
       "Vysoké učení technické v Brně                      00216305                                              5.859317 \n",
       "Středočeský kraj                                   70891095                                              5.720254 \n",
       "VYSOKÁ ŠKOLA BÁŇSKÁ-TECHNICKÁ UNIVERZITA OSTRAVA   61989100                                              5.718307 \n",
       "Ústecký kraj                                       70892156                                              4.394183 \n",
       "Jihočeský kraj                                     70890650                                              4.366608 \n",
       "Pardubický kraj                                    70892822                                              4.365592 \n",
       "Správa a údržba silnic Jihomoravského kraje, př... 70932581                                              4.105832 "
      ]
     },
     "execution_count": 393,
     "metadata": {},
     "output_type": "execute_result"
    }
   ],
   "source": [
    "top = df.groupby([zad,ico]).sum().loc[:, [euz]].sort_values(by=euz, ascending=False)/10**9\n",
    "top.head(20)"
   ]
  },
  {
   "cell_type": "markdown",
   "metadata": {},
   "source": [
    "### Podle projektu"
   ]
  },
  {
   "cell_type": "code",
   "execution_count": 423,
   "metadata": {
    "collapsed": false
   },
   "outputs": [
    {
     "data": {
      "text/plain": [
       "Celkové zdroje - Sml/Dod                                                    33837.531701\n",
       "Rozhodnutí/Smlouva o poskytnutí dotace (celkové zdroje)                     29852.528831\n",
       "Rozhodnutí/Smlouva o poskytnutí dotace (veřejné prostředky celkem)          15255.037558\n",
       "Rozhodnutí/Smlouva o poskytnutí dotace (EU zdroje)                          17754.157106\n",
       "Proplacené prostředky příjemcům - vyúčtované (veřejné prostředky celkem)    13913.548501\n",
       "Proplacené prostředky příjemcům - vyúčtované (EU zdroje)                    11026.709332\n",
       "Certifikované prostředky (veřejné prostředky celkem)                         8535.332478\n",
       "Pořadí v rámci v projektu (filtr)                                               0.000065\n",
       "Počet míst realizace                                                            0.000173\n",
       "veřejná instituce                                                               0.000065\n",
       "poměr vlastních financí (0-1)                                                   0.000019\n",
       "dtype: float64"
      ]
     },
     "execution_count": 423,
     "metadata": {},
     "output_type": "execute_result"
    }
   ],
   "source": [
    "df.loc[df.loc[:, zad].str.contains('Dopravní podnik').replace(np.nan, False)].sum()/10**6"
   ]
  },
  {
   "cell_type": "code",
   "execution_count": 424,
   "metadata": {
    "collapsed": false
   },
   "outputs": [
    {
     "data": {
      "text/plain": [
       "array(['Dopravní podnik hl.m. Prahy ,akciová společnost',\n",
       "       'Dopravní podnik města Brna,a.s.', 'Dopravní podnik Ostrava a.s.',\n",
       "       'Dopravní podnik měst Chomutova a Jirkova a.s.',\n",
       "       'Dopravní podnik města Ústí nad Labem a.s.',\n",
       "       'Dopravní podnik města Hradce Králové, a.s.',\n",
       "       'Dopravní podnik měst Liberce a Jablonce nad Nisou, a.s.',\n",
       "       'Dopravní podnik města Olomouce, a.s.',\n",
       "       'Dopravní podnik města Jihlavy, a.s.',\n",
       "       'Dopravní podnik města Pardubic a.s.',\n",
       "       'Dopravní podnik města České Budějovice, a.s.',\n",
       "       'Dopravní podnik Mladá Boleslav, s.r.o.'], dtype=object)"
      ]
     },
     "execution_count": 424,
     "metadata": {},
     "output_type": "execute_result"
    }
   ],
   "source": [
    "df.loc[df.loc[:, zad].str.contains('Dopravní podnik').replace(np.nan, False), zad].unique()"
   ]
  },
  {
   "cell_type": "code",
   "execution_count": 410,
   "metadata": {
    "collapsed": false
   },
   "outputs": [],
   "source": [
    "# df.loc[df.loc[:, erar] == True].([prog, zad]).sum()"
   ]
  },
  {
   "cell_type": "code",
   "execution_count": null,
   "metadata": {
    "collapsed": true
   },
   "outputs": [],
   "source": []
  },
  {
   "cell_type": "code",
   "execution_count": null,
   "metadata": {
    "collapsed": true
   },
   "outputs": [],
   "source": []
  },
  {
   "cell_type": "code",
   "execution_count": null,
   "metadata": {
    "collapsed": true
   },
   "outputs": [],
   "source": []
  },
  {
   "cell_type": "code",
   "execution_count": null,
   "metadata": {
    "collapsed": true
   },
   "outputs": [],
   "source": []
  },
  {
   "cell_type": "code",
   "execution_count": 403,
   "metadata": {
    "collapsed": false
   },
   "outputs": [
    {
     "data": {
      "text/html": [
       "<div>\n",
       "<table border=\"1\" class=\"dataframe\">\n",
       "  <thead>\n",
       "    <tr style=\"text-align: right;\">\n",
       "      <th></th>\n",
       "      <th></th>\n",
       "      <th>Rozhodnutí/Smlouva o poskytnutí dotace (EU zdroje)</th>\n",
       "    </tr>\n",
       "    <tr>\n",
       "      <th>Žadatel</th>\n",
       "      <th>IČ žadatele</th>\n",
       "      <th></th>\n",
       "    </tr>\n",
       "  </thead>\n",
       "  <tbody>\n",
       "    <tr>\n",
       "      <th>TŘINECKÉ ŽELEZÁRNY, a. s.</th>\n",
       "      <th>18050646</th>\n",
       "      <td>2.300128</td>\n",
       "    </tr>\n",
       "    <tr>\n",
       "      <th>ArcelorMittal Ostrava a.s.</th>\n",
       "      <th>45193258</th>\n",
       "      <td>1.676587</td>\n",
       "    </tr>\n",
       "    <tr>\n",
       "      <th>Dolní oblast VÍTKOVICE</th>\n",
       "      <th>75125285</th>\n",
       "      <td>1.273931</td>\n",
       "    </tr>\n",
       "    <tr>\n",
       "      <th>Veolia Energie ČR, a.s.</th>\n",
       "      <th>45193410</th>\n",
       "      <td>0.956849</td>\n",
       "    </tr>\n",
       "    <tr>\n",
       "      <th>VÚTS, a.s.</th>\n",
       "      <th>46709002</th>\n",
       "      <td>0.770943</td>\n",
       "    </tr>\n",
       "    <tr>\n",
       "      <th>Svaz VKMO s.r.o.</th>\n",
       "      <th>25572245</th>\n",
       "      <td>0.703694</td>\n",
       "    </tr>\n",
       "    <tr>\n",
       "      <th>SVAZ MĚST A OBCÍ ČESKÉ REPUBLIKY</th>\n",
       "      <th>63113074</th>\n",
       "      <td>0.657223</td>\n",
       "    </tr>\n",
       "    <tr>\n",
       "      <th>Unipetrol výzkumně vzdělávací centrum, a.s.</th>\n",
       "      <th>62243136</th>\n",
       "      <td>0.587261</td>\n",
       "    </tr>\n",
       "    <tr>\n",
       "      <th>Elektrárny Opatovice, a.s.</th>\n",
       "      <th>28800621</th>\n",
       "      <td>0.582806</td>\n",
       "    </tr>\n",
       "    <tr>\n",
       "      <th>VÝZKUMNÝ A ŠLECHTITELSKÝ ÚSTAV OVOCNÁŘSKÝ HOLOVOUSY s.r.o.</th>\n",
       "      <th>25271121</th>\n",
       "      <td>0.581367</td>\n",
       "    </tr>\n",
       "    <tr>\n",
       "      <th>Techmania Science Center o.p.s.</th>\n",
       "      <th>26396645</th>\n",
       "      <td>0.571900</td>\n",
       "    </tr>\n",
       "    <tr>\n",
       "      <th>Lovochemie, a.s.</th>\n",
       "      <th>49100262</th>\n",
       "      <td>0.539012</td>\n",
       "    </tr>\n",
       "    <tr>\n",
       "      <th>CESNET - ZÁJMOVÉ SDRUŽENÍ PRÁVNICKÝCH OSOB</th>\n",
       "      <th>63839172</th>\n",
       "      <td>0.534798</td>\n",
       "    </tr>\n",
       "    <tr>\n",
       "      <th>Kanonie premonstrátů Teplá</th>\n",
       "      <th>00479365</th>\n",
       "      <td>0.496984</td>\n",
       "    </tr>\n",
       "    <tr>\n",
       "      <th>COMTES FHT a.s.</th>\n",
       "      <th>26316919</th>\n",
       "      <td>0.467348</td>\n",
       "    </tr>\n",
       "    <tr>\n",
       "      <th>Multifunkční centrum zámek Lednice, zájmové sdružení právnických osob</th>\n",
       "      <th>75122979</th>\n",
       "      <td>0.455870</td>\n",
       "    </tr>\n",
       "    <tr>\n",
       "      <th>Synthesia, a.s.</th>\n",
       "      <th>60108916</th>\n",
       "      <td>0.454878</td>\n",
       "    </tr>\n",
       "    <tr>\n",
       "      <th>Terezín - město změny, zájmové sdružení právnických osob</th>\n",
       "      <th>72045230</th>\n",
       "      <td>0.443990</td>\n",
       "    </tr>\n",
       "    <tr>\n",
       "      <th>PrimeCell Therapeutics a.s.</th>\n",
       "      <th>27660320</th>\n",
       "      <td>0.442951</td>\n",
       "    </tr>\n",
       "    <tr>\n",
       "      <th>CGMC, družstvo</th>\n",
       "      <th>28094468</th>\n",
       "      <td>0.433479</td>\n",
       "    </tr>\n",
       "  </tbody>\n",
       "</table>\n",
       "</div>"
      ],
      "text/plain": [
       "                                                                Rozhodnutí/Smlouva o poskytnutí dotace (EU zdroje)\n",
       "Žadatel                                            IČ žadatele                                                    \n",
       "TŘINECKÉ ŽELEZÁRNY, a. s.                          18050646                                              2.300128 \n",
       "ArcelorMittal Ostrava a.s.                         45193258                                              1.676587 \n",
       "Dolní oblast VÍTKOVICE                             75125285                                              1.273931 \n",
       "Veolia Energie ČR, a.s.                            45193410                                              0.956849 \n",
       "VÚTS, a.s.                                         46709002                                              0.770943 \n",
       "Svaz VKMO s.r.o.                                   25572245                                              0.703694 \n",
       "SVAZ MĚST A OBCÍ ČESKÉ REPUBLIKY                   63113074                                              0.657223 \n",
       "Unipetrol výzkumně vzdělávací centrum, a.s.        62243136                                              0.587261 \n",
       "Elektrárny Opatovice, a.s.                         28800621                                              0.582806 \n",
       "VÝZKUMNÝ A ŠLECHTITELSKÝ ÚSTAV OVOCNÁŘSKÝ HOLOV... 25271121                                              0.581367 \n",
       "Techmania Science Center o.p.s.                    26396645                                              0.571900 \n",
       "Lovochemie, a.s.                                   49100262                                              0.539012 \n",
       "CESNET - ZÁJMOVÉ SDRUŽENÍ PRÁVNICKÝCH OSOB         63839172                                              0.534798 \n",
       "Kanonie premonstrátů Teplá                         00479365                                              0.496984 \n",
       "COMTES FHT a.s.                                    26316919                                              0.467348 \n",
       "Multifunkční centrum zámek Lednice, zájmové sdr... 75122979                                              0.455870 \n",
       "Synthesia, a.s.                                    60108916                                              0.454878 \n",
       "Terezín - město změny, zájmové sdružení právnic... 72045230                                              0.443990 \n",
       "PrimeCell Therapeutics a.s.                        27660320                                              0.442951 \n",
       "CGMC, družstvo                                     28094468                                              0.433479 "
      ]
     },
     "execution_count": 403,
     "metadata": {},
     "output_type": "execute_result"
    }
   ],
   "source": [
    "top_priv = df.loc[~df.loc[:, erar], :]\n",
    "top_priv = top_priv.groupby([zad,ico]).sum().loc[:, [euz]].sort_values(by=euz, ascending=False)/10**9\n",
    "top_priv.head(20)"
   ]
  },
  {
   "cell_type": "markdown",
   "metadata": {},
   "source": [
    "Použít:\n",
    "- MFČR vládní instituce\n",
    "- ten 'public corporations' spreadsheet"
   ]
  },
  {
   "cell_type": "code",
   "execution_count": null,
   "metadata": {
    "collapsed": true
   },
   "outputs": [],
   "source": []
  },
  {
   "cell_type": "markdown",
   "metadata": {},
   "source": [
    "## Golf a hotely"
   ]
  },
  {
   "cell_type": "code",
   "execution_count": 59,
   "metadata": {
    "collapsed": false
   },
   "outputs": [
    {
     "data": {
      "text/plain": [
       "7"
      ]
     },
     "execution_count": 59,
     "metadata": {},
     "output_type": "execute_result"
    }
   ],
   "source": [
    "len(df.loc[df.loc[:, nazev].str.contains('golf')])"
   ]
  },
  {
   "cell_type": "code",
   "execution_count": 60,
   "metadata": {
    "collapsed": false
   },
   "outputs": [
    {
     "data": {
      "text/plain": [
       "Celkové zdroje - Sml/Dod                                                    301.591621\n",
       "Rozhodnutí/Smlouva o poskytnutí dotace (celkové zdroje)                     114.436966\n",
       "Rozhodnutí/Smlouva o poskytnutí dotace (veřejné prostředky celkem)           97.710381\n",
       "Rozhodnutí/Smlouva o poskytnutí dotace (EU zdroje)                           97.181489\n",
       "Proplacené prostředky příjemcům - vyúčtované (veřejné prostředky celkem)     82.604265\n",
       "Proplacené prostředky příjemcům - vyúčtované (EU zdroje)                     97.181489\n",
       "Certifikované prostředky (veřejné prostředky celkem)                         82.604265\n",
       "Pořadí v rámci v projektu (filtr)                                             0.000007\n",
       "Počet míst realizace                                                          0.000009\n",
       "veřejná instituce                                                             0.000001\n",
       "poměr vlastních financí (0-1)                                                 0.000004\n",
       "dtype: float64"
      ]
     },
     "execution_count": 60,
     "metadata": {},
     "output_type": "execute_result"
    }
   ],
   "source": [
    "df.loc[df.loc[:, 'Název projektu'].str.contains('golf')].sum()/10**6"
   ]
  },
  {
   "cell_type": "markdown",
   "metadata": {},
   "source": [
    "## Neziskovky"
   ]
  },
  {
   "cell_type": "code",
   "execution_count": 61,
   "metadata": {
    "collapsed": false
   },
   "outputs": [
    {
     "data": {
      "text/plain": [
       "Celkové zdroje - Sml/Dod                                                    12289.535662\n",
       "Rozhodnutí/Smlouva o poskytnutí dotace (celkové zdroje)                     10955.134618\n",
       "Rozhodnutí/Smlouva o poskytnutí dotace (veřejné prostředky celkem)           9447.943825\n",
       "Rozhodnutí/Smlouva o poskytnutí dotace (EU zdroje)                           9921.203777\n",
       "Proplacené prostředky příjemcům - vyúčtované (veřejné prostředky celkem)     8555.709538\n",
       "Proplacené prostředky příjemcům - vyúčtované (EU zdroje)                     6682.267296\n",
       "Certifikované prostředky (veřejné prostředky celkem)                         5755.224942\n",
       "Pořadí v rámci v projektu (filtr)                                               0.001601\n",
       "Počet míst realizace                                                            0.004977\n",
       "veřejná instituce                                                               0.000000\n",
       "poměr vlastních financí (0-1)                                                   0.000177\n",
       "dtype: float64"
      ]
     },
     "execution_count": 61,
     "metadata": {},
     "output_type": "execute_result"
    }
   ],
   "source": [
    "nzs = df.loc[df.loc[:, prfos] == 'Neziskový sektor']\n",
    "nzs.sum()/10**6"
   ]
  },
  {
   "cell_type": "code",
   "execution_count": 62,
   "metadata": {
    "collapsed": false
   },
   "outputs": [
    {
     "data": {
      "text/plain": [
       "(1601, 30)"
      ]
     },
     "execution_count": 62,
     "metadata": {},
     "output_type": "execute_result"
    }
   ],
   "source": [
    "nzs.shape"
   ]
  },
  {
   "cell_type": "code",
   "execution_count": null,
   "metadata": {
    "collapsed": true
   },
   "outputs": [],
   "source": []
  },
  {
   "cell_type": "code",
   "execution_count": 65,
   "metadata": {
    "collapsed": false
   },
   "outputs": [
    {
     "data": {
      "text/html": [
       "<div>\n",
       "<table border=\"1\" class=\"dataframe\">\n",
       "  <thead>\n",
       "    <tr style=\"text-align: right;\">\n",
       "      <th></th>\n",
       "      <th>Rozhodnutí/Smlouva o poskytnutí dotace (EU zdroje)</th>\n",
       "    </tr>\n",
       "    <tr>\n",
       "      <th>Žadatel</th>\n",
       "      <th></th>\n",
       "    </tr>\n",
       "  </thead>\n",
       "  <tbody>\n",
       "    <tr>\n",
       "      <th>Techmania Science Center o.p.s.</th>\n",
       "      <td>572.0</td>\n",
       "    </tr>\n",
       "    <tr>\n",
       "      <th>Kanonie premonstrátů Teplá</th>\n",
       "      <td>497.0</td>\n",
       "    </tr>\n",
       "    <tr>\n",
       "      <th>Římskokatolická farnost Velehrad</th>\n",
       "      <td>408.0</td>\n",
       "    </tr>\n",
       "    <tr>\n",
       "      <th>IQLANDIA, o.p.s.</th>\n",
       "      <td>407.0</td>\n",
       "    </tr>\n",
       "    <tr>\n",
       "      <th>Federace židovských obcí v České republice</th>\n",
       "      <td>285.0</td>\n",
       "    </tr>\n",
       "    <tr>\n",
       "      <th>Energeia, o.p.s.</th>\n",
       "      <td>254.0</td>\n",
       "    </tr>\n",
       "    <tr>\n",
       "      <th>Člověk v tísni, o.p.s.</th>\n",
       "      <td>244.0</td>\n",
       "    </tr>\n",
       "    <tr>\n",
       "      <th>Benediktinské opatství sv. Václava v Broumově</th>\n",
       "      <td>196.0</td>\n",
       "    </tr>\n",
       "    <tr>\n",
       "      <th>Muzeum a společenské centrum Dobrovice, o.p.s.</th>\n",
       "      <td>163.0</td>\n",
       "    </tr>\n",
       "    <tr>\n",
       "      <th>Centrála cestovního ruchu Východní Moravy, o.p.s.</th>\n",
       "      <td>136.0</td>\n",
       "    </tr>\n",
       "  </tbody>\n",
       "</table>\n",
       "</div>"
      ],
      "text/plain": [
       "                                                   Rozhodnutí/Smlouva o poskytnutí dotace (EU zdroje)\n",
       "Žadatel                                                                                              \n",
       "Techmania Science Center o.p.s.                                                                572.0 \n",
       "Kanonie premonstrátů Teplá                                                                     497.0 \n",
       "Římskokatolická farnost Velehrad                                                               408.0 \n",
       "IQLANDIA, o.p.s.                                                                               407.0 \n",
       "Federace židovských obcí v České republice                                                     285.0 \n",
       "Energeia, o.p.s.                                                                               254.0 \n",
       "Člověk v tísni, o.p.s.                                                                         244.0 \n",
       "Benediktinské opatství sv. Václava v Broumově                                                  196.0 \n",
       "Muzeum a společenské centrum Dobrovice, o.p.s.                                                 163.0 \n",
       "Centrála cestovního ruchu Východní Moravy, o.p.s.                                              136.0 "
      ]
     },
     "execution_count": 65,
     "metadata": {},
     "output_type": "execute_result"
    }
   ],
   "source": [
    "nejnzs = nzs.groupby(zad).sum().sort_values(ascending=False, by=euz)/10**6\n",
    "\n",
    "nejnzs.loc[:, [euz]].head(10).round(0)"
   ]
  },
  {
   "cell_type": "code",
   "execution_count": null,
   "metadata": {
    "collapsed": true
   },
   "outputs": [],
   "source": []
  },
  {
   "cell_type": "code",
   "execution_count": null,
   "metadata": {
    "collapsed": true
   },
   "outputs": [],
   "source": []
  },
  {
   "cell_type": "code",
   "execution_count": 66,
   "metadata": {
    "collapsed": false
   },
   "outputs": [],
   "source": [
    "gmil = nzs.groupby([prfo, zad]).sum().loc[:, euz]/10**6"
   ]
  },
  {
   "cell_type": "markdown",
   "metadata": {},
   "source": [
    "neziskovky bez církví"
   ]
  },
  {
   "cell_type": "code",
   "execution_count": 67,
   "metadata": {
    "collapsed": false
   },
   "outputs": [],
   "source": [
    "ncmil = nzs.loc[~nzs.loc[:, prfo].str.contains('írk')]"
   ]
  },
  {
   "cell_type": "code",
   "execution_count": 68,
   "metadata": {
    "collapsed": false
   },
   "outputs": [
    {
     "data": {
      "text/html": [
       "<div>\n",
       "<table border=\"1\" class=\"dataframe\">\n",
       "  <thead>\n",
       "    <tr style=\"text-align: right;\">\n",
       "      <th></th>\n",
       "      <th></th>\n",
       "      <th>Rozhodnutí/Smlouva o poskytnutí dotace (EU zdroje)</th>\n",
       "    </tr>\n",
       "    <tr>\n",
       "      <th>Hosp.právní forma</th>\n",
       "      <th>Žadatel</th>\n",
       "      <th></th>\n",
       "    </tr>\n",
       "  </thead>\n",
       "  <tbody>\n",
       "    <tr>\n",
       "      <th rowspan=\"7\" valign=\"top\">Obecně prospěšná společnost</th>\n",
       "      <th>Techmania Science Center o.p.s.</th>\n",
       "      <td>572.0</td>\n",
       "    </tr>\n",
       "    <tr>\n",
       "      <th>IQLANDIA, o.p.s.</th>\n",
       "      <td>407.0</td>\n",
       "    </tr>\n",
       "    <tr>\n",
       "      <th>Energeia, o.p.s.</th>\n",
       "      <td>254.0</td>\n",
       "    </tr>\n",
       "    <tr>\n",
       "      <th>Člověk v tísni, o.p.s.</th>\n",
       "      <td>244.0</td>\n",
       "    </tr>\n",
       "    <tr>\n",
       "      <th>Muzeum a společenské centrum Dobrovice, o.p.s.</th>\n",
       "      <td>163.0</td>\n",
       "    </tr>\n",
       "    <tr>\n",
       "      <th>Centrála cestovního ruchu Východní Moravy, o.p.s.</th>\n",
       "      <td>136.0</td>\n",
       "    </tr>\n",
       "    <tr>\n",
       "      <th>OSTROV ZDRAVÍ o.p.s.</th>\n",
       "      <td>128.0</td>\n",
       "    </tr>\n",
       "    <tr>\n",
       "      <th rowspan=\"2\" valign=\"top\">Nadace</th>\n",
       "      <th>,, Nadace Josefa Viewegha Sklářská huť František \"</th>\n",
       "      <td>127.0</td>\n",
       "    </tr>\n",
       "    <tr>\n",
       "      <th>Nadace Partnerství (v mezinárodním styku \"Czech Environmental Partnership Foundation - CEPF)</th>\n",
       "      <td>92.0</td>\n",
       "    </tr>\n",
       "    <tr>\n",
       "      <th>Obecně prospěšná společnost</th>\n",
       "      <th>Vyšší odborná škola DAKOL a Střední škola DAKOL, o.p.s.</th>\n",
       "      <td>86.0</td>\n",
       "    </tr>\n",
       "  </tbody>\n",
       "</table>\n",
       "</div>"
      ],
      "text/plain": [
       "                                                                                Rozhodnutí/Smlouva o poskytnutí dotace (EU zdroje)\n",
       "Hosp.právní forma           Žadatel                                                                                               \n",
       "Obecně prospěšná společnost Techmania Science Center o.p.s.                                                                 572.0 \n",
       "                            IQLANDIA, o.p.s.                                                                                407.0 \n",
       "                            Energeia, o.p.s.                                                                                254.0 \n",
       "                            Člověk v tísni, o.p.s.                                                                          244.0 \n",
       "                            Muzeum a společenské centrum Dobrovice, o.p.s.                                                  163.0 \n",
       "                            Centrála cestovního ruchu Východní Moravy, o.p.s.                                               136.0 \n",
       "                            OSTROV ZDRAVÍ o.p.s.                                                                            128.0 \n",
       "Nadace                      ,, Nadace Josefa Viewegha Sklářská huť František \"                                              127.0 \n",
       "                            Nadace Partnerství (v mezinárodním styku \"Czech...                                               92.0 \n",
       "Obecně prospěšná společnost Vyšší odborná škola DAKOL a Střední škola DAKOL...                                               86.0 "
      ]
     },
     "execution_count": 68,
     "metadata": {},
     "output_type": "execute_result"
    }
   ],
   "source": [
    "dfmil = pd.DataFrame(ncmil.groupby([prfo, zad]).sum().loc[:, euz]/10**6)\n",
    "dfmil.sort_values(by=euz, ascending=False).head(10).round(0)"
   ]
  },
  {
   "cell_type": "code",
   "execution_count": null,
   "metadata": {
    "collapsed": true
   },
   "outputs": [],
   "source": []
  },
  {
   "cell_type": "code",
   "execution_count": null,
   "metadata": {
    "collapsed": true
   },
   "outputs": [],
   "source": []
  },
  {
   "cell_type": "markdown",
   "metadata": {
    "collapsed": true
   },
   "source": [
    "## Agrofert"
   ]
  },
  {
   "cell_type": "code",
   "execution_count": null,
   "metadata": {
    "collapsed": true
   },
   "outputs": [],
   "source": []
  },
  {
   "cell_type": "code",
   "execution_count": null,
   "metadata": {
    "collapsed": true
   },
   "outputs": [],
   "source": []
  },
  {
   "cell_type": "code",
   "execution_count": null,
   "metadata": {
    "collapsed": true
   },
   "outputs": [],
   "source": []
  },
  {
   "cell_type": "markdown",
   "metadata": {},
   "source": [
    "## Obce\n",
    "per capita? jsou někde deviace?"
   ]
  },
  {
   "cell_type": "code",
   "execution_count": null,
   "metadata": {
    "collapsed": true
   },
   "outputs": [],
   "source": []
  },
  {
   "cell_type": "markdown",
   "metadata": {},
   "source": [
    "Škromachovic"
   ]
  },
  {
   "cell_type": "code",
   "execution_count": 425,
   "metadata": {
    "collapsed": false
   },
   "outputs": [
    {
     "data": {
      "text/plain": [
       "4"
      ]
     },
     "execution_count": 425,
     "metadata": {},
     "output_type": "execute_result"
    }
   ],
   "source": [
    "df.loc[:, zad].str.contains('Rohatec').sum()"
   ]
  },
  {
   "cell_type": "code",
   "execution_count": 426,
   "metadata": {
    "collapsed": false
   },
   "outputs": [
    {
     "data": {
      "text/plain": [
       "Celkové zdroje - Sml/Dod                                                    326.411804\n",
       "Rozhodnutí/Smlouva o poskytnutí dotace (celkové zdroje)                     183.536061\n",
       "Rozhodnutí/Smlouva o poskytnutí dotace (veřejné prostředky celkem)          163.902748\n",
       "Rozhodnutí/Smlouva o poskytnutí dotace (EU zdroje)                          168.626124\n",
       "Proplacené prostředky příjemcům - vyúčtované (veřejné prostředky celkem)    150.920879\n",
       "Proplacené prostředky příjemcům - vyúčtované (EU zdroje)                    144.642873\n",
       "Certifikované prostředky (veřejné prostředky celkem)                        129.313003\n",
       "Pořadí v rámci v projektu (filtr)                                             0.000037\n",
       "Počet míst realizace                                                          0.000037\n",
       "veřejná instituce                                                             0.000011\n",
       "poměr vlastních financí (0-1)                                                 0.000016\n",
       "dtype: float64"
      ]
     },
     "execution_count": 426,
     "metadata": {},
     "output_type": "execute_result"
    }
   ],
   "source": [
    "df.loc[df.loc[:, nuts] == 'Rohatec'].sum()/10**6"
   ]
  },
  {
   "cell_type": "code",
   "execution_count": 427,
   "metadata": {
    "collapsed": false
   },
   "outputs": [
    {
     "data": {
      "text/html": [
       "<div>\n",
       "<table border=\"1\" class=\"dataframe\">\n",
       "  <thead>\n",
       "    <tr>\n",
       "      <th></th>\n",
       "      <th colspan=\"6\" halign=\"left\">Rozhodnutí/Smlouva o poskytnutí dotace (EU zdroje)</th>\n",
       "    </tr>\n",
       "    <tr>\n",
       "      <th>Číslo a název programu</th>\n",
       "      <th>CZ.1.02 OP Životní prostředí</th>\n",
       "      <th>CZ.1.03 OP Podnikání a inovace</th>\n",
       "      <th>CZ.1.04 OP Lidské zdroje a zaměstnanost</th>\n",
       "      <th>CZ.1.06 Integrovaný operační program</th>\n",
       "      <th>CZ.1.07 OP Vzdělávání pro konkurenceschopnost</th>\n",
       "      <th>CZ.1.11 ROP NUTS II Jihovýchod</th>\n",
       "    </tr>\n",
       "    <tr>\n",
       "      <th>veřejná instituce</th>\n",
       "      <th></th>\n",
       "      <th></th>\n",
       "      <th></th>\n",
       "      <th></th>\n",
       "      <th></th>\n",
       "      <th></th>\n",
       "    </tr>\n",
       "  </thead>\n",
       "  <tbody>\n",
       "    <tr>\n",
       "      <th>False</th>\n",
       "      <td>15.0</td>\n",
       "      <td>111.0</td>\n",
       "      <td>4.0</td>\n",
       "      <td>NaN</td>\n",
       "      <td>NaN</td>\n",
       "      <td>NaN</td>\n",
       "    </tr>\n",
       "    <tr>\n",
       "      <th>True</th>\n",
       "      <td>26.0</td>\n",
       "      <td>NaN</td>\n",
       "      <td>NaN</td>\n",
       "      <td>0.0</td>\n",
       "      <td>3.0</td>\n",
       "      <td>9.0</td>\n",
       "    </tr>\n",
       "  </tbody>\n",
       "</table>\n",
       "</div>"
      ],
      "text/plain": [
       "                       Rozhodnutí/Smlouva o poskytnutí dotace (EU zdroje)  \\\n",
       "Číslo a název programu                       CZ.1.02 OP Životní prostředí   \n",
       "veřejná instituce                                                           \n",
       "False                                                                15.0   \n",
       "True                                                                 26.0   \n",
       "\n",
       "                                                       \\\n",
       "Číslo a název programu CZ.1.03 OP Podnikání a inovace   \n",
       "veřejná instituce                                       \n",
       "False                                           111.0   \n",
       "True                                              NaN   \n",
       "\n",
       "                                                                \\\n",
       "Číslo a název programu CZ.1.04 OP Lidské zdroje a zaměstnanost   \n",
       "veřejná instituce                                                \n",
       "False                                                      4.0   \n",
       "True                                                       NaN   \n",
       "\n",
       "                                                             \\\n",
       "Číslo a název programu CZ.1.06 Integrovaný operační program   \n",
       "veřejná instituce                                             \n",
       "False                                                   NaN   \n",
       "True                                                    0.0   \n",
       "\n",
       "                                                                      \\\n",
       "Číslo a název programu CZ.1.07 OP Vzdělávání pro konkurenceschopnost   \n",
       "veřejná instituce                                                      \n",
       "False                                                            NaN   \n",
       "True                                                             3.0   \n",
       "\n",
       "                                                       \n",
       "Číslo a název programu CZ.1.11 ROP NUTS II Jihovýchod  \n",
       "veřejná instituce                                      \n",
       "False                                             NaN  \n",
       "True                                              9.0  "
      ]
     },
     "execution_count": 427,
     "metadata": {},
     "output_type": "execute_result"
    }
   ],
   "source": [
    "(df.loc[df.loc[:, nuts] == 'Rohatec', [prog, euz, erar]].groupby([erar, prog]).sum()/10**6).unstack().round(0)"
   ]
  },
  {
   "cell_type": "code",
   "execution_count": 432,
   "metadata": {
    "collapsed": false
   },
   "outputs": [
    {
     "data": {
      "text/plain": [
       "0"
      ]
     },
     "execution_count": 432,
     "metadata": {},
     "output_type": "execute_result"
    }
   ],
   "source": [
    "ver.loc[:, 'NÁZEV'].str.contains('Holovo').sum()"
   ]
  },
  {
   "cell_type": "code",
   "execution_count": null,
   "metadata": {
    "collapsed": true
   },
   "outputs": [],
   "source": []
  },
  {
   "cell_type": "markdown",
   "metadata": {
    "collapsed": true
   },
   "source": [
    "### TODO\n",
    "- <strike>kontroluj erár (po implementaci Ostatní) vůči MFČR seznamu (v dubnu novej)</strike>\n",
    "- <strike>**dopravní podnik prahy je vedenej jako podnikatelskej subjekt**</strike>\n",
    " - <strike>45274649 28196678 26827719 00005886 25508881 61974757 - tohle jsou příklady IČA eráru, který jsou podnikatelé v datasetu</strike>\n",
    " - <strike>jinej mfcr seznam http://www.mfcr.cz/cs/verejny-sektor/rozpoctove-ramce-statisticke-informace/verejny-sektor/verejne-spolecnosti/2016/seznam-verejnych-spolecnosti-v-cr-2016-24752 -nezapomeň lpadnout nulama (třeba DPP je bez nul)</strike>\n",
    "- vyřešit pořadí projektů - jsou ty skrytý řádky důležitý?\n",
    "- <strike>roztřídit Ostatní mezi soukromý a veřejný (je tam toho pár)</strike>\n",
    "- rozkouskovat na stages - příprava, realizace, zaplacení, certifikace\n",
    "- všechny tabulky dělat pro všechny peněžní metriky\n",
    "- Česko-Polsko vyřešit (je to ale jen cca 1 mld)\n",
    "- <strike>uložit názvy sloupců do proměnných</strike>\n",
    "- kofinance + histogram kofinančních poměrů\n",
    "- <strike>přidat dummy sloupec - veřejné či ne</strike>\n",
    "- <strike>rozdělení na operační programy</strike>\n",
    "- dotace per capita (dotace pro veřejnost i soukromníky)\n",
    "- Agrofert, jako minule, ze závěrky; + pivovary, škoda, soukromý sš/vš, učiliště, ...; scio; křetinský, penta, ppf atd., soláry\n",
    "- doprava - SŽDC, ŘSD atd.\n",
    "- CzechTrade, Czech Tourism atd.; Odbory\n",
    "- <strike>rozlišit v rámci neziskovek na církve, ops, ...</strike>\n",
    "- uklidit\n",
    " - <strike>např. obecně prospěšný společnosti (viz výše)</strike>\n",
    " - <strike>VŠ a VŠ (státní) jsou zvlášť, ale ve skutečnosti jsou jedno (soukromý VŠ jsou v podnikatelích)</strike>\n",
    " - <strike>Ostatní -> ústav zařadit mezi neziskovky (je to forma ops)</strike>\n",
    "- <strike>najít firmy s významným podílem státu (ČD, Ruzyň, ČEZ)</strike>\n",
    "- <strike>IČO a názvů žadatelů jsou různý počty - unifikuj</strike>\n",
    "- podnikatelský subjekty rozkouskovat podle Čísla prioritní osy (a/nebo Čísla oblasti podpory) - 3.2.2 je CZC nebo Zoner\n"
   ]
  },
  {
   "cell_type": "code",
   "execution_count": null,
   "metadata": {
    "collapsed": true
   },
   "outputs": [],
   "source": []
  }
 ],
 "metadata": {
  "kernelspec": {
   "display_name": "Python 3",
   "language": "python",
   "name": "python3"
  },
  "language_info": {
   "codemirror_mode": {
    "name": "ipython",
    "version": 3
   },
   "file_extension": ".py",
   "mimetype": "text/x-python",
   "name": "python",
   "nbconvert_exporter": "python",
   "pygments_lexer": "ipython3",
   "version": "3.5.1"
  }
 },
 "nbformat": 4,
 "nbformat_minor": 0
}
