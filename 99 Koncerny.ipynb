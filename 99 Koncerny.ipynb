{
 "cells": [
  {
   "cell_type": "markdown",
   "metadata": {},
   "source": [
    "# 3. Koncerny\n",
    "Nyní se podíváme trochu na rozdělení fondů samotných"
   ]
  },
  {
   "cell_type": "code",
   "execution_count": 49,
   "metadata": {
    "collapsed": false
   },
   "outputs": [],
   "source": [
    "import pandas as pd\n",
    "import numpy as np\n",
    "%matplotlib inline\n",
    "\n",
    "import PyPDF2\n",
    "from io import StringIO\n",
    "import re\n",
    "import urllib"
   ]
  },
  {
   "cell_type": "markdown",
   "metadata": {},
   "source": [
    "## Načítání dat\n",
    "Data od MMR máme zkombinována s daty of MFČR v souboru `vystupy/projekty-bez-popisu.csv` (můžeme použít i `projekty.csv`, ale ty jsou zbytečně velké pro naše potřeby)."
   ]
  },
  {
   "cell_type": "code",
   "execution_count": 3,
   "metadata": {
    "collapsed": false
   },
   "outputs": [],
   "source": [
    "df = pd.read_csv('vystupy/projekty-bez-popisu.csv', low_memory=False)"
   ]
  },
  {
   "cell_type": "code",
   "execution_count": 4,
   "metadata": {
    "collapsed": false
   },
   "outputs": [
    {
     "data": {
      "text/plain": [
       "(73446, 18)"
      ]
     },
     "execution_count": 4,
     "metadata": {},
     "output_type": "execute_result"
    }
   ],
   "source": [
    "df.shape"
   ]
  },
  {
   "cell_type": "code",
   "execution_count": 5,
   "metadata": {
    "collapsed": false
   },
   "outputs": [],
   "source": [
    "# nazvy sloupcu, at se to lip filtruje\n",
    "prog = 'Program'\n",
    "ico = 'IČO'\n",
    "dat = 'Datum'\n",
    "naz = 'Název'\n",
    "celk = 'Celkové zdroje'\n",
    "sml = 'Smlouva'\n",
    "prop = 'Proplaceno'\n",
    "zad = 'Žadatel'\n",
    "prfo = 'Právní forma'\n",
    "prfok = 'Právní forma (kód)'\n",
    "nuts = 'NUTS4'\n",
    "esa = 'ESA'\n",
    "esak = 'ESA (kód)'\n",
    "zam = 'Zaměstnanců'\n",
    "kat = 'Kategorie'\n",
    "ver = 'Veřejná instituce'"
   ]
  },
  {
   "cell_type": "code",
   "execution_count": 6,
   "metadata": {
    "collapsed": false
   },
   "outputs": [],
   "source": [
    "df.loc[:, ico] = [str(j).rjust(8, '0') for j in df.loc[:, ico]]"
   ]
  },
  {
   "cell_type": "markdown",
   "metadata": {},
   "source": [
    "## Seznam\n",
    "\n",
    "[top 100](http://www.czechtop100.cz/menu/aktualne/100-nejvyznmanejsich-firem-cr.html)"
   ]
  },
  {
   "cell_type": "code",
   "execution_count": 7,
   "metadata": {
    "collapsed": false
   },
   "outputs": [],
   "source": [
    "szn = pd.read_excel('http://www.czechtop100.cz/files/download/ke-stazeni/dokumenty/2015-top-100-hlavni-zebricek.xls')"
   ]
  },
  {
   "cell_type": "code",
   "execution_count": 27,
   "metadata": {
    "collapsed": false
   },
   "outputs": [
    {
     "data": {
      "text/html": [
       "<div>\n",
       "<table border=\"1\" class=\"dataframe\">\n",
       "  <thead>\n",
       "    <tr style=\"text-align: right;\">\n",
       "      <th></th>\n",
       "      <th>2014</th>\n",
       "      <th>2013</th>\n",
       "      <th>Firma</th>\n",
       "      <th>Tržby 2014</th>\n",
       "      <th>Tržby 2013</th>\n",
       "    </tr>\n",
       "  </thead>\n",
       "  <tbody>\n",
       "    <tr>\n",
       "      <th>0</th>\n",
       "      <td>1</td>\n",
       "      <td>1</td>\n",
       "      <td>ŠKODA AUTO, a.s.</td>\n",
       "      <td>299318000</td>\n",
       "      <td>243624000</td>\n",
       "    </tr>\n",
       "    <tr>\n",
       "      <th>1</th>\n",
       "      <td>2</td>\n",
       "      <td>2</td>\n",
       "      <td>ČEZ a.s.</td>\n",
       "      <td>200850010</td>\n",
       "      <td>216987816</td>\n",
       "    </tr>\n",
       "    <tr>\n",
       "      <th>2</th>\n",
       "      <td>3</td>\n",
       "      <td>4</td>\n",
       "      <td>AGROFERT, a.s.</td>\n",
       "      <td>166772035</td>\n",
       "      <td>151705412</td>\n",
       "    </tr>\n",
       "    <tr>\n",
       "      <th>3</th>\n",
       "      <td>4</td>\n",
       "      <td>3</td>\n",
       "      <td>RWE Supply &amp; Trading CZ, a.s.</td>\n",
       "      <td>146075223</td>\n",
       "      <td>180213863</td>\n",
       "    </tr>\n",
       "    <tr>\n",
       "      <th>4</th>\n",
       "      <td>5</td>\n",
       "      <td>5</td>\n",
       "      <td>UNIPETROL, a.s.</td>\n",
       "      <td>124229000</td>\n",
       "      <td>99415000</td>\n",
       "    </tr>\n",
       "    <tr>\n",
       "      <th>5</th>\n",
       "      <td>6</td>\n",
       "      <td>6</td>\n",
       "      <td>FOXCONN CZ s.r.o.</td>\n",
       "      <td>119563335</td>\n",
       "      <td>97305705</td>\n",
       "    </tr>\n",
       "    <tr>\n",
       "      <th>6</th>\n",
       "      <td>7</td>\n",
       "      <td>7</td>\n",
       "      <td>Energetický a průmyslový holding, a.s.</td>\n",
       "      <td>100900000</td>\n",
       "      <td>82876000</td>\n",
       "    </tr>\n",
       "    <tr>\n",
       "      <th>7</th>\n",
       "      <td>8</td>\n",
       "      <td>8</td>\n",
       "      <td>ČEPRO, a.s.</td>\n",
       "      <td>93130227</td>\n",
       "      <td>88606259</td>\n",
       "    </tr>\n",
       "    <tr>\n",
       "      <th>8</th>\n",
       "      <td>9</td>\n",
       "      <td>9</td>\n",
       "      <td>MORAVIA STEEL, a.s.</td>\n",
       "      <td>59479480</td>\n",
       "      <td>60038524</td>\n",
       "    </tr>\n",
       "    <tr>\n",
       "      <th>9</th>\n",
       "      <td>10</td>\n",
       "      <td>10</td>\n",
       "      <td>Eni Česká republika, s.r.o.</td>\n",
       "      <td>50814425</td>\n",
       "      <td>48090924</td>\n",
       "    </tr>\n",
       "    <tr>\n",
       "      <th>10</th>\n",
       "      <td>11</td>\n",
       "      <td>11</td>\n",
       "      <td>O2 Czech Republic a.s.</td>\n",
       "      <td>44689000</td>\n",
       "      <td>47895000</td>\n",
       "    </tr>\n",
       "    <tr>\n",
       "      <th>11</th>\n",
       "      <td>12</td>\n",
       "      <td>14</td>\n",
       "      <td>BOSCH Group ČR</td>\n",
       "      <td>43364000</td>\n",
       "      <td>37143000</td>\n",
       "    </tr>\n",
       "    <tr>\n",
       "      <th>12</th>\n",
       "      <td>13</td>\n",
       "      <td>18</td>\n",
       "      <td>Toyota Peugeot Citroën Automobile Czech, s.r.o.</td>\n",
       "      <td>39277269</td>\n",
       "      <td>29773575</td>\n",
       "    </tr>\n",
       "    <tr>\n",
       "      <th>13</th>\n",
       "      <td>14</td>\n",
       "      <td>13</td>\n",
       "      <td>AHOLD Czech Republic, a.s.</td>\n",
       "      <td>38612144</td>\n",
       "      <td>37862902</td>\n",
       "    </tr>\n",
       "    <tr>\n",
       "      <th>14</th>\n",
       "      <td>15</td>\n",
       "      <td>15</td>\n",
       "      <td>TŘINECKÉ ŽELEZÁRNY, a.s.</td>\n",
       "      <td>38352000</td>\n",
       "      <td>36699000</td>\n",
       "    </tr>\n",
       "    <tr>\n",
       "      <th>15</th>\n",
       "      <td>16</td>\n",
       "      <td>16</td>\n",
       "      <td>ArcelorMittal Ostrava a.s.</td>\n",
       "      <td>38236899</td>\n",
       "      <td>34278254</td>\n",
       "    </tr>\n",
       "    <tr>\n",
       "      <th>16</th>\n",
       "      <td>17</td>\n",
       "      <td>17</td>\n",
       "      <td>České dráhy, a.s.</td>\n",
       "      <td>36736949</td>\n",
       "      <td>36922539</td>\n",
       "    </tr>\n",
       "    <tr>\n",
       "      <th>17</th>\n",
       "      <td>18</td>\n",
       "      <td>22</td>\n",
       "      <td>Siemens s.r.o.</td>\n",
       "      <td>34882594</td>\n",
       "      <td>33064854</td>\n",
       "    </tr>\n",
       "    <tr>\n",
       "      <th>18</th>\n",
       "      <td>19</td>\n",
       "      <td>20</td>\n",
       "      <td>Slovnaft Česká republika, spol. s r.o.</td>\n",
       "      <td>31309100</td>\n",
       "      <td>27296353</td>\n",
       "    </tr>\n",
       "    <tr>\n",
       "      <th>19</th>\n",
       "      <td>20</td>\n",
       "      <td>-</td>\n",
       "      <td>METROSTAV a.s.</td>\n",
       "      <td>30531473</td>\n",
       "      <td>27631473</td>\n",
       "    </tr>\n",
       "  </tbody>\n",
       "</table>\n",
       "</div>"
      ],
      "text/plain": [
       "    2014 2013                                            Firma  Tržby 2014  \\\n",
       "0      1    1                                 ŠKODA AUTO, a.s.   299318000   \n",
       "1      2    2                                         ČEZ a.s.   200850010   \n",
       "2      3    4                                   AGROFERT, a.s.   166772035   \n",
       "3      4    3                    RWE Supply & Trading CZ, a.s.   146075223   \n",
       "4      5    5                                  UNIPETROL, a.s.   124229000   \n",
       "5      6    6                                FOXCONN CZ s.r.o.   119563335   \n",
       "6      7    7           Energetický a průmyslový holding, a.s.   100900000   \n",
       "7      8    8                                      ČEPRO, a.s.    93130227   \n",
       "8      9    9                              MORAVIA STEEL, a.s.    59479480   \n",
       "9     10   10                      Eni Česká republika, s.r.o.    50814425   \n",
       "10    11   11                           O2 Czech Republic a.s.    44689000   \n",
       "11    12   14                                   BOSCH Group ČR    43364000   \n",
       "12    13   18  Toyota Peugeot Citroën Automobile Czech, s.r.o.    39277269   \n",
       "13    14   13                       AHOLD Czech Republic, a.s.    38612144   \n",
       "14    15   15                         TŘINECKÉ ŽELEZÁRNY, a.s.    38352000   \n",
       "15    16   16                       ArcelorMittal Ostrava a.s.    38236899   \n",
       "16    17   17                                České dráhy, a.s.    36736949   \n",
       "17    18   22                                   Siemens s.r.o.    34882594   \n",
       "18    19   20           Slovnaft Česká republika, spol. s r.o.    31309100   \n",
       "19    20   -                                    METROSTAV a.s.    30531473   \n",
       "\n",
       "    Tržby 2013  \n",
       "0    243624000  \n",
       "1    216987816  \n",
       "2    151705412  \n",
       "3    180213863  \n",
       "4     99415000  \n",
       "5     97305705  \n",
       "6     82876000  \n",
       "7     88606259  \n",
       "8     60038524  \n",
       "9     48090924  \n",
       "10    47895000  \n",
       "11    37143000  \n",
       "12    29773575  \n",
       "13    37862902  \n",
       "14    36699000  \n",
       "15    34278254  \n",
       "16    36922539  \n",
       "17    33064854  \n",
       "18    27296353  \n",
       "19    27631473  "
      ]
     },
     "execution_count": 27,
     "metadata": {},
     "output_type": "execute_result"
    }
   ],
   "source": [
    "szn.head(20)"
   ]
  },
  {
   "cell_type": "code",
   "execution_count": 72,
   "metadata": {
    "collapsed": false
   },
   "outputs": [
    {
     "data": {
      "text/plain": [
       "Celkové zdroje    0.0\n",
       "Smlouva           0.0\n",
       "dtype: float64"
      ]
     },
     "execution_count": 72,
     "metadata": {},
     "output_type": "execute_result"
    }
   ],
   "source": [
    "df.loc[df.loc[:, zad].str.contains('wotan', flags=re.IGNORECASE).replace(np.nan, False), [celk, sml]].sum()/10**6"
   ]
  },
  {
   "cell_type": "code",
   "execution_count": null,
   "metadata": {
    "collapsed": true
   },
   "outputs": [],
   "source": []
  },
  {
   "cell_type": "code",
   "execution_count": null,
   "metadata": {
    "collapsed": true
   },
   "outputs": [],
   "source": []
  },
  {
   "cell_type": "code",
   "execution_count": null,
   "metadata": {
    "collapsed": true
   },
   "outputs": [],
   "source": []
  },
  {
   "cell_type": "code",
   "execution_count": null,
   "metadata": {
    "collapsed": true
   },
   "outputs": [],
   "source": []
  },
  {
   "cell_type": "code",
   "execution_count": null,
   "metadata": {
    "collapsed": true
   },
   "outputs": [],
   "source": []
  },
  {
   "cell_type": "markdown",
   "metadata": {},
   "source": [
    "    MORAVIA STEEL\n",
    "    http://www.trz.cz/web/trzocel.nsf/link/spolecnosti_skupina_cz\n",
    "    18050646, 47675896, 47674539, 25830716, 47672081, 48395862, 27768953, 25870807, 42293588, 26955342, 46978496, 29400066, 28262913\n",
    "\n",
    "    18050646\tTřinecké železárny\n",
    "    47675896    Energetika Třinec\n",
    "    47674539    Strojírny a stavby Třinec\n",
    "    25830716\tSlévárny Třinec\n",
    "    47672081    Řetězárna\n",
    "    48395862\tRefrasil\n",
    "    27768953    VÚHŽ\n",
    "    25870807    MATERIÁLOVÝ A METALURGICKÝ VÝZKUM\n",
    "    42293588    Šroubárna Kyjov\n",
    "    26955342    HŽP\n",
    "    46978496    Kovárna Viva\n",
    "    29400066    ŽDB drátovna\n",
    "    28262913    DALSELV DESIGN\n",
    "\n",
    "    ms = '18050646, 47675896, 47674539, 25830716, 47672081, 48395862, 27768953, 25870807, 42293588, 26955342, 46978496, 29400066, 28262913'.split(', ')\n",
    "\n",
    "    msd = df.loc[df.loc[:, ico].isin(ms)].groupby([ico, zad]).sum().loc[:, [celk, sml, prop]]\n",
    "    (msd.sort_values(by=sml, ascending=False)/10**9).round(2)"
   ]
  },
  {
   "cell_type": "code",
   "execution_count": null,
   "metadata": {
    "collapsed": true
   },
   "outputs": [],
   "source": []
  },
  {
   "cell_type": "code",
   "execution_count": null,
   "metadata": {
    "collapsed": true
   },
   "outputs": [],
   "source": []
  },
  {
   "cell_type": "markdown",
   "metadata": {},
   "source": [
    "## Agroferti\n",
    "- [minule](https://gist.github.com/kokes/052cc2a63e6366fc92b1)\n",
    "- Dotyk nedetailuje\n",
    "- [Hlidaci pes](http://hlidacipes.org/babisovo-eurodotacni-kolecko-agrofert-zada-politici-ano-schvaluji-ministr-financi-kontroluje/)\n",
    "- wotan? neni v datech, ale Hlidaci pes je tam ma\n"
   ]
  },
  {
   "cell_type": "code",
   "execution_count": 52,
   "metadata": {
    "collapsed": true
   },
   "outputs": [],
   "source": [
    "def getPDFContent(path, pages=[]):\n",
    "    content = \"\"\n",
    "    p = open(path, \"rb\")\n",
    "    pdf = PyPDF2.PdfFileReader(p)\n",
    "    if pages:\n",
    "        for i in pages:\n",
    "            content += pdf.getPage(i).extractText() + \"\\n\"\n",
    "    else:\n",
    "        numPages = pdf.getNumPages()\n",
    "        for i in range(numPages):\n",
    "            content += pdf.getPage(i).extractText() + \"\\n\"\n",
    "    content = \" \".join(content.replace(u\"\\xa0\", \" \").strip().split())\n",
    "    return content"
   ]
  },
  {
   "cell_type": "code",
   "execution_count": 53,
   "metadata": {
    "collapsed": false
   },
   "outputs": [],
   "source": [
    "ag_url = 'http://www.agrofert.cz/media/download/7176'\n",
    "ag_fn, header = urllib.request.urlretrieve(ag_url)\n",
    "\n",
    "vz = getPDFContent(ag_fn)"
   ]
  },
  {
   "cell_type": "code",
   "execution_count": 59,
   "metadata": {
    "collapsed": true
   },
   "outputs": [],
   "source": [
    "#vz = vz.encode('ascii', 'ignore')\n",
    "agica = re.findall(r\"([0-9]{8})\", vz)\n",
    "\n",
    "# agroico = [int(j) for j in np.unique(m)]\n",
    "#np.shape(dot.loc[dot.ico.isin(agroico),'castka_alok'])"
   ]
  },
  {
   "cell_type": "code",
   "execution_count": 63,
   "metadata": {
    "collapsed": false
   },
   "outputs": [
    {
     "data": {
      "text/plain": [
       "Celkové zdroje    5.396987\n",
       "Smlouva           1.607321\n",
       "dtype: float64"
      ]
     },
     "execution_count": 63,
     "metadata": {},
     "output_type": "execute_result"
    }
   ],
   "source": [
    "df.loc[df.loc[:, ico].isin(agica), [celk, sml]].sum()/10**9"
   ]
  },
  {
   "cell_type": "code",
   "execution_count": 80,
   "metadata": {
    "collapsed": false
   },
   "outputs": [
    {
     "data": {
      "text/html": [
       "<div>\n",
       "<table border=\"1\" class=\"dataframe\">\n",
       "  <thead>\n",
       "    <tr style=\"text-align: right;\">\n",
       "      <th></th>\n",
       "      <th></th>\n",
       "      <th>Celkové zdroje</th>\n",
       "      <th>Smlouva</th>\n",
       "      <th>Proplaceno</th>\n",
       "    </tr>\n",
       "    <tr>\n",
       "      <th>IČO</th>\n",
       "      <th>Žadatel</th>\n",
       "      <th></th>\n",
       "      <th></th>\n",
       "      <th></th>\n",
       "    </tr>\n",
       "  </thead>\n",
       "  <tbody>\n",
       "    <tr>\n",
       "      <th>49100262</th>\n",
       "      <th>Lovochemie, a.s.</th>\n",
       "      <td>1886.33</td>\n",
       "      <td>473.64</td>\n",
       "      <td>472.27</td>\n",
       "    </tr>\n",
       "    <tr>\n",
       "      <th>60108916</th>\n",
       "      <th>Synthesia, a.s.</th>\n",
       "      <td>1370.25</td>\n",
       "      <td>390.74</td>\n",
       "      <td>389.37</td>\n",
       "    </tr>\n",
       "    <tr>\n",
       "      <th>00011835</th>\n",
       "      <th>DEZA, a.s.</th>\n",
       "      <td>577.67</td>\n",
       "      <td>154.43</td>\n",
       "      <td>145.40</td>\n",
       "    </tr>\n",
       "    <tr>\n",
       "      <th>26872307</th>\n",
       "      <th>PRECHEZA a.s.</th>\n",
       "      <td>335.93</td>\n",
       "      <td>124.32</td>\n",
       "      <td>105.89</td>\n",
       "    </tr>\n",
       "    <tr>\n",
       "      <th>27465021</th>\n",
       "      <th>Fatra, a.s.</th>\n",
       "      <td>343.78</td>\n",
       "      <td>117.92</td>\n",
       "      <td>105.95</td>\n",
       "    </tr>\n",
       "    <tr>\n",
       "      <th>60108975</th>\n",
       "      <th>Výzkumný ústav organických syntéz a.s.</th>\n",
       "      <td>215.49</td>\n",
       "      <td>74.54</td>\n",
       "      <td>73.58</td>\n",
       "    </tr>\n",
       "    <tr>\n",
       "      <th>14612411</th>\n",
       "      <th>CS CABOT, spol. s r.o.</th>\n",
       "      <td>112.05</td>\n",
       "      <td>36.53</td>\n",
       "      <td>35.54</td>\n",
       "    </tr>\n",
       "    <tr>\n",
       "      <th>46967851</th>\n",
       "      <th>PENAM, a.s.</th>\n",
       "      <td>54.33</td>\n",
       "      <td>24.75</td>\n",
       "      <td>22.49</td>\n",
       "    </tr>\n",
       "    <tr>\n",
       "      <th>25193473</th>\n",
       "      <th>PUCLICKÁ, s.r.o.</th>\n",
       "      <td>75.81</td>\n",
       "      <td>19.33</td>\n",
       "      <td>19.31</td>\n",
       "    </tr>\n",
       "    <tr>\n",
       "      <th>63908522</th>\n",
       "      <th>FARMTEC a.s.</th>\n",
       "      <td>42.39</td>\n",
       "      <td>18.67</td>\n",
       "      <td>18.55</td>\n",
       "    </tr>\n",
       "    <tr>\n",
       "      <th>28771982</th>\n",
       "      <th>JILOS HORKA, s.r.o.</th>\n",
       "      <td>31.71</td>\n",
       "      <td>15.56</td>\n",
       "      <td>14.23</td>\n",
       "    </tr>\n",
       "    <tr>\n",
       "      <th>45148082</th>\n",
       "      <th>AgroZZN, a.s.</th>\n",
       "      <td>23.23</td>\n",
       "      <td>14.40</td>\n",
       "      <td>5.11</td>\n",
       "    </tr>\n",
       "    <tr>\n",
       "      <th>25517074</th>\n",
       "      <th>Energetika Chropyně, a.s.</th>\n",
       "      <td>43.03</td>\n",
       "      <td>13.23</td>\n",
       "      <td>10.24</td>\n",
       "    </tr>\n",
       "    <tr>\n",
       "      <th>26311208</th>\n",
       "      <th>PREOL, a.s.</th>\n",
       "      <td>21.66</td>\n",
       "      <td>10.52</td>\n",
       "      <td>10.13</td>\n",
       "    </tr>\n",
       "    <tr>\n",
       "      <th>48169188</th>\n",
       "      <th>Mlékárna Hlinsko, a.s.</th>\n",
       "      <td>11.49</td>\n",
       "      <td>9.77</td>\n",
       "      <td>9.52</td>\n",
       "    </tr>\n",
       "    <tr>\n",
       "      <th>46504940</th>\n",
       "      <th>Cerea, a.s.</th>\n",
       "      <td>21.47</td>\n",
       "      <td>9.06</td>\n",
       "      <td>9.06</td>\n",
       "    </tr>\n",
       "    <tr>\n",
       "      <th>45148210</th>\n",
       "      <th>ZZN Polabí, a.s.</th>\n",
       "      <td>25.07</td>\n",
       "      <td>8.29</td>\n",
       "      <td>8.29</td>\n",
       "    </tr>\n",
       "    <tr>\n",
       "      <th>28778758</th>\n",
       "      <th>Centrum organické chemie s.r.o.</th>\n",
       "      <td>11.01</td>\n",
       "      <td>6.93</td>\n",
       "      <td>6.88</td>\n",
       "    </tr>\n",
       "    <tr>\n",
       "      <th>25396480</th>\n",
       "      <th>Vodňanská drůbež, a.s.</th>\n",
       "      <td>7.68</td>\n",
       "      <td>6.53</td>\n",
       "      <td>6.46</td>\n",
       "    </tr>\n",
       "    <tr>\n",
       "      <th>45148155</th>\n",
       "      <th>Primagra, a.s.</th>\n",
       "      <td>13.36</td>\n",
       "      <td>6.19</td>\n",
       "      <td>6.19</td>\n",
       "    </tr>\n",
       "  </tbody>\n",
       "</table>\n",
       "</div>"
      ],
      "text/plain": [
       "                                                 Celkové zdroje  Smlouva  \\\n",
       "IČO      Žadatel                                                           \n",
       "49100262 Lovochemie, a.s.                               1886.33   473.64   \n",
       "60108916 Synthesia, a.s.                                1370.25   390.74   \n",
       "00011835 DEZA, a.s.                                      577.67   154.43   \n",
       "26872307 PRECHEZA a.s.                                   335.93   124.32   \n",
       "27465021 Fatra, a.s.                                     343.78   117.92   \n",
       "60108975 Výzkumný ústav organických syntéz a.s.          215.49    74.54   \n",
       "14612411 CS CABOT, spol. s r.o.                          112.05    36.53   \n",
       "46967851 PENAM, a.s.                                      54.33    24.75   \n",
       "25193473 PUCLICKÁ, s.r.o.                                 75.81    19.33   \n",
       "63908522 FARMTEC a.s.                                     42.39    18.67   \n",
       "28771982 JILOS HORKA, s.r.o.                              31.71    15.56   \n",
       "45148082 AgroZZN, a.s.                                    23.23    14.40   \n",
       "25517074 Energetika Chropyně, a.s.                        43.03    13.23   \n",
       "26311208 PREOL, a.s.                                      21.66    10.52   \n",
       "48169188 Mlékárna Hlinsko, a.s.                           11.49     9.77   \n",
       "46504940 Cerea, a.s.                                      21.47     9.06   \n",
       "45148210 ZZN Polabí, a.s.                                 25.07     8.29   \n",
       "28778758 Centrum organické chemie s.r.o.                  11.01     6.93   \n",
       "25396480 Vodňanská drůbež, a.s.                            7.68     6.53   \n",
       "45148155 Primagra, a.s.                                   13.36     6.19   \n",
       "\n",
       "                                                 Proplaceno  \n",
       "IČO      Žadatel                                             \n",
       "49100262 Lovochemie, a.s.                            472.27  \n",
       "60108916 Synthesia, a.s.                             389.37  \n",
       "00011835 DEZA, a.s.                                  145.40  \n",
       "26872307 PRECHEZA a.s.                               105.89  \n",
       "27465021 Fatra, a.s.                                 105.95  \n",
       "60108975 Výzkumný ústav organických syntéz a.s.       73.58  \n",
       "14612411 CS CABOT, spol. s r.o.                       35.54  \n",
       "46967851 PENAM, a.s.                                  22.49  \n",
       "25193473 PUCLICKÁ, s.r.o.                             19.31  \n",
       "63908522 FARMTEC a.s.                                 18.55  \n",
       "28771982 JILOS HORKA, s.r.o.                          14.23  \n",
       "45148082 AgroZZN, a.s.                                 5.11  \n",
       "25517074 Energetika Chropyně, a.s.                    10.24  \n",
       "26311208 PREOL, a.s.                                  10.13  \n",
       "48169188 Mlékárna Hlinsko, a.s.                        9.52  \n",
       "46504940 Cerea, a.s.                                   9.06  \n",
       "45148210 ZZN Polabí, a.s.                              8.29  \n",
       "28778758 Centrum organické chemie s.r.o.               6.88  \n",
       "25396480 Vodňanská drůbež, a.s.                        6.46  \n",
       "45148155 Primagra, a.s.                                6.19  "
      ]
     },
     "execution_count": 80,
     "metadata": {},
     "output_type": "execute_result"
    }
   ],
   "source": [
    "agr = df.loc[df.loc[:, ico].isin(agica), :].groupby([ico, zad]).sum().loc[:, [celk, sml, prop]]\n",
    "(agr.sort_values(by=sml, ascending=False)/10**6).round(2).head(20)"
   ]
  },
  {
   "cell_type": "code",
   "execution_count": null,
   "metadata": {
    "collapsed": true
   },
   "outputs": [],
   "source": []
  },
  {
   "cell_type": "code",
   "execution_count": null,
   "metadata": {
    "collapsed": true
   },
   "outputs": [],
   "source": []
  },
  {
   "cell_type": "code",
   "execution_count": null,
   "metadata": {
    "collapsed": true
   },
   "outputs": [],
   "source": []
  },
  {
   "cell_type": "code",
   "execution_count": null,
   "metadata": {
    "collapsed": true
   },
   "outputs": [],
   "source": []
  },
  {
   "cell_type": "code",
   "execution_count": null,
   "metadata": {
    "collapsed": true
   },
   "outputs": [],
   "source": []
  },
  {
   "cell_type": "code",
   "execution_count": null,
   "metadata": {
    "collapsed": true
   },
   "outputs": [],
   "source": []
  },
  {
   "cell_type": "code",
   "execution_count": null,
   "metadata": {
    "collapsed": true
   },
   "outputs": [],
   "source": []
  },
  {
   "cell_type": "code",
   "execution_count": null,
   "metadata": {
    "collapsed": true
   },
   "outputs": [],
   "source": []
  },
  {
   "cell_type": "code",
   "execution_count": null,
   "metadata": {
    "collapsed": true
   },
   "outputs": [],
   "source": []
  }
 ],
 "metadata": {
  "kernelspec": {
   "display_name": "Python 3",
   "language": "python",
   "name": "python3"
  },
  "language_info": {
   "codemirror_mode": {
    "name": "ipython",
    "version": 3
   },
   "file_extension": ".py",
   "mimetype": "text/x-python",
   "name": "python",
   "nbconvert_exporter": "python",
   "pygments_lexer": "ipython3",
   "version": "3.5.1"
  }
 },
 "nbformat": 4,
 "nbformat_minor": 0
}
