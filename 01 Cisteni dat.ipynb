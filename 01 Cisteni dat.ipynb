{
 "cells": [
  {
   "cell_type": "markdown",
   "metadata": {},
   "source": [
    "# 1. Čištění a spojování dat\n",
    "V první fázi budeme číst data z MMR a trochu je počistíme."
   ]
  },
  {
   "cell_type": "code",
   "execution_count": 1,
   "metadata": {
    "collapsed": true
   },
   "outputs": [],
   "source": [
    "import pandas as pd\n",
    "import numpy as np\n",
    "import urllib.request\n",
    "import os\n",
    "%matplotlib inline"
   ]
  },
  {
   "cell_type": "code",
   "execution_count": 2,
   "metadata": {
    "collapsed": true
   },
   "outputs": [],
   "source": [
    "url = 'http://www.strukturalni-fondy.cz/getmedia/d10fe3b0-15f5-4cdb-b916-64be5b4c5c4d/Prehled_projektu_20160406u.xlsx?ext=.xlsx'\n",
    "fn = 'vstupy/prehled.xlsx'\n",
    "dvs = 'vystupy' # kam se budou ukladat vystupy\n",
    "\n",
    "if not os.path.exists(fn):\n",
    "    urllib.request.urlretrieve(url, fn)"
   ]
  },
  {
   "cell_type": "code",
   "execution_count": 3,
   "metadata": {
    "collapsed": true
   },
   "outputs": [],
   "source": [
    "df = pd.read_excel(fn)\n",
    "df = df.loc[df.loc[:, 'Pořadí v rámci v projektu (filtr)'] == 1] # kazdy projekt ma vic radku"
   ]
  },
  {
   "cell_type": "markdown",
   "metadata": {
    "collapsed": true
   },
   "source": [
    "Celkem máme 75 tisíc projektů z období 2007-2013, ke každému 28 indikátorů, většina je celkem sebevysvětlující."
   ]
  },
  {
   "cell_type": "code",
   "execution_count": 4,
   "metadata": {
    "collapsed": false
   },
   "outputs": [
    {
     "data": {
      "text/plain": [
       "(75137, 28)"
      ]
     },
     "execution_count": 4,
     "metadata": {},
     "output_type": "execute_result"
    }
   ],
   "source": [
    "df.shape"
   ]
  },
  {
   "cell_type": "code",
   "execution_count": 5,
   "metadata": {
    "collapsed": false
   },
   "outputs": [
    {
     "data": {
      "text/plain": [
       "Index(['Číslo a název programu', 'Číslo prioritní osy',\n",
       "       'Číslo oblasti podpory', 'Číslo projektu', 'Název projektu',\n",
       "       'Popis projektu', 'Žadatel', 'IČ žadatele', 'Hosp.právní forma',\n",
       "       'Hosp.právní forma - skupina', 'Stav projektu',\n",
       "       'Datum podpisu smlouvy/rozhodnutí', 'Adresa žadatele',\n",
       "       'Kraj žadatele - kód', 'Kraj žadatele - název', 'Obec žadatele - kód',\n",
       "       'Obec žadatele - název', 'Celkové zdroje - Sml/Dod',\n",
       "       'Rozhodnutí/Smlouva o poskytnutí dotace (celkové zdroje)',\n",
       "       'Rozhodnutí/Smlouva o poskytnutí dotace (veřejné prostředky celkem)',\n",
       "       'Rozhodnutí/Smlouva o poskytnutí dotace (EU zdroje)',\n",
       "       'Proplacené prostředky příjemcům - vyúčtované (veřejné prostředky celkem)',\n",
       "       'Proplacené prostředky příjemcům - vyúčtované (EU zdroje)',\n",
       "       'Certifikované prostředky (veřejné prostředky celkem)',\n",
       "       'Certifikované prostředky (EU zdroje)', 'Název NUTS',\n",
       "       'Pořadí v rámci v projektu (filtr)', 'Počet míst realizace'],\n",
       "      dtype='object')"
      ]
     },
     "execution_count": 5,
     "metadata": {},
     "output_type": "execute_result"
    }
   ],
   "source": [
    "df.columns"
   ]
  },
  {
   "cell_type": "code",
   "execution_count": 6,
   "metadata": {
    "collapsed": true
   },
   "outputs": [],
   "source": [
    "# nazvy sloupcu, at se to lip filtruje\n",
    "prfo = 'Hosp.právní forma'\n",
    "prfos = 'Hosp.právní forma - skupina'\n",
    "prog = 'Číslo a název programu'\n",
    "nuts = 'Název NUTS'\n",
    "ico = 'IČ žadatele'\n",
    "zad = 'Žadatel'\n",
    "adr = 'Adresa žadatele'\n",
    "obko = 'Obec žadatele - kód'\n",
    "stav = 'Stav projektu'\n",
    "dat = 'Datum podpisu smlouvy/rozhodnutí'\n",
    "popis = 'Popis projektu'\n",
    "nazev = 'Název projektu'\n",
    "celk = 'Celkové zdroje - Sml/Dod'\n",
    "euz = 'Rozhodnutí/Smlouva o poskytnutí dotace (veřejné prostředky celkem)'\n",
    "eup = 'Proplacené prostředky příjemcům - vyúčtované (veřejné prostředky celkem)'"
   ]
  },
  {
   "cell_type": "code",
   "execution_count": null,
   "metadata": {
    "collapsed": true
   },
   "outputs": [],
   "source": []
  },
  {
   "cell_type": "code",
   "execution_count": 7,
   "metadata": {
    "collapsed": false
   },
   "outputs": [
    {
     "data": {
      "text/html": [
       "<div>\n",
       "<table border=\"1\" class=\"dataframe\">\n",
       "  <thead>\n",
       "    <tr style=\"text-align: right;\">\n",
       "      <th></th>\n",
       "      <th>115197</th>\n",
       "      <th>115256</th>\n",
       "    </tr>\n",
       "  </thead>\n",
       "  <tbody>\n",
       "    <tr>\n",
       "      <th>Číslo a název programu</th>\n",
       "      <td>CZ.3.22 OP ČR - Polsko</td>\n",
       "      <td>CZ.3.22 OP ČR - Polsko</td>\n",
       "    </tr>\n",
       "    <tr>\n",
       "      <th>Číslo prioritní osy</th>\n",
       "      <td>22.3</td>\n",
       "      <td>22.3</td>\n",
       "    </tr>\n",
       "    <tr>\n",
       "      <th>Číslo oblasti podpory</th>\n",
       "      <td>22.3.3</td>\n",
       "      <td>22.3.3</td>\n",
       "    </tr>\n",
       "    <tr>\n",
       "      <th>Číslo projektu</th>\n",
       "      <td>CZ.3.22/3.3.01/10.01931</td>\n",
       "      <td>CZ.3.22/3.3.01/11.02533</td>\n",
       "    </tr>\n",
       "    <tr>\n",
       "      <th>Název projektu</th>\n",
       "      <td>ROZVOJ MOTORSPORTU V ERN</td>\n",
       "      <td>Mezinárodní turnaj mladých basketbalových tale...</td>\n",
       "    </tr>\n",
       "    <tr>\n",
       "      <th>Popis projektu</th>\n",
       "      <td>Z důvodu neustále zvyšování prodejů terénních ...</td>\n",
       "      <td>Spolupráce polského Klubu Koszykówkim \"StarBol...</td>\n",
       "    </tr>\n",
       "    <tr>\n",
       "      <th>Žadatel</th>\n",
       "      <td>JAC-racing</td>\n",
       "      <td>Basketbalový klub Kondoři Liberec</td>\n",
       "    </tr>\n",
       "    <tr>\n",
       "      <th>IČ žadatele</th>\n",
       "      <td>26576180</td>\n",
       "      <td>27017052</td>\n",
       "    </tr>\n",
       "    <tr>\n",
       "      <th>Hosp.právní forma</th>\n",
       "      <td>Sdruž.(svaz,spolek,spol</td>\n",
       "      <td>Sdruž.(svaz,spolek,spol</td>\n",
       "    </tr>\n",
       "    <tr>\n",
       "      <th>Hosp.právní forma - skupina</th>\n",
       "      <td>Komory, profesní a zájmové sdružení</td>\n",
       "      <td>Komory, profesní a zájmové sdružení</td>\n",
       "    </tr>\n",
       "    <tr>\n",
       "      <th>Stav projektu</th>\n",
       "      <td>P6 Financování projektu ukončeno</td>\n",
       "      <td>P6 Financování projektu ukončeno</td>\n",
       "    </tr>\n",
       "    <tr>\n",
       "      <th>Datum podpisu smlouvy/rozhodnutí</th>\n",
       "      <td>2010-06-23 00:00:00</td>\n",
       "      <td>2011-06-20 00:00:00</td>\n",
       "    </tr>\n",
       "    <tr>\n",
       "      <th>Adresa žadatele</th>\n",
       "      <td>46401 Frýdlant, Raisova 733/</td>\n",
       "      <td>46007 Liberec, Jeronýmova 574/43</td>\n",
       "    </tr>\n",
       "    <tr>\n",
       "      <th>Kraj žadatele - kód</th>\n",
       "      <td>CZ051</td>\n",
       "      <td>CZ051</td>\n",
       "    </tr>\n",
       "    <tr>\n",
       "      <th>Kraj žadatele - název</th>\n",
       "      <td>Liberecký</td>\n",
       "      <td>Liberecký</td>\n",
       "    </tr>\n",
       "    <tr>\n",
       "      <th>Obec žadatele - kód</th>\n",
       "      <td>CZ0513564028</td>\n",
       "      <td>CZ0513563889</td>\n",
       "    </tr>\n",
       "    <tr>\n",
       "      <th>Obec žadatele - název</th>\n",
       "      <td>Frýdlant</td>\n",
       "      <td>Liberec</td>\n",
       "    </tr>\n",
       "    <tr>\n",
       "      <th>Celkové zdroje - Sml/Dod</th>\n",
       "      <td>11786.2</td>\n",
       "      <td>15207.8</td>\n",
       "    </tr>\n",
       "    <tr>\n",
       "      <th>Rozhodnutí/Smlouva o poskytnutí dotace (celkové zdroje)</th>\n",
       "      <td>11786.2</td>\n",
       "      <td>15207.8</td>\n",
       "    </tr>\n",
       "    <tr>\n",
       "      <th>Rozhodnutí/Smlouva o poskytnutí dotace (veřejné prostředky celkem)</th>\n",
       "      <td>10018.2</td>\n",
       "      <td>12926.7</td>\n",
       "    </tr>\n",
       "    <tr>\n",
       "      <th>Rozhodnutí/Smlouva o poskytnutí dotace (EU zdroje)</th>\n",
       "      <td>NaN</td>\n",
       "      <td>NaN</td>\n",
       "    </tr>\n",
       "    <tr>\n",
       "      <th>Proplacené prostředky příjemcům - vyúčtované (veřejné prostředky celkem)</th>\n",
       "      <td>NaN</td>\n",
       "      <td>NaN</td>\n",
       "    </tr>\n",
       "    <tr>\n",
       "      <th>Proplacené prostředky příjemcům - vyúčtované (EU zdroje)</th>\n",
       "      <td>NaN</td>\n",
       "      <td>NaN</td>\n",
       "    </tr>\n",
       "    <tr>\n",
       "      <th>Certifikované prostředky (veřejné prostředky celkem)</th>\n",
       "      <td>NaN</td>\n",
       "      <td>NaN</td>\n",
       "    </tr>\n",
       "    <tr>\n",
       "      <th>Certifikované prostředky (EU zdroje)</th>\n",
       "      <td>PL511D002573</td>\n",
       "      <td>PL5111001681</td>\n",
       "    </tr>\n",
       "    <tr>\n",
       "      <th>Název NUTS</th>\n",
       "      <td>Bogatynia</td>\n",
       "      <td>Bolesławiec</td>\n",
       "    </tr>\n",
       "    <tr>\n",
       "      <th>Pořadí v rámci v projektu (filtr)</th>\n",
       "      <td>1</td>\n",
       "      <td>1</td>\n",
       "    </tr>\n",
       "    <tr>\n",
       "      <th>Počet míst realizace</th>\n",
       "      <td>1</td>\n",
       "      <td>1</td>\n",
       "    </tr>\n",
       "  </tbody>\n",
       "</table>\n",
       "</div>"
      ],
      "text/plain": [
       "                                                                                               115197  \\\n",
       "Číslo a název programu                                                         CZ.3.22 OP ČR - Polsko   \n",
       "Číslo prioritní osy                                                                              22.3   \n",
       "Číslo oblasti podpory                                                                          22.3.3   \n",
       "Číslo projektu                                                                CZ.3.22/3.3.01/10.01931   \n",
       "Název projektu                                                               ROZVOJ MOTORSPORTU V ERN   \n",
       "Popis projektu                                      Z důvodu neustále zvyšování prodejů terénních ...   \n",
       "Žadatel                                                                                    JAC-racing   \n",
       "IČ žadatele                                                                                  26576180   \n",
       "Hosp.právní forma                                                             Sdruž.(svaz,spolek,spol   \n",
       "Hosp.právní forma - skupina                                       Komory, profesní a zájmové sdružení   \n",
       "Stav projektu                                                        P6 Financování projektu ukončeno   \n",
       "Datum podpisu smlouvy/rozhodnutí                                                  2010-06-23 00:00:00   \n",
       "Adresa žadatele                                                          46401 Frýdlant, Raisova 733/   \n",
       "Kraj žadatele - kód                                                                             CZ051   \n",
       "Kraj žadatele - název                                                                       Liberecký   \n",
       "Obec žadatele - kód                                                                      CZ0513564028   \n",
       "Obec žadatele - název                                                                        Frýdlant   \n",
       "Celkové zdroje - Sml/Dod                                                                      11786.2   \n",
       "Rozhodnutí/Smlouva o poskytnutí dotace (celkové...                                            11786.2   \n",
       "Rozhodnutí/Smlouva o poskytnutí dotace (veřejné...                                            10018.2   \n",
       "Rozhodnutí/Smlouva o poskytnutí dotace (EU zdroje)                                                NaN   \n",
       "Proplacené prostředky příjemcům - vyúčtované (v...                                                NaN   \n",
       "Proplacené prostředky příjemcům - vyúčtované (E...                                                NaN   \n",
       "Certifikované prostředky (veřejné prostředky ce...                                                NaN   \n",
       "Certifikované prostředky (EU zdroje)                                                     PL511D002573   \n",
       "Název NUTS                                                                                  Bogatynia   \n",
       "Pořadí v rámci v projektu (filtr)                                                                   1   \n",
       "Počet míst realizace                                                                                1   \n",
       "\n",
       "                                                                                               115256  \n",
       "Číslo a název programu                                                         CZ.3.22 OP ČR - Polsko  \n",
       "Číslo prioritní osy                                                                              22.3  \n",
       "Číslo oblasti podpory                                                                          22.3.3  \n",
       "Číslo projektu                                                                CZ.3.22/3.3.01/11.02533  \n",
       "Název projektu                                      Mezinárodní turnaj mladých basketbalových tale...  \n",
       "Popis projektu                                      Spolupráce polského Klubu Koszykówkim \"StarBol...  \n",
       "Žadatel                                                             Basketbalový klub Kondoři Liberec  \n",
       "IČ žadatele                                                                                  27017052  \n",
       "Hosp.právní forma                                                             Sdruž.(svaz,spolek,spol  \n",
       "Hosp.právní forma - skupina                                       Komory, profesní a zájmové sdružení  \n",
       "Stav projektu                                                        P6 Financování projektu ukončeno  \n",
       "Datum podpisu smlouvy/rozhodnutí                                                  2011-06-20 00:00:00  \n",
       "Adresa žadatele                                                      46007 Liberec, Jeronýmova 574/43  \n",
       "Kraj žadatele - kód                                                                             CZ051  \n",
       "Kraj žadatele - název                                                                       Liberecký  \n",
       "Obec žadatele - kód                                                                      CZ0513563889  \n",
       "Obec žadatele - název                                                                         Liberec  \n",
       "Celkové zdroje - Sml/Dod                                                                      15207.8  \n",
       "Rozhodnutí/Smlouva o poskytnutí dotace (celkové...                                            15207.8  \n",
       "Rozhodnutí/Smlouva o poskytnutí dotace (veřejné...                                            12926.7  \n",
       "Rozhodnutí/Smlouva o poskytnutí dotace (EU zdroje)                                                NaN  \n",
       "Proplacené prostředky příjemcům - vyúčtované (v...                                                NaN  \n",
       "Proplacené prostředky příjemcům - vyúčtované (E...                                                NaN  \n",
       "Certifikované prostředky (veřejné prostředky ce...                                                NaN  \n",
       "Certifikované prostředky (EU zdroje)                                                     PL5111001681  \n",
       "Název NUTS                                                                                Bolesławiec  \n",
       "Pořadí v rámci v projektu (filtr)                                                                   1  \n",
       "Počet míst realizace                                                                                1  "
      ]
     },
     "execution_count": 7,
     "metadata": {},
     "output_type": "execute_result"
    }
   ],
   "source": [
    "df.loc[df.loc[:, 'Certifikované prostředky (EU zdroje)'].str.startswith('PL').replace(np.nan,False)].head(2).T"
   ]
  },
  {
   "cell_type": "code",
   "execution_count": null,
   "metadata": {
    "collapsed": true
   },
   "outputs": [],
   "source": []
  },
  {
   "cell_type": "code",
   "execution_count": null,
   "metadata": {
    "collapsed": true
   },
   "outputs": [],
   "source": []
  },
  {
   "cell_type": "code",
   "execution_count": null,
   "metadata": {
    "collapsed": true
   },
   "outputs": [],
   "source": []
  },
  {
   "cell_type": "code",
   "execution_count": null,
   "metadata": {
    "collapsed": true
   },
   "outputs": [],
   "source": []
  },
  {
   "cell_type": "markdown",
   "metadata": {},
   "source": [
    "***V datasetu od MMR je několik metrik pro částku hrazenou z dotací. Jde o Rozhodnutí, Proplacené prostředky a Certifikované prostředky. Je tak možné měřit objem dotací více způsoby. V celém tomto dokumentu se měří pouze ono Rozhodnutí. Změnou proměnné `euz` výše tuto funkcionalitu změníte.***"
   ]
  },
  {
   "cell_type": "markdown",
   "metadata": {},
   "source": [
    "První tři projekty vypadají takto"
   ]
  },
  {
   "cell_type": "code",
   "execution_count": 8,
   "metadata": {
    "collapsed": false
   },
   "outputs": [
    {
     "data": {
      "text/html": [
       "<div>\n",
       "<table border=\"1\" class=\"dataframe\">\n",
       "  <thead>\n",
       "    <tr style=\"text-align: right;\">\n",
       "      <th></th>\n",
       "      <th>0</th>\n",
       "      <th>10</th>\n",
       "      <th>26</th>\n",
       "    </tr>\n",
       "  </thead>\n",
       "  <tbody>\n",
       "    <tr>\n",
       "      <th>Číslo a název programu</th>\n",
       "      <td>CZ.1.01 OP Doprava</td>\n",
       "      <td>CZ.1.01 OP Doprava</td>\n",
       "      <td>CZ.1.01 OP Doprava</td>\n",
       "    </tr>\n",
       "    <tr>\n",
       "      <th>Číslo prioritní osy</th>\n",
       "      <td>1.1</td>\n",
       "      <td>1.1</td>\n",
       "      <td>1.1</td>\n",
       "    </tr>\n",
       "    <tr>\n",
       "      <th>Číslo oblasti podpory</th>\n",
       "      <td>1.1.1</td>\n",
       "      <td>1.1.1</td>\n",
       "      <td>1.1.1</td>\n",
       "    </tr>\n",
       "    <tr>\n",
       "      <th>Číslo projektu</th>\n",
       "      <td>CZ.1.01/1.1.00/06.0019</td>\n",
       "      <td>CZ.1.01/1.1.00/07.0006</td>\n",
       "      <td>CZ.1.01/1.1.00/07.0015</td>\n",
       "    </tr>\n",
       "    <tr>\n",
       "      <th>Název projektu</th>\n",
       "      <td>Optimalizace trati Benešov u Prahy - Strančice</td>\n",
       "      <td>Optimalizace trati Horní Dvořiště st. hranice ...</td>\n",
       "      <td>Rekonstrukce kolejí č.1 a 2 v km 224,391-226,0...</td>\n",
       "    </tr>\n",
       "    <tr>\n",
       "      <th>Popis projektu</th>\n",
       "      <td>Délka rekonstruovaného úseku je 23,95 km. Stáv...</td>\n",
       "      <td>Vzhledem k již proběhlé částečné optimalizaci ...</td>\n",
       "      <td>V rámci stavby se předpokládá řešit rekonstruk...</td>\n",
       "    </tr>\n",
       "    <tr>\n",
       "      <th>Žadatel</th>\n",
       "      <td>Správa železniční dopravní cesty, státní organ...</td>\n",
       "      <td>Správa železniční dopravní cesty, státní organ...</td>\n",
       "      <td>Správa železniční dopravní cesty, státní organ...</td>\n",
       "    </tr>\n",
       "    <tr>\n",
       "      <th>IČ žadatele</th>\n",
       "      <td>70994234</td>\n",
       "      <td>70994234</td>\n",
       "      <td>70994234</td>\n",
       "    </tr>\n",
       "    <tr>\n",
       "      <th>Hosp.právní forma</th>\n",
       "      <td>Správa žel.dopr.cesty</td>\n",
       "      <td>Správa žel.dopr.cesty</td>\n",
       "      <td>Správa žel.dopr.cesty</td>\n",
       "    </tr>\n",
       "    <tr>\n",
       "      <th>Hosp.právní forma - skupina</th>\n",
       "      <td>Stát a jeho instituce a organizace</td>\n",
       "      <td>Stát a jeho instituce a organizace</td>\n",
       "      <td>Stát a jeho instituce a organizace</td>\n",
       "    </tr>\n",
       "    <tr>\n",
       "      <th>Stav projektu</th>\n",
       "      <td>P7 Výdaje projektu certifikovány</td>\n",
       "      <td>P7 Výdaje projektu certifikovány</td>\n",
       "      <td>P7 Výdaje projektu certifikovány</td>\n",
       "    </tr>\n",
       "    <tr>\n",
       "      <th>Datum podpisu smlouvy/rozhodnutí</th>\n",
       "      <td>2008-07-02 00:00:00</td>\n",
       "      <td>2008-07-02 00:00:00</td>\n",
       "      <td>2008-06-11 00:00:00</td>\n",
       "    </tr>\n",
       "    <tr>\n",
       "      <th>Adresa žadatele</th>\n",
       "      <td>11000 Praha, Dlážděná 1003/7</td>\n",
       "      <td>11000 Praha, Dlážděná 1003/7</td>\n",
       "      <td>11000 Praha, Dlážděná 1003/7</td>\n",
       "    </tr>\n",
       "    <tr>\n",
       "      <th>Kraj žadatele - kód</th>\n",
       "      <td>CZ010</td>\n",
       "      <td>CZ010</td>\n",
       "      <td>CZ010</td>\n",
       "    </tr>\n",
       "    <tr>\n",
       "      <th>Kraj žadatele - název</th>\n",
       "      <td>Hlavní město Praha</td>\n",
       "      <td>Hlavní město Praha</td>\n",
       "      <td>Hlavní město Praha</td>\n",
       "    </tr>\n",
       "    <tr>\n",
       "      <th>Obec žadatele - kód</th>\n",
       "      <td>CZ0100554782</td>\n",
       "      <td>CZ0100554782</td>\n",
       "      <td>CZ0100554782</td>\n",
       "    </tr>\n",
       "    <tr>\n",
       "      <th>Obec žadatele - název</th>\n",
       "      <td>Praha</td>\n",
       "      <td>Praha</td>\n",
       "      <td>Praha</td>\n",
       "    </tr>\n",
       "    <tr>\n",
       "      <th>Celkové zdroje - Sml/Dod</th>\n",
       "      <td>4.04112e+09</td>\n",
       "      <td>1.28206e+09</td>\n",
       "      <td>9.08545e+07</td>\n",
       "    </tr>\n",
       "    <tr>\n",
       "      <th>Rozhodnutí/Smlouva o poskytnutí dotace (celkové zdroje)</th>\n",
       "      <td>3.70623e+09</td>\n",
       "      <td>1.18184e+09</td>\n",
       "      <td>9.08545e+07</td>\n",
       "    </tr>\n",
       "    <tr>\n",
       "      <th>Rozhodnutí/Smlouva o poskytnutí dotace (veřejné prostředky celkem)</th>\n",
       "      <td>2.60026e+09</td>\n",
       "      <td>8.41525e+08</td>\n",
       "      <td>7.3365e+07</td>\n",
       "    </tr>\n",
       "    <tr>\n",
       "      <th>Rozhodnutí/Smlouva o poskytnutí dotace (EU zdroje)</th>\n",
       "      <td>3.65886e+09</td>\n",
       "      <td>1.18184e+09</td>\n",
       "      <td>8.03869e+07</td>\n",
       "    </tr>\n",
       "    <tr>\n",
       "      <th>Proplacené prostředky příjemcům - vyúčtované (veřejné prostředky celkem)</th>\n",
       "      <td>2.56681e+09</td>\n",
       "      <td>8.73972e+08</td>\n",
       "      <td>6.49124e+07</td>\n",
       "    </tr>\n",
       "    <tr>\n",
       "      <th>Proplacené prostředky příjemcům - vyúčtované (EU zdroje)</th>\n",
       "      <td>3.65886e+09</td>\n",
       "      <td>1.18184e+09</td>\n",
       "      <td>8.03869e+07</td>\n",
       "    </tr>\n",
       "    <tr>\n",
       "      <th>Certifikované prostředky (veřejné prostředky celkem)</th>\n",
       "      <td>2.56681e+09</td>\n",
       "      <td>8.73972e+08</td>\n",
       "      <td>6.49124e+07</td>\n",
       "    </tr>\n",
       "    <tr>\n",
       "      <th>Certifikované prostředky (EU zdroje)</th>\n",
       "      <td>CZ0201529303</td>\n",
       "      <td>CZ0311544256</td>\n",
       "      <td>CZ0631568414</td>\n",
       "    </tr>\n",
       "    <tr>\n",
       "      <th>Název NUTS</th>\n",
       "      <td>Benešov</td>\n",
       "      <td>České Budějovice</td>\n",
       "      <td>Havlíčkův Brod</td>\n",
       "    </tr>\n",
       "    <tr>\n",
       "      <th>Pořadí v rámci v projektu (filtr)</th>\n",
       "      <td>1</td>\n",
       "      <td>1</td>\n",
       "      <td>1</td>\n",
       "    </tr>\n",
       "    <tr>\n",
       "      <th>Počet míst realizace</th>\n",
       "      <td>10</td>\n",
       "      <td>16</td>\n",
       "      <td>1</td>\n",
       "    </tr>\n",
       "  </tbody>\n",
       "</table>\n",
       "</div>"
      ],
      "text/plain": [
       "                                                                                                   0   \\\n",
       "Číslo a název programu                                                             CZ.1.01 OP Doprava   \n",
       "Číslo prioritní osy                                                                               1.1   \n",
       "Číslo oblasti podpory                                                                           1.1.1   \n",
       "Číslo projektu                                                                 CZ.1.01/1.1.00/06.0019   \n",
       "Název projektu                                         Optimalizace trati Benešov u Prahy - Strančice   \n",
       "Popis projektu                                      Délka rekonstruovaného úseku je 23,95 km. Stáv...   \n",
       "Žadatel                                             Správa železniční dopravní cesty, státní organ...   \n",
       "IČ žadatele                                                                                  70994234   \n",
       "Hosp.právní forma                                                               Správa žel.dopr.cesty   \n",
       "Hosp.právní forma - skupina                                        Stát a jeho instituce a organizace   \n",
       "Stav projektu                                                        P7 Výdaje projektu certifikovány   \n",
       "Datum podpisu smlouvy/rozhodnutí                                                  2008-07-02 00:00:00   \n",
       "Adresa žadatele                                                          11000 Praha, Dlážděná 1003/7   \n",
       "Kraj žadatele - kód                                                                             CZ010   \n",
       "Kraj žadatele - název                                                              Hlavní město Praha   \n",
       "Obec žadatele - kód                                                                      CZ0100554782   \n",
       "Obec žadatele - název                                                                           Praha   \n",
       "Celkové zdroje - Sml/Dod                                                                  4.04112e+09   \n",
       "Rozhodnutí/Smlouva o poskytnutí dotace (celkové...                                        3.70623e+09   \n",
       "Rozhodnutí/Smlouva o poskytnutí dotace (veřejné...                                        2.60026e+09   \n",
       "Rozhodnutí/Smlouva o poskytnutí dotace (EU zdroje)                                        3.65886e+09   \n",
       "Proplacené prostředky příjemcům - vyúčtované (v...                                        2.56681e+09   \n",
       "Proplacené prostředky příjemcům - vyúčtované (E...                                        3.65886e+09   \n",
       "Certifikované prostředky (veřejné prostředky ce...                                        2.56681e+09   \n",
       "Certifikované prostředky (EU zdroje)                                                     CZ0201529303   \n",
       "Název NUTS                                                                                    Benešov   \n",
       "Pořadí v rámci v projektu (filtr)                                                                   1   \n",
       "Počet míst realizace                                                                               10   \n",
       "\n",
       "                                                                                                   10  \\\n",
       "Číslo a název programu                                                             CZ.1.01 OP Doprava   \n",
       "Číslo prioritní osy                                                                               1.1   \n",
       "Číslo oblasti podpory                                                                           1.1.1   \n",
       "Číslo projektu                                                                 CZ.1.01/1.1.00/07.0006   \n",
       "Název projektu                                      Optimalizace trati Horní Dvořiště st. hranice ...   \n",
       "Popis projektu                                      Vzhledem k již proběhlé částečné optimalizaci ...   \n",
       "Žadatel                                             Správa železniční dopravní cesty, státní organ...   \n",
       "IČ žadatele                                                                                  70994234   \n",
       "Hosp.právní forma                                                               Správa žel.dopr.cesty   \n",
       "Hosp.právní forma - skupina                                        Stát a jeho instituce a organizace   \n",
       "Stav projektu                                                        P7 Výdaje projektu certifikovány   \n",
       "Datum podpisu smlouvy/rozhodnutí                                                  2008-07-02 00:00:00   \n",
       "Adresa žadatele                                                          11000 Praha, Dlážděná 1003/7   \n",
       "Kraj žadatele - kód                                                                             CZ010   \n",
       "Kraj žadatele - název                                                              Hlavní město Praha   \n",
       "Obec žadatele - kód                                                                      CZ0100554782   \n",
       "Obec žadatele - název                                                                           Praha   \n",
       "Celkové zdroje - Sml/Dod                                                                  1.28206e+09   \n",
       "Rozhodnutí/Smlouva o poskytnutí dotace (celkové...                                        1.18184e+09   \n",
       "Rozhodnutí/Smlouva o poskytnutí dotace (veřejné...                                        8.41525e+08   \n",
       "Rozhodnutí/Smlouva o poskytnutí dotace (EU zdroje)                                        1.18184e+09   \n",
       "Proplacené prostředky příjemcům - vyúčtované (v...                                        8.73972e+08   \n",
       "Proplacené prostředky příjemcům - vyúčtované (E...                                        1.18184e+09   \n",
       "Certifikované prostředky (veřejné prostředky ce...                                        8.73972e+08   \n",
       "Certifikované prostředky (EU zdroje)                                                     CZ0311544256   \n",
       "Název NUTS                                                                           České Budějovice   \n",
       "Pořadí v rámci v projektu (filtr)                                                                   1   \n",
       "Počet míst realizace                                                                               16   \n",
       "\n",
       "                                                                                                   26  \n",
       "Číslo a název programu                                                             CZ.1.01 OP Doprava  \n",
       "Číslo prioritní osy                                                                               1.1  \n",
       "Číslo oblasti podpory                                                                           1.1.1  \n",
       "Číslo projektu                                                                 CZ.1.01/1.1.00/07.0015  \n",
       "Název projektu                                      Rekonstrukce kolejí č.1 a 2 v km 224,391-226,0...  \n",
       "Popis projektu                                      V rámci stavby se předpokládá řešit rekonstruk...  \n",
       "Žadatel                                             Správa železniční dopravní cesty, státní organ...  \n",
       "IČ žadatele                                                                                  70994234  \n",
       "Hosp.právní forma                                                               Správa žel.dopr.cesty  \n",
       "Hosp.právní forma - skupina                                        Stát a jeho instituce a organizace  \n",
       "Stav projektu                                                        P7 Výdaje projektu certifikovány  \n",
       "Datum podpisu smlouvy/rozhodnutí                                                  2008-06-11 00:00:00  \n",
       "Adresa žadatele                                                          11000 Praha, Dlážděná 1003/7  \n",
       "Kraj žadatele - kód                                                                             CZ010  \n",
       "Kraj žadatele - název                                                              Hlavní město Praha  \n",
       "Obec žadatele - kód                                                                      CZ0100554782  \n",
       "Obec žadatele - název                                                                           Praha  \n",
       "Celkové zdroje - Sml/Dod                                                                  9.08545e+07  \n",
       "Rozhodnutí/Smlouva o poskytnutí dotace (celkové...                                        9.08545e+07  \n",
       "Rozhodnutí/Smlouva o poskytnutí dotace (veřejné...                                         7.3365e+07  \n",
       "Rozhodnutí/Smlouva o poskytnutí dotace (EU zdroje)                                        8.03869e+07  \n",
       "Proplacené prostředky příjemcům - vyúčtované (v...                                        6.49124e+07  \n",
       "Proplacené prostředky příjemcům - vyúčtované (E...                                        8.03869e+07  \n",
       "Certifikované prostředky (veřejné prostředky ce...                                        6.49124e+07  \n",
       "Certifikované prostředky (EU zdroje)                                                     CZ0631568414  \n",
       "Název NUTS                                                                             Havlíčkův Brod  \n",
       "Pořadí v rámci v projektu (filtr)                                                                   1  \n",
       "Počet míst realizace                                                                                1  "
      ]
     },
     "execution_count": 8,
     "metadata": {},
     "output_type": "execute_result"
    }
   ],
   "source": [
    "df.head(3).T"
   ]
  },
  {
   "cell_type": "markdown",
   "metadata": {},
   "source": [
    "## Očista"
   ]
  },
  {
   "cell_type": "markdown",
   "metadata": {},
   "source": [
    "### Projekty ČR-Polsko od nečeských subjektů\n",
    "Nejjednodušší způsob jak vyfiltrovat žádosti od nečeských subjektů, je podívat se na kraj žadatele, ten je u těchto subjektů nevyplněný. Jediný false positive je EIB, kterou musíme vyjmout."
   ]
  },
  {
   "cell_type": "code",
   "execution_count": 9,
   "metadata": {
    "collapsed": false
   },
   "outputs": [
    {
     "data": {
      "text/html": [
       "<div>\n",
       "<table border=\"1\" class=\"dataframe\">\n",
       "  <thead>\n",
       "    <tr style=\"text-align: right;\">\n",
       "      <th></th>\n",
       "      <th>Číslo a název programu</th>\n",
       "      <th>IČ žadatele</th>\n",
       "      <th>Název projektu</th>\n",
       "      <th>Žadatel</th>\n",
       "    </tr>\n",
       "  </thead>\n",
       "  <tbody>\n",
       "    <tr>\n",
       "      <th>118403</th>\n",
       "      <td>CZ.3.22 OP ČR - Polsko</td>\n",
       "      <td>072181712</td>\n",
       "      <td>Posilování komunikační dostupnosti Cieszyna a ...</td>\n",
       "      <td>Powiat Cieszyński</td>\n",
       "    </tr>\n",
       "    <tr>\n",
       "      <th>118405</th>\n",
       "      <td>CZ.3.22 OP ČR - Polsko</td>\n",
       "      <td>531412250</td>\n",
       "      <td>Zvýšení přeshraniční dostupnosti Nysa - Rejviz</td>\n",
       "      <td>Województwo Opolskie</td>\n",
       "    </tr>\n",
       "    <tr>\n",
       "      <th>118407</th>\n",
       "      <td>CZ.3.22 OP ČR - Polsko</td>\n",
       "      <td>531412600</td>\n",
       "      <td>Navrácení přeshraniční funkce cesty Prudník-Rý...</td>\n",
       "      <td>Powiat Prudnicki</td>\n",
       "    </tr>\n",
       "    <tr>\n",
       "      <th>118409</th>\n",
       "      <td>CZ.3.22 OP ČR - Polsko</td>\n",
       "      <td>000532955</td>\n",
       "      <td>Obnova historických vazeb - zkvalitnění techni...</td>\n",
       "      <td>Gmina Krzanowice</td>\n",
       "    </tr>\n",
       "  </tbody>\n",
       "</table>\n",
       "</div>"
      ],
      "text/plain": [
       "        Číslo a název programu IČ žadatele  \\\n",
       "118403  CZ.3.22 OP ČR - Polsko   072181712   \n",
       "118405  CZ.3.22 OP ČR - Polsko   531412250   \n",
       "118407  CZ.3.22 OP ČR - Polsko   531412600   \n",
       "118409  CZ.3.22 OP ČR - Polsko   000532955   \n",
       "\n",
       "                                           Název projektu  \\\n",
       "118403  Posilování komunikační dostupnosti Cieszyna a ...   \n",
       "118405     Zvýšení přeshraniční dostupnosti Nysa - Rejviz   \n",
       "118407  Navrácení přeshraniční funkce cesty Prudník-Rý...   \n",
       "118409  Obnova historických vazeb - zkvalitnění techni...   \n",
       "\n",
       "                     Žadatel  \n",
       "118403     Powiat Cieszyński  \n",
       "118405  Województwo Opolskie  \n",
       "118407      Powiat Prudnicki  \n",
       "118409      Gmina Krzanowice  "
      ]
     },
     "execution_count": 9,
     "metadata": {},
     "output_type": "execute_result"
    }
   ],
   "source": [
    "msk = (df.loc[:, 'Kraj žadatele - kód'].isnull()) & (df.loc[:, ico] != 8*'0')\n",
    "df.loc[msk, [prog, ico, nazev, zad]].head(4)"
   ]
  },
  {
   "cell_type": "code",
   "execution_count": 10,
   "metadata": {
    "collapsed": false
   },
   "outputs": [
    {
     "data": {
      "text/plain": [
       "(1687, 28)"
      ]
     },
     "execution_count": 10,
     "metadata": {},
     "output_type": "execute_result"
    }
   ],
   "source": [
    "df.loc[msk].shape"
   ]
  },
  {
   "cell_type": "markdown",
   "metadata": {},
   "source": [
    "Jde tedy o celkem 19 projektů."
   ]
  },
  {
   "cell_type": "code",
   "execution_count": 11,
   "metadata": {
    "collapsed": true
   },
   "outputs": [],
   "source": [
    "df = df.loc[~msk]"
   ]
  },
  {
   "cell_type": "markdown",
   "metadata": {},
   "source": [
    "### Nemáme žadatele ani IČO"
   ]
  },
  {
   "cell_type": "code",
   "execution_count": 12,
   "metadata": {
    "collapsed": false
   },
   "outputs": [
    {
     "data": {
      "text/html": [
       "<div>\n",
       "<table border=\"1\" class=\"dataframe\">\n",
       "  <thead>\n",
       "    <tr style=\"text-align: right;\">\n",
       "      <th></th>\n",
       "      <th>Číslo a název programu</th>\n",
       "      <th>Číslo prioritní osy</th>\n",
       "      <th>Číslo oblasti podpory</th>\n",
       "      <th>Číslo projektu</th>\n",
       "      <th>Název projektu</th>\n",
       "      <th>Popis projektu</th>\n",
       "      <th>Žadatel</th>\n",
       "      <th>IČ žadatele</th>\n",
       "    </tr>\n",
       "  </thead>\n",
       "  <tbody>\n",
       "    <tr>\n",
       "      <th>1487</th>\n",
       "      <td>CZ.1.01 OP Doprava</td>\n",
       "      <td>1.6</td>\n",
       "      <td>1.6.3</td>\n",
       "      <td>CZ.1.01/6.3.00/14.0392</td>\n",
       "      <td>Výměna dnové obšívky plavidla MS BEATRICE</td>\n",
       "      <td>Realizace projektu je nutná z důvodu havarijní...</td>\n",
       "      <td>NaN</td>\n",
       "      <td>NaN</td>\n",
       "    </tr>\n",
       "    <tr>\n",
       "      <th>3007</th>\n",
       "      <td>CZ.1.02 OP Životní prostředí</td>\n",
       "      <td>2.2</td>\n",
       "      <td>2.2.1</td>\n",
       "      <td>CZ.1.02/2.1.00/09.03845</td>\n",
       "      <td>Rekonstrukce vytápění hvozdu sladovny Kounice</td>\n",
       "      <td>Projekt rekonstrukce vytápění hvozdu sladovny ...</td>\n",
       "      <td>NaN</td>\n",
       "      <td>NaN</td>\n",
       "    </tr>\n",
       "    <tr>\n",
       "      <th>3058</th>\n",
       "      <td>CZ.1.02 OP Životní prostředí</td>\n",
       "      <td>2.2</td>\n",
       "      <td>2.2.1</td>\n",
       "      <td>CZ.1.02/2.1.00/11.09845</td>\n",
       "      <td>Zateplení a výměna zdroje vytápění</td>\n",
       "      <td>Výměna starého neekologického zdroje vytápění ...</td>\n",
       "      <td>NaN</td>\n",
       "      <td>NaN</td>\n",
       "    </tr>\n",
       "  </tbody>\n",
       "</table>\n",
       "</div>"
      ],
      "text/plain": [
       "            Číslo a název programu Číslo prioritní osy Číslo oblasti podpory  \\\n",
       "1487            CZ.1.01 OP Doprava                 1.6                 1.6.3   \n",
       "3007  CZ.1.02 OP Životní prostředí                 2.2                 2.2.1   \n",
       "3058  CZ.1.02 OP Životní prostředí                 2.2                 2.2.1   \n",
       "\n",
       "               Číslo projektu                                 Název projektu  \\\n",
       "1487   CZ.1.01/6.3.00/14.0392      Výměna dnové obšívky plavidla MS BEATRICE   \n",
       "3007  CZ.1.02/2.1.00/09.03845  Rekonstrukce vytápění hvozdu sladovny Kounice   \n",
       "3058  CZ.1.02/2.1.00/11.09845             Zateplení a výměna zdroje vytápění   \n",
       "\n",
       "                                         Popis projektu Žadatel IČ žadatele  \n",
       "1487  Realizace projektu je nutná z důvodu havarijní...     NaN         NaN  \n",
       "3007  Projekt rekonstrukce vytápění hvozdu sladovny ...     NaN         NaN  \n",
       "3058  Výměna starého neekologického zdroje vytápění ...     NaN         NaN  "
      ]
     },
     "execution_count": 12,
     "metadata": {},
     "output_type": "execute_result"
    }
   ],
   "source": [
    "msk = df.loc[:, zad].isnull() & df.loc[:, ico].isnull()\n",
    "df.loc[msk].head(3).iloc[:, :8]"
   ]
  },
  {
   "cell_type": "markdown",
   "metadata": {},
   "source": [
    "Většinou živnostníci."
   ]
  },
  {
   "cell_type": "code",
   "execution_count": 13,
   "metadata": {
    "collapsed": false
   },
   "outputs": [
    {
     "data": {
      "text/plain": [
       "7.6426827432900009"
      ]
     },
     "execution_count": 13,
     "metadata": {},
     "output_type": "execute_result"
    }
   ],
   "source": [
    "df.loc[msk,euz].sum()/10**9"
   ]
  },
  {
   "cell_type": "markdown",
   "metadata": {},
   "source": [
    "Dohromady skoro 8 miliard."
   ]
  },
  {
   "cell_type": "markdown",
   "metadata": {},
   "source": [
    "*Nastavíme nějaké prázdné hodnoty*"
   ]
  },
  {
   "cell_type": "code",
   "execution_count": 14,
   "metadata": {
    "collapsed": true
   },
   "outputs": [],
   "source": [
    "df.loc[msk, zad] = 'Neidentifikován'\n",
    "df.loc[msk, ico] = '9'*8"
   ]
  },
  {
   "cell_type": "markdown",
   "metadata": {},
   "source": [
    "### Nesprávné IČO\n",
    "Je spousta projektů, kde IČO není správné české IČO. U zhruba 150 případů IČO chybí, u některých jde o zahraniční IČO (většina projektů ze spolupráce Česko-Polsko)."
   ]
  },
  {
   "cell_type": "code",
   "execution_count": 15,
   "metadata": {
    "collapsed": false
   },
   "outputs": [
    {
     "data": {
      "text/plain": [
       "1735"
      ]
     },
     "execution_count": 15,
     "metadata": {},
     "output_type": "execute_result"
    }
   ],
   "source": [
    "df.loc[:, ico].isnull().sum()"
   ]
  },
  {
   "cell_type": "code",
   "execution_count": 16,
   "metadata": {
    "collapsed": false
   },
   "outputs": [
    {
     "data": {
      "text/plain": [
       "1739"
      ]
     },
     "execution_count": 16,
     "metadata": {},
     "output_type": "execute_result"
    }
   ],
   "source": [
    "nims = df.loc[:, ico].apply(lambda x: len(str(x)) == 8)\n",
    "len(df)-nims.sum()"
   ]
  },
  {
   "cell_type": "code",
   "execution_count": 17,
   "metadata": {
    "collapsed": false
   },
   "outputs": [
    {
     "data": {
      "text/plain": [
       "(73446, 28)"
      ]
     },
     "execution_count": 17,
     "metadata": {},
     "output_type": "execute_result"
    }
   ],
   "source": [
    "# df.loc[df.loc[:, ico].apply(lambda x: type(x) == float or str(x).isdigit()),:].shape\n",
    "df.loc[df.loc[:, ico].apply(lambda x: type(x) == float or (str(x).isdigit() and len(str(x)) == 8)),:].shape"
   ]
  },
  {
   "cell_type": "code",
   "execution_count": 18,
   "metadata": {
    "collapsed": false
   },
   "outputs": [
    {
     "data": {
      "text/plain": [
       "(73450, 28)"
      ]
     },
     "execution_count": 18,
     "metadata": {},
     "output_type": "execute_result"
    }
   ],
   "source": [
    "df.shape"
   ]
  },
  {
   "cell_type": "markdown",
   "metadata": {},
   "source": [
    "**Takže smažeme všechny projekty, kde IČO nemá osm znaků, ale zároveň není prázdné (na ty se ještě podíváme).**"
   ]
  },
  {
   "cell_type": "code",
   "execution_count": 19,
   "metadata": {
    "collapsed": false
   },
   "outputs": [],
   "source": [
    "df = df.loc[~((~df.loc[:, ico].isnull()) & ~nims)]"
   ]
  },
  {
   "cell_type": "code",
   "execution_count": 20,
   "metadata": {
    "collapsed": false
   },
   "outputs": [
    {
     "data": {
      "text/plain": [
       "(73446, 28)"
      ]
     },
     "execution_count": 20,
     "metadata": {},
     "output_type": "execute_result"
    }
   ],
   "source": [
    "df.shape"
   ]
  },
  {
   "cell_type": "code",
   "execution_count": 21,
   "metadata": {
    "collapsed": false
   },
   "outputs": [
    {
     "data": {
      "text/plain": [
       "False    71711\n",
       "True      1735\n",
       "Name: IČ žadatele, dtype: int64"
      ]
     },
     "execution_count": 21,
     "metadata": {},
     "output_type": "execute_result"
    }
   ],
   "source": [
    "df.loc[:, ico].isnull().value_counts()"
   ]
  },
  {
   "cell_type": "markdown",
   "metadata": {},
   "source": [
    "#### Dvě stejně jmenné firmy, jedna má IČO, jedna nemá"
   ]
  },
  {
   "cell_type": "code",
   "execution_count": 22,
   "metadata": {
    "collapsed": false
   },
   "outputs": [],
   "source": [
    "ddd=df.loc[:, [zad, ico, obko]]\n",
    "dg = ddd.groupby(zad)\n",
    "for gr in dg:\n",
    "    uq = gr[1].loc[:, ico].unique()\n",
    "    if len(uq) == 1: continue\n",
    "    #if gr[0].lower().startswith('obec'): continue\n",
    "    #if gr[0].lower().startswith('město'): continue\n",
    "    if len(gr[1].loc[:, obko].unique()) > 1: continue # jsou z ruznych obci, preskocit\n",
    "    \n",
    "    if len(uq) == 2 and pd.Series(uq).isnull().sum() == 1:\n",
    "        # print(gr[0], uq)\n",
    "        ic = gr[1].loc[:, ico].dropna().unique()[0] # ICO tyhle firmy\n",
    "        df.loc[df.loc[:, zad] == gr[0], ico] = ic"
   ]
  },
  {
   "cell_type": "markdown",
   "metadata": {},
   "source": [
    "#### Co zbývá"
   ]
  },
  {
   "cell_type": "code",
   "execution_count": 23,
   "metadata": {
    "collapsed": false
   },
   "outputs": [
    {
     "data": {
      "text/plain": [
       "269"
      ]
     },
     "execution_count": 23,
     "metadata": {},
     "output_type": "execute_result"
    }
   ],
   "source": [
    "df.loc[:, ico].isnull().sum()"
   ]
  },
  {
   "cell_type": "markdown",
   "metadata": {},
   "source": [
    "### Ruční IČO"
   ]
  },
  {
   "cell_type": "code",
   "execution_count": 24,
   "metadata": {
    "collapsed": false
   },
   "outputs": [
    {
     "data": {
      "text/html": [
       "<div>\n",
       "<table border=\"1\" class=\"dataframe\">\n",
       "  <thead>\n",
       "    <tr style=\"text-align: right;\">\n",
       "      <th></th>\n",
       "      <th>Žadatel</th>\n",
       "      <th>IČ žadatele</th>\n",
       "      <th>Název NUTS</th>\n",
       "    </tr>\n",
       "  </thead>\n",
       "  <tbody>\n",
       "    <tr>\n",
       "      <th>21377</th>\n",
       "      <td>Českomoravská záruční a rozvojová banka, a.s.</td>\n",
       "      <td>NaN</td>\n",
       "      <td>Praha 1</td>\n",
       "    </tr>\n",
       "    <tr>\n",
       "      <th>27914</th>\n",
       "      <td>Agentura pro podporu podnikání a investic Czec...</td>\n",
       "      <td>NaN</td>\n",
       "      <td>Praha 2</td>\n",
       "    </tr>\n",
       "    <tr>\n",
       "      <th>34907</th>\n",
       "      <td>Česká agentura na podporu obchodu/CzechTrade</td>\n",
       "      <td>NaN</td>\n",
       "      <td>Praha 2</td>\n",
       "    </tr>\n",
       "    <tr>\n",
       "      <th>42486</th>\n",
       "      <td>Zaměstnavatelský svaz důlního a naftového prům...</td>\n",
       "      <td>NaN</td>\n",
       "      <td>Kladno</td>\n",
       "    </tr>\n",
       "    <tr>\n",
       "      <th>56143</th>\n",
       "      <td>OBEC KOSTELEC U HOLEŠOVA</td>\n",
       "      <td>NaN</td>\n",
       "      <td>Kostelec u Holešova</td>\n",
       "    </tr>\n",
       "    <tr>\n",
       "      <th>56144</th>\n",
       "      <td>OBEC CHOMÝŽ</td>\n",
       "      <td>NaN</td>\n",
       "      <td>Chomýž</td>\n",
       "    </tr>\n",
       "    <tr>\n",
       "      <th>60817</th>\n",
       "      <td>OBEC RŮŽOVÁ</td>\n",
       "      <td>NaN</td>\n",
       "      <td>Růžová</td>\n",
       "    </tr>\n",
       "    <tr>\n",
       "      <th>60818</th>\n",
       "      <td>OBEC VELKÁ BUKOVINA</td>\n",
       "      <td>NaN</td>\n",
       "      <td>Velká Bukovina</td>\n",
       "    </tr>\n",
       "    <tr>\n",
       "      <th>60919</th>\n",
       "      <td>Obec Sobíšky</td>\n",
       "      <td>NaN</td>\n",
       "      <td>Sobíšky</td>\n",
       "    </tr>\n",
       "    <tr>\n",
       "      <th>60936</th>\n",
       "      <td>OBEC HRACHOLUSKY</td>\n",
       "      <td>NaN</td>\n",
       "      <td>Hracholusky</td>\n",
       "    </tr>\n",
       "  </tbody>\n",
       "</table>\n",
       "</div>"
      ],
      "text/plain": [
       "                                                 Žadatel IČ žadatele  \\\n",
       "21377      Českomoravská záruční a rozvojová banka, a.s.         NaN   \n",
       "27914  Agentura pro podporu podnikání a investic Czec...         NaN   \n",
       "34907       Česká agentura na podporu obchodu/CzechTrade         NaN   \n",
       "42486  Zaměstnavatelský svaz důlního a naftového prům...         NaN   \n",
       "56143                           OBEC KOSTELEC U HOLEŠOVA         NaN   \n",
       "56144                                        OBEC CHOMÝŽ         NaN   \n",
       "60817                                        OBEC RŮŽOVÁ         NaN   \n",
       "60818                                OBEC VELKÁ BUKOVINA         NaN   \n",
       "60919                                       Obec Sobíšky         NaN   \n",
       "60936                                   OBEC HRACHOLUSKY         NaN   \n",
       "\n",
       "                Název NUTS  \n",
       "21377              Praha 1  \n",
       "27914              Praha 2  \n",
       "34907              Praha 2  \n",
       "42486               Kladno  \n",
       "56143  Kostelec u Holešova  \n",
       "56144               Chomýž  \n",
       "60817               Růžová  \n",
       "60818       Velká Bukovina  \n",
       "60919              Sobíšky  \n",
       "60936          Hracholusky  "
      ]
     },
     "execution_count": 24,
     "metadata": {},
     "output_type": "execute_result"
    }
   ],
   "source": [
    "nl = df.loc[:, ico].isnull()\n",
    "df.loc[nl, [zad, ico, nuts]].drop_duplicates().head(10)"
   ]
  },
  {
   "cell_type": "markdown",
   "metadata": {},
   "source": [
    "Ručně jsem dohledal asi 150 IČO kódů"
   ]
  },
  {
   "cell_type": "code",
   "execution_count": 25,
   "metadata": {
    "collapsed": false
   },
   "outputs": [
    {
     "data": {
      "text/html": [
       "<div>\n",
       "<table border=\"1\" class=\"dataframe\">\n",
       "  <thead>\n",
       "    <tr style=\"text-align: right;\">\n",
       "      <th></th>\n",
       "      <th>Žadatel</th>\n",
       "      <th>IČ žadatele</th>\n",
       "      <th>Název NUTS</th>\n",
       "    </tr>\n",
       "  </thead>\n",
       "  <tbody>\n",
       "    <tr>\n",
       "      <th>0</th>\n",
       "      <td>Českomoravská záruční a rozvojová banka, a.s.</td>\n",
       "      <td>44848943</td>\n",
       "      <td>Praha 1</td>\n",
       "    </tr>\n",
       "    <tr>\n",
       "      <th>1</th>\n",
       "      <td>Česká agentura na podporu obchodu/CzechTrade</td>\n",
       "      <td>00001171</td>\n",
       "      <td>Praha 2</td>\n",
       "    </tr>\n",
       "    <tr>\n",
       "      <th>2</th>\n",
       "      <td>OBEC KOSTELEC U HOLEŠOVA</td>\n",
       "      <td>00287342</td>\n",
       "      <td>Kostelec u Holešova</td>\n",
       "    </tr>\n",
       "  </tbody>\n",
       "</table>\n",
       "</div>"
      ],
      "text/plain": [
       "                                         Žadatel IČ žadatele  \\\n",
       "0  Českomoravská záruční a rozvojová banka, a.s.    44848943   \n",
       "1   Česká agentura na podporu obchodu/CzechTrade    00001171   \n",
       "2                       OBEC KOSTELEC U HOLEŠOVA    00287342   \n",
       "\n",
       "            Název NUTS  \n",
       "0              Praha 1  \n",
       "1              Praha 2  \n",
       "2  Kostelec u Holešova  "
      ]
     },
     "execution_count": 25,
     "metadata": {},
     "output_type": "execute_result"
    }
   ],
   "source": [
    "ruc = pd.read_csv('vstupy/rucni-ico.csv', dtype=object)\n",
    "ruc.head(3)"
   ]
  },
  {
   "cell_type": "markdown",
   "metadata": {},
   "source": [
    "Tak je uložíme zpět"
   ]
  },
  {
   "cell_type": "code",
   "execution_count": 26,
   "metadata": {
    "collapsed": false
   },
   "outputs": [],
   "source": [
    "for el in ruc.iterrows():\n",
    "    zz = el[1].loc['Žadatel']\n",
    "    ii = el[1].loc['IČ žadatele']\n",
    "    df.loc[(df.loc[:, zad] == zz) & (df.loc[:, ico].isnull()), ico] = ii"
   ]
  },
  {
   "cell_type": "markdown",
   "metadata": {},
   "source": [
    "Zbylo toho fakt málo"
   ]
  },
  {
   "cell_type": "code",
   "execution_count": 27,
   "metadata": {
    "collapsed": false
   },
   "outputs": [
    {
     "data": {
      "text/plain": [
       "array([], dtype=object)"
      ]
     },
     "execution_count": 27,
     "metadata": {},
     "output_type": "execute_result"
    }
   ],
   "source": [
    "df.loc[df.loc[:, ico].isnull(), zad].unique()"
   ]
  },
  {
   "cell_type": "code",
   "execution_count": 28,
   "metadata": {
    "collapsed": false
   },
   "outputs": [],
   "source": [
    "df = df.loc[~df.loc[:, ico].isnull()]"
   ]
  },
  {
   "cell_type": "markdown",
   "metadata": {},
   "source": [
    "O tyto projekty náš dataset očistíme."
   ]
  },
  {
   "cell_type": "markdown",
   "metadata": {},
   "source": [
    "### Kofinancování"
   ]
  },
  {
   "cell_type": "code",
   "execution_count": 29,
   "metadata": {
    "collapsed": false
   },
   "outputs": [],
   "source": [
    "kofi = 'poměr vlastních financí (0-1)'\n",
    "df.loc[:, kofi] = np.nan\n",
    "fr = 1-df.loc[:, euz] / df.loc[:, celk]\n",
    "\n",
    "fr = fr[fr >= 0] # mám pocit že u těch českopolských projektů je celková cena v eurech, ale dotace v korunách (a zlotých)\n",
    "df.loc[fr.index, kofi] = fr.values"
   ]
  },
  {
   "cell_type": "markdown",
   "metadata": {
    "collapsed": true
   },
   "source": []
  },
  {
   "cell_type": "markdown",
   "metadata": {},
   "source": [
    "## Zmenšení datasetu"
   ]
  },
  {
   "cell_type": "markdown",
   "metadata": {},
   "source": [
    "Jako první vezmeme z našeho seznamu projektů jen menší počet sloupců, nebudeme potřebovat všechny."
   ]
  },
  {
   "cell_type": "code",
   "execution_count": 30,
   "metadata": {
    "collapsed": true
   },
   "outputs": [],
   "source": [
    "dfs = df.loc[:, [prog, ico, dat, nazev, popis, celk, euz, eup]]\n",
    "dfs.columns = 'Program, IČO, Datum, Název, Popis, Celkové zdroje, Smlouva, Proplaceno'.split(', ')"
   ]
  },
  {
   "cell_type": "code",
   "execution_count": 31,
   "metadata": {
    "collapsed": false
   },
   "outputs": [
    {
     "data": {
      "text/html": [
       "<div>\n",
       "<table border=\"1\" class=\"dataframe\">\n",
       "  <thead>\n",
       "    <tr style=\"text-align: right;\">\n",
       "      <th></th>\n",
       "      <th>Program</th>\n",
       "      <th>IČO</th>\n",
       "      <th>Datum</th>\n",
       "      <th>Název</th>\n",
       "      <th>Popis</th>\n",
       "      <th>Celkové zdroje</th>\n",
       "      <th>Smlouva</th>\n",
       "      <th>Proplaceno</th>\n",
       "    </tr>\n",
       "  </thead>\n",
       "  <tbody>\n",
       "    <tr>\n",
       "      <th>0</th>\n",
       "      <td>CZ.1.01 OP Doprava</td>\n",
       "      <td>70994234</td>\n",
       "      <td>2008-07-02</td>\n",
       "      <td>Optimalizace trati Benešov u Prahy - Strančice</td>\n",
       "      <td>Délka rekonstruovaného úseku je 23,95 km. Stáv...</td>\n",
       "      <td>4.041118e+09</td>\n",
       "      <td>2.600257e+09</td>\n",
       "      <td>2.566815e+09</td>\n",
       "    </tr>\n",
       "    <tr>\n",
       "      <th>10</th>\n",
       "      <td>CZ.1.01 OP Doprava</td>\n",
       "      <td>70994234</td>\n",
       "      <td>2008-07-02</td>\n",
       "      <td>Optimalizace trati Horní Dvořiště st. hranice ...</td>\n",
       "      <td>Vzhledem k již proběhlé částečné optimalizaci ...</td>\n",
       "      <td>1.282061e+09</td>\n",
       "      <td>8.415250e+08</td>\n",
       "      <td>8.739725e+08</td>\n",
       "    </tr>\n",
       "    <tr>\n",
       "      <th>26</th>\n",
       "      <td>CZ.1.01 OP Doprava</td>\n",
       "      <td>70994234</td>\n",
       "      <td>2008-06-11</td>\n",
       "      <td>Rekonstrukce kolejí č.1 a 2 v km 224,391-226,0...</td>\n",
       "      <td>V rámci stavby se předpokládá řešit rekonstruk...</td>\n",
       "      <td>9.085452e+07</td>\n",
       "      <td>7.336503e+07</td>\n",
       "      <td>6.491240e+07</td>\n",
       "    </tr>\n",
       "  </tbody>\n",
       "</table>\n",
       "</div>"
      ],
      "text/plain": [
       "               Program       IČO      Datum  \\\n",
       "0   CZ.1.01 OP Doprava  70994234 2008-07-02   \n",
       "10  CZ.1.01 OP Doprava  70994234 2008-07-02   \n",
       "26  CZ.1.01 OP Doprava  70994234 2008-06-11   \n",
       "\n",
       "                                                Název  \\\n",
       "0      Optimalizace trati Benešov u Prahy - Strančice   \n",
       "10  Optimalizace trati Horní Dvořiště st. hranice ...   \n",
       "26  Rekonstrukce kolejí č.1 a 2 v km 224,391-226,0...   \n",
       "\n",
       "                                                Popis  Celkové zdroje  \\\n",
       "0   Délka rekonstruovaného úseku je 23,95 km. Stáv...    4.041118e+09   \n",
       "10  Vzhledem k již proběhlé částečné optimalizaci ...    1.282061e+09   \n",
       "26  V rámci stavby se předpokládá řešit rekonstruk...    9.085452e+07   \n",
       "\n",
       "         Smlouva    Proplaceno  \n",
       "0   2.600257e+09  2.566815e+09  \n",
       "10  8.415250e+08  8.739725e+08  \n",
       "26  7.336503e+07  6.491240e+07  "
      ]
     },
     "execution_count": 31,
     "metadata": {},
     "output_type": "execute_result"
    }
   ],
   "source": [
    "dfs.head(3)"
   ]
  },
  {
   "cell_type": "markdown",
   "metadata": {},
   "source": [
    "## Napojení dat z ARES\n",
    "Náš seznam projektů můžeme zkombinovat s daty z RES (Registr ekonomických subjektů, MFČR)"
   ]
  },
  {
   "cell_type": "code",
   "execution_count": 32,
   "metadata": {
    "collapsed": true
   },
   "outputs": [],
   "source": [
    "res = pd.read_csv('vstupy/ares/subjekty.csv', dtype=object) # dtype=object, aby to nesmazalo nuly v IČO"
   ]
  },
  {
   "cell_type": "code",
   "execution_count": 33,
   "metadata": {
    "collapsed": true
   },
   "outputs": [],
   "source": [
    "# vezmeme jen par sloupcu\n",
    "cln = 'ICO, OF, KPF, NPF, Nazev_NUTS4, Esa2010, Esa2010t, KPP, NACE, Nazev_NACE'.split(', ')"
   ]
  },
  {
   "cell_type": "code",
   "execution_count": 34,
   "metadata": {
    "collapsed": true
   },
   "outputs": [],
   "source": [
    "res = res.loc[:, cln]\n",
    "res.columns = 'IČO, Žadatel, Právní forma (kód), Právní forma, NUTS4, ESA (kód), ESA, Zaměstnanců, NACE (kód), NACE'.split(', ')"
   ]
  },
  {
   "cell_type": "code",
   "execution_count": 35,
   "metadata": {
    "collapsed": false
   },
   "outputs": [
    {
     "data": {
      "text/html": [
       "<div>\n",
       "<table border=\"1\" class=\"dataframe\">\n",
       "  <thead>\n",
       "    <tr style=\"text-align: right;\">\n",
       "      <th></th>\n",
       "      <th>0</th>\n",
       "      <th>1</th>\n",
       "      <th>2</th>\n",
       "    </tr>\n",
       "  </thead>\n",
       "  <tbody>\n",
       "    <tr>\n",
       "      <th>IČO</th>\n",
       "      <td>00000205</td>\n",
       "      <td>00001171</td>\n",
       "      <td>00001350</td>\n",
       "    </tr>\n",
       "    <tr>\n",
       "      <th>Žadatel</th>\n",
       "      <td>Vojenské lesy a statky ČR, s.p.</td>\n",
       "      <td>Česká agentura na podporu obchodu</td>\n",
       "      <td>Československá obchodní banka, a. s.</td>\n",
       "    </tr>\n",
       "    <tr>\n",
       "      <th>Právní forma (kód)</th>\n",
       "      <td>301</td>\n",
       "      <td>331</td>\n",
       "      <td>121</td>\n",
       "    </tr>\n",
       "    <tr>\n",
       "      <th>Právní forma</th>\n",
       "      <td>Státní podnik</td>\n",
       "      <td>Příspěvková organizace</td>\n",
       "      <td>Akciová společnost</td>\n",
       "    </tr>\n",
       "    <tr>\n",
       "      <th>NUTS4</th>\n",
       "      <td>Praha</td>\n",
       "      <td>Praha</td>\n",
       "      <td>Praha</td>\n",
       "    </tr>\n",
       "    <tr>\n",
       "      <th>ESA (kód)</th>\n",
       "      <td>11001</td>\n",
       "      <td>13110</td>\n",
       "      <td>12203</td>\n",
       "    </tr>\n",
       "    <tr>\n",
       "      <th>ESA</th>\n",
       "      <td>Nefinanční podniky veřejné</td>\n",
       "      <td>Ústřední vládní instituce</td>\n",
       "      <td>Instituce přijímající vklady kromě centrální b...</td>\n",
       "    </tr>\n",
       "    <tr>\n",
       "      <th>Zaměstnanců</th>\n",
       "      <td>2500 - 2999 zaměstnanců</td>\n",
       "      <td>100 - 199 zaměstnanců</td>\n",
       "      <td>5000 - 9999 zaměstnanců</td>\n",
       "    </tr>\n",
       "    <tr>\n",
       "      <th>NACE (kód)</th>\n",
       "      <td>02200</td>\n",
       "      <td>70220</td>\n",
       "      <td>64190</td>\n",
       "    </tr>\n",
       "    <tr>\n",
       "      <th>NACE</th>\n",
       "      <td>Těžba dřeva</td>\n",
       "      <td>Ostatní poradenství v oblasti podnikání a řízení</td>\n",
       "      <td>Ostatní peněžní zprostředkování</td>\n",
       "    </tr>\n",
       "  </tbody>\n",
       "</table>\n",
       "</div>"
      ],
      "text/plain": [
       "                                                  0  \\\n",
       "IČO                                        00000205   \n",
       "Žadatel             Vojenské lesy a statky ČR, s.p.   \n",
       "Právní forma (kód)                              301   \n",
       "Právní forma                          Státní podnik   \n",
       "NUTS4                                         Praha   \n",
       "ESA (kód)                                     11001   \n",
       "ESA                      Nefinanční podniky veřejné   \n",
       "Zaměstnanců                 2500 - 2999 zaměstnanců   \n",
       "NACE (kód)                                    02200   \n",
       "NACE                                    Těžba dřeva   \n",
       "\n",
       "                                                                   1  \\\n",
       "IČO                                                         00001171   \n",
       "Žadatel                            Česká agentura na podporu obchodu   \n",
       "Právní forma (kód)                                               331   \n",
       "Právní forma                                  Příspěvková organizace   \n",
       "NUTS4                                                          Praha   \n",
       "ESA (kód)                                                      13110   \n",
       "ESA                                        Ústřední vládní instituce   \n",
       "Zaměstnanců                                    100 - 199 zaměstnanců   \n",
       "NACE (kód)                                                     70220   \n",
       "NACE                Ostatní poradenství v oblasti podnikání a řízení   \n",
       "\n",
       "                                                                    2  \n",
       "IČO                                                          00001350  \n",
       "Žadatel                          Československá obchodní banka, a. s.  \n",
       "Právní forma (kód)                                                121  \n",
       "Právní forma                                       Akciová společnost  \n",
       "NUTS4                                                           Praha  \n",
       "ESA (kód)                                                       12203  \n",
       "ESA                 Instituce přijímající vklady kromě centrální b...  \n",
       "Zaměstnanců                                   5000 - 9999 zaměstnanců  \n",
       "NACE (kód)                                                      64190  \n",
       "NACE                                  Ostatní peněžní zprostředkování  "
      ]
     },
     "execution_count": 35,
     "metadata": {},
     "output_type": "execute_result"
    }
   ],
   "source": [
    "res.head(3).T"
   ]
  },
  {
   "cell_type": "code",
   "execution_count": 36,
   "metadata": {
    "collapsed": false
   },
   "outputs": [
    {
     "data": {
      "text/plain": [
       "(73446, 8)"
      ]
     },
     "execution_count": 36,
     "metadata": {},
     "output_type": "execute_result"
    }
   ],
   "source": [
    "dfs.shape"
   ]
  },
  {
   "cell_type": "markdown",
   "metadata": {},
   "source": [
    "A konečně můžeme oba datasety spojit."
   ]
  },
  {
   "cell_type": "code",
   "execution_count": 37,
   "metadata": {
    "collapsed": true
   },
   "outputs": [],
   "source": [
    "dfs = pd.merge(dfs, res, on = 'IČO', how='outer', indicator=True)"
   ]
  },
  {
   "cell_type": "code",
   "execution_count": 38,
   "metadata": {
    "collapsed": false
   },
   "outputs": [
    {
     "data": {
      "text/plain": [
       "both          71054\n",
       "left_only      2392\n",
       "right_only        3\n",
       "dtype: int64"
      ]
     },
     "execution_count": 38,
     "metadata": {},
     "output_type": "execute_result"
    }
   ],
   "source": [
    "dfs.loc[:, '_merge'].value_counts()"
   ]
  },
  {
   "cell_type": "markdown",
   "metadata": {},
   "source": [
    "`right_only` nás nezajímaj, to jsou redudantní řádky z RES databáze"
   ]
  },
  {
   "cell_type": "code",
   "execution_count": 39,
   "metadata": {
    "collapsed": true
   },
   "outputs": [],
   "source": [
    "dfs = dfs.loc[~(dfs.loc[:, '_merge'] == 'right_only')]"
   ]
  },
  {
   "cell_type": "markdown",
   "metadata": {},
   "source": [
    "Z těch, co máme jen mezi projekty, by měla být jen EIB (00000000) a fyzické osoby (99999999)"
   ]
  },
  {
   "cell_type": "code",
   "execution_count": 40,
   "metadata": {
    "collapsed": false
   },
   "outputs": [
    {
     "data": {
      "text/plain": [
       "array(['99999999', '00000000'], dtype=object)"
      ]
     },
     "execution_count": 40,
     "metadata": {},
     "output_type": "execute_result"
    }
   ],
   "source": [
    "dfs.loc[dfs.loc[:, '_merge'] == 'left_only', 'IČO'].unique()"
   ]
  },
  {
   "cell_type": "code",
   "execution_count": 41,
   "metadata": {
    "collapsed": true
   },
   "outputs": [],
   "source": [
    "dfs.drop('_merge', axis=1, inplace=True)"
   ]
  },
  {
   "cell_type": "markdown",
   "metadata": {},
   "source": [
    "Pa-rá-da."
   ]
  },
  {
   "cell_type": "markdown",
   "metadata": {},
   "source": [
    "## Typy podniků\n",
    "Trochu setřídíme typy podniků, podle ESA kódů. Dál pak ještě můžeme určit, zda jde o veřejnou instituci nebo ne."
   ]
  },
  {
   "cell_type": "code",
   "execution_count": 42,
   "metadata": {
    "collapsed": true
   },
   "outputs": [],
   "source": [
    "# url = 'http://www.mfcr.cz/assets/cs/media/Rozp-ramce-EU-85-2011_2016_Seznam-verejnych-spolecnosti-v-CR.xlsx'\n",
    "# fn = 'vstupy/verejne-instituce.xlsx'\n",
    "\n",
    "# if not os.path.exists(fn):\n",
    "#     urllib.request.urlretrieve(url, fn)\n",
    "    \n",
    "# url = 'http://www.mfcr.cz/assets/cs/media/Rozp-ramce-EU-85-2011_2016_Seznam-vladnich-instituci-v-CR.xls'\n",
    "# fn = 'vstupy/vladni-instituce.xls'\n",
    "\n",
    "# if not os.path.exists(fn):\n",
    "#     urllib.request.urlretrieve(url, fn)\n",
    "\n",
    "# ver = pd.read_excel('vstupy/verejne-instituce.xlsx', skiprows=4)\n",
    "# ver = ver.iloc[:, 1:]\n",
    "# ver.head(5)\n",
    "\n",
    "# vlad = pd.read_excel('vstupy/vladni-instituce.xls', skiprows=4)\n",
    "# vlad = vlad.iloc[:, 1:]\n",
    "# vlad.head(5)\n",
    "# vvico = list(ver.loc[:, 'IČO'].values) + list(vlad.loc[:, 'IČO'].values)\n",
    "# vvico = [str(l).rjust(8, '0') for l in vvico]\n",
    "# vvico = set(vvico)"
   ]
  },
  {
   "cell_type": "code",
   "execution_count": 43,
   "metadata": {
    "collapsed": false
   },
   "outputs": [
    {
     "data": {
      "text/plain": [
       "Index(['Program', 'IČO', 'Datum', 'Název', 'Popis', 'Celkové zdroje',\n",
       "       'Smlouva', 'Proplaceno', 'Žadatel', 'Právní forma (kód)',\n",
       "       'Právní forma', 'NUTS4', 'ESA (kód)', 'ESA', 'Zaměstnanců',\n",
       "       'NACE (kód)', 'NACE'],\n",
       "      dtype='object')"
      ]
     },
     "execution_count": 43,
     "metadata": {},
     "output_type": "execute_result"
    }
   ],
   "source": [
    "dfs.columns"
   ]
  },
  {
   "cell_type": "code",
   "execution_count": 44,
   "metadata": {
    "collapsed": false
   },
   "outputs": [
    {
     "data": {
      "text/html": [
       "<div>\n",
       "<table border=\"1\" class=\"dataframe\">\n",
       "  <thead>\n",
       "    <tr style=\"text-align: right;\">\n",
       "      <th></th>\n",
       "      <th></th>\n",
       "      <th>Celkové zdroje</th>\n",
       "      <th>Smlouva</th>\n",
       "      <th>Proplaceno</th>\n",
       "    </tr>\n",
       "    <tr>\n",
       "      <th>ESA (kód)</th>\n",
       "      <th>ESA</th>\n",
       "      <th></th>\n",
       "      <th></th>\n",
       "      <th></th>\n",
       "    </tr>\n",
       "  </thead>\n",
       "  <tbody>\n",
       "    <tr>\n",
       "      <th>11001</th>\n",
       "      <th>Nefinanční podniky veřejné</th>\n",
       "      <td>78.90</td>\n",
       "      <td>36.90</td>\n",
       "      <td>34.32</td>\n",
       "    </tr>\n",
       "    <tr>\n",
       "      <th>11002</th>\n",
       "      <th>Nefinanční podniky soukromé národní</th>\n",
       "      <td>226.72</td>\n",
       "      <td>99.99</td>\n",
       "      <td>94.16</td>\n",
       "    </tr>\n",
       "    <tr>\n",
       "      <th>11003</th>\n",
       "      <th>Nefinanční podniky soukromé pod zahraniční kontrolou</th>\n",
       "      <td>61.96</td>\n",
       "      <td>24.44</td>\n",
       "      <td>22.41</td>\n",
       "    </tr>\n",
       "    <tr>\n",
       "      <th>12100</th>\n",
       "      <th>Centrální banka</th>\n",
       "      <td>0.00</td>\n",
       "      <td>0.00</td>\n",
       "      <td>0.00</td>\n",
       "    </tr>\n",
       "    <tr>\n",
       "      <th>12203</th>\n",
       "      <th>Instituce přijímající vklady kromě centrální banky pod zahraniční kontrolou</th>\n",
       "      <td>0.01</td>\n",
       "      <td>0.01</td>\n",
       "      <td>0.01</td>\n",
       "    </tr>\n",
       "    <tr>\n",
       "      <th>12402</th>\n",
       "      <th>Fondy kolektivního investování (kromě FPT) soukromé národní</th>\n",
       "      <td>0.27</td>\n",
       "      <td>0.10</td>\n",
       "      <td>0.10</td>\n",
       "    </tr>\n",
       "    <tr>\n",
       "      <th>12502</th>\n",
       "      <th>Ostatní finanční zprostředkovatelé (kromě IC a PF) soukromí národní</th>\n",
       "      <td>0.01</td>\n",
       "      <td>0.01</td>\n",
       "      <td>0.01</td>\n",
       "    </tr>\n",
       "    <tr>\n",
       "      <th>12503</th>\n",
       "      <th>Ostatní finanční zprostředkovatelé (kromě IC a PF) pod zahraniční kontrolou</th>\n",
       "      <td>0.00</td>\n",
       "      <td>0.00</td>\n",
       "      <td>0.00</td>\n",
       "    </tr>\n",
       "    <tr>\n",
       "      <th>12602</th>\n",
       "      <th>Pomocné finanční instituce soukromé národní</th>\n",
       "      <td>0.03</td>\n",
       "      <td>0.02</td>\n",
       "      <td>0.02</td>\n",
       "    </tr>\n",
       "    <tr>\n",
       "      <th>12603</th>\n",
       "      <th>Pomocné finanční instituce pod zahraniční kontrolou</th>\n",
       "      <td>0.01</td>\n",
       "      <td>0.01</td>\n",
       "      <td>0.00</td>\n",
       "    </tr>\n",
       "    <tr>\n",
       "      <th>12803</th>\n",
       "      <th>Pojišťovací společnosti (IC) pod zahraniční kontrolou</th>\n",
       "      <td>0.02</td>\n",
       "      <td>0.01</td>\n",
       "      <td>0.01</td>\n",
       "    </tr>\n",
       "    <tr>\n",
       "      <th>13110</th>\n",
       "      <th>Ústřední vládní instituce</th>\n",
       "      <td>438.11</td>\n",
       "      <td>310.72</td>\n",
       "      <td>265.32</td>\n",
       "    </tr>\n",
       "    <tr>\n",
       "      <th>13130</th>\n",
       "      <th>Místní vládní instituce</th>\n",
       "      <td>346.25</td>\n",
       "      <td>241.14</td>\n",
       "      <td>217.01</td>\n",
       "    </tr>\n",
       "    <tr>\n",
       "      <th>14100</th>\n",
       "      <th>Zaměstnavatelé</th>\n",
       "      <td>0.14</td>\n",
       "      <td>0.05</td>\n",
       "      <td>0.05</td>\n",
       "    </tr>\n",
       "    <tr>\n",
       "      <th>14200</th>\n",
       "      <th>Osoby samostatně výdělečně činné</th>\n",
       "      <td>0.06</td>\n",
       "      <td>0.03</td>\n",
       "      <td>0.02</td>\n",
       "    </tr>\n",
       "    <tr>\n",
       "      <th>14430</th>\n",
       "      <th>Příjemci ostatních transferů</th>\n",
       "      <td>2.75</td>\n",
       "      <td>0.92</td>\n",
       "      <td>0.82</td>\n",
       "    </tr>\n",
       "    <tr>\n",
       "      <th>15002</th>\n",
       "      <th>Neziskové instituce sloužící domácnostem soukromé národní</th>\n",
       "      <td>32.66</td>\n",
       "      <td>24.55</td>\n",
       "      <td>22.27</td>\n",
       "    </tr>\n",
       "    <tr>\n",
       "      <th>15003</th>\n",
       "      <th>Neziskové instituce sloužící domácnostem pod zahraniční kontrolou</th>\n",
       "      <td>0.12</td>\n",
       "      <td>0.10</td>\n",
       "      <td>0.09</td>\n",
       "    </tr>\n",
       "  </tbody>\n",
       "</table>\n",
       "</div>"
      ],
      "text/plain": [
       "                                                              Celkové zdroje  \\\n",
       "ESA (kód) ESA                                                                  \n",
       "11001     Nefinanční podniky veřejné                                   78.90   \n",
       "11002     Nefinanční podniky soukromé národní                         226.72   \n",
       "11003     Nefinanční podniky soukromé pod zahraniční kont...           61.96   \n",
       "12100     Centrální banka                                               0.00   \n",
       "12203     Instituce přijímající vklady kromě centrální ba...            0.01   \n",
       "12402     Fondy kolektivního investování (kromě FPT) souk...            0.27   \n",
       "12502     Ostatní finanční zprostředkovatelé (kromě IC a ...            0.01   \n",
       "12503     Ostatní finanční zprostředkovatelé (kromě IC a ...            0.00   \n",
       "12602     Pomocné finanční instituce soukromé národní                   0.03   \n",
       "12603     Pomocné finanční instituce pod zahraniční kontr...            0.01   \n",
       "12803     Pojišťovací společnosti (IC) pod zahraniční kon...            0.02   \n",
       "13110     Ústřední vládní instituce                                   438.11   \n",
       "13130     Místní vládní instituce                                     346.25   \n",
       "14100     Zaměstnavatelé                                                0.14   \n",
       "14200     Osoby samostatně výdělečně činné                              0.06   \n",
       "14430     Příjemci ostatních transferů                                  2.75   \n",
       "15002     Neziskové instituce sloužící domácnostem soukro...           32.66   \n",
       "15003     Neziskové instituce sloužící domácnostem pod za...            0.12   \n",
       "\n",
       "                                                              Smlouva  \\\n",
       "ESA (kód) ESA                                                           \n",
       "11001     Nefinanční podniky veřejné                            36.90   \n",
       "11002     Nefinanční podniky soukromé národní                   99.99   \n",
       "11003     Nefinanční podniky soukromé pod zahraniční kont...    24.44   \n",
       "12100     Centrální banka                                        0.00   \n",
       "12203     Instituce přijímající vklady kromě centrální ba...     0.01   \n",
       "12402     Fondy kolektivního investování (kromě FPT) souk...     0.10   \n",
       "12502     Ostatní finanční zprostředkovatelé (kromě IC a ...     0.01   \n",
       "12503     Ostatní finanční zprostředkovatelé (kromě IC a ...     0.00   \n",
       "12602     Pomocné finanční instituce soukromé národní            0.02   \n",
       "12603     Pomocné finanční instituce pod zahraniční kontr...     0.01   \n",
       "12803     Pojišťovací společnosti (IC) pod zahraniční kon...     0.01   \n",
       "13110     Ústřední vládní instituce                            310.72   \n",
       "13130     Místní vládní instituce                              241.14   \n",
       "14100     Zaměstnavatelé                                         0.05   \n",
       "14200     Osoby samostatně výdělečně činné                       0.03   \n",
       "14430     Příjemci ostatních transferů                           0.92   \n",
       "15002     Neziskové instituce sloužící domácnostem soukro...    24.55   \n",
       "15003     Neziskové instituce sloužící domácnostem pod za...     0.10   \n",
       "\n",
       "                                                              Proplaceno  \n",
       "ESA (kód) ESA                                                             \n",
       "11001     Nefinanční podniky veřejné                               34.32  \n",
       "11002     Nefinanční podniky soukromé národní                      94.16  \n",
       "11003     Nefinanční podniky soukromé pod zahraniční kont...       22.41  \n",
       "12100     Centrální banka                                           0.00  \n",
       "12203     Instituce přijímající vklady kromě centrální ba...        0.01  \n",
       "12402     Fondy kolektivního investování (kromě FPT) souk...        0.10  \n",
       "12502     Ostatní finanční zprostředkovatelé (kromě IC a ...        0.01  \n",
       "12503     Ostatní finanční zprostředkovatelé (kromě IC a ...        0.00  \n",
       "12602     Pomocné finanční instituce soukromé národní               0.02  \n",
       "12603     Pomocné finanční instituce pod zahraniční kontr...        0.00  \n",
       "12803     Pojišťovací společnosti (IC) pod zahraniční kon...        0.01  \n",
       "13110     Ústřední vládní instituce                               265.32  \n",
       "13130     Místní vládní instituce                                 217.01  \n",
       "14100     Zaměstnavatelé                                            0.05  \n",
       "14200     Osoby samostatně výdělečně činné                          0.02  \n",
       "14430     Příjemci ostatních transferů                              0.82  \n",
       "15002     Neziskové instituce sloužící domácnostem soukro...       22.27  \n",
       "15003     Neziskové instituce sloužící domácnostem pod za...        0.09  "
      ]
     },
     "execution_count": 44,
     "metadata": {},
     "output_type": "execute_result"
    }
   ],
   "source": [
    "(dfs.groupby(['ESA (kód)', 'ESA']).sum()/10**9).round(2)"
   ]
  },
  {
   "cell_type": "code",
   "execution_count": 45,
   "metadata": {
    "collapsed": true
   },
   "outputs": [],
   "source": [
    "esak = 'ESA (kód)'"
   ]
  },
  {
   "cell_type": "markdown",
   "metadata": {},
   "source": [
    "První problém je, že spousta podniků (asi 10 %) nemá ESA kód. Budeme ho muset dogenerovat. Primárně skrz právní formu."
   ]
  },
  {
   "cell_type": "code",
   "execution_count": 46,
   "metadata": {
    "collapsed": false
   },
   "outputs": [],
   "source": [
    "dfs.loc[dfs.loc[:, 'IČO'] == 8*'9', esak] = '00001'\n",
    "dfs.loc[dfs.loc[:, 'IČO'] == 8*'9', 'ESA'] = 'Fyzické osoby'\n",
    "\n",
    "dfs.loc[dfs.loc[:, 'IČO'] == 8*'0', esak] = '00002'\n",
    "dfs.loc[dfs.loc[:, 'IČO'] == 8*'0', 'ESA'] = 'Evropská investiční banka'"
   ]
  },
  {
   "cell_type": "code",
   "execution_count": 47,
   "metadata": {
    "collapsed": true
   },
   "outputs": [],
   "source": [
    "prf = 'Právní forma'\n",
    "nesa = dfs.loc[:, esak].isnull()"
   ]
  },
  {
   "cell_type": "code",
   "execution_count": 48,
   "metadata": {
    "collapsed": false
   },
   "outputs": [],
   "source": [
    "# dfs.loc[dfs.loc[:, esak].isnull()]"
   ]
  },
  {
   "cell_type": "code",
   "execution_count": 49,
   "metadata": {
    "collapsed": false
   },
   "outputs": [
    {
     "data": {
      "text/plain": [
       "Společnost s ručením omezeným                    15\n",
       "Příspěvková organizace                            9\n",
       "Akciová společnost                                7\n",
       "Sdružení (svaz, spolek, společnost, klub aj.)     3\n",
       "Církevní organizace                               2\n",
       "Obecně prospěšná společnost                       1\n",
       "Komora (s výjimkou profesních komor)              1\n",
       "Name: Právní forma, dtype: int64"
      ]
     },
     "execution_count": 49,
     "metadata": {},
     "output_type": "execute_result"
    }
   ],
   "source": [
    "dfs.loc[nesa, prf].value_counts()"
   ]
  },
  {
   "cell_type": "code",
   "execution_count": 50,
   "metadata": {
    "collapsed": false
   },
   "outputs": [
    {
     "data": {
      "text/plain": [
       "Celkové zdroje    130.206249\n",
       "Smlouva            98.204275\n",
       "Proplaceno         87.349603\n",
       "dtype: float64"
      ]
     },
     "execution_count": 50,
     "metadata": {},
     "output_type": "execute_result"
    }
   ],
   "source": [
    "dfs.loc[nesa].sum()/10**6"
   ]
  },
  {
   "cell_type": "markdown",
   "metadata": {},
   "source": [
    "Jde o 100 milionů, tak hodím všechny zbývající mezi 'Nezařazeno'."
   ]
  },
  {
   "cell_type": "code",
   "execution_count": 51,
   "metadata": {
    "collapsed": false
   },
   "outputs": [],
   "source": [
    "dfs.loc[nesa, esak] = '00000'\n",
    "dfs.loc[nesa, 'ESA'] = 'Nezařazeno'"
   ]
  },
  {
   "cell_type": "code",
   "execution_count": 52,
   "metadata": {
    "collapsed": false
   },
   "outputs": [
    {
     "data": {
      "text/plain": [
       "0"
      ]
     },
     "execution_count": 52,
     "metadata": {},
     "output_type": "execute_result"
    }
   ],
   "source": [
    "dfs.loc[:, esak].isnull().sum()"
   ]
  },
  {
   "cell_type": "markdown",
   "metadata": {},
   "source": [
    "Nyní můžeme na hrubší kategorie"
   ]
  },
  {
   "cell_type": "code",
   "execution_count": 53,
   "metadata": {
    "collapsed": true
   },
   "outputs": [],
   "source": [
    "kat = 'Kategorie'\n",
    "dfs.loc[:, kat] = np.nan"
   ]
  },
  {
   "cell_type": "code",
   "execution_count": 54,
   "metadata": {
    "collapsed": false
   },
   "outputs": [],
   "source": [
    "dfs.loc[dfs.loc[:, esak].str.startswith('15'), kat] = 'Neziskovka'\n",
    "dfs.loc[dfs.loc[:, esak].str.startswith('12'), kat] = 'Finanční sektor'\n",
    "dfs.loc[dfs.loc[:, esak] == '12100', kat] = 'Ostatní (veřejné)' # centrální banka\n",
    "dfs.loc[dfs.loc[:, esak].str.startswith('11'), kat] = 'Nefinanční podnik'\n",
    "dfs.loc[dfs.loc[:, esak] == '11001', kat] = 'Nefinanční podnik (veřejný)'\n",
    "\n",
    "dfs.loc[dfs.loc[:, esak] == '13110', kat] = 'Vládní instituce (ústřední)'\n",
    "dfs.loc[dfs.loc[:, esak] == '13130', kat] = 'Vládní instituce (místní)'\n",
    "\n",
    "# dfs.loc[dfs.loc[:, esak].str.startswith('13'), kat] = 'Vládní instituce'\n",
    "dfs.loc[dfs.loc[:, esak].str.startswith('14'), kat] = 'Ostatní (soukromé)'"
   ]
  },
  {
   "cell_type": "code",
   "execution_count": 55,
   "metadata": {
    "collapsed": true
   },
   "outputs": [],
   "source": [
    "dfs.loc[dfs.loc[:, esak] == '00000', kat] = 'Nezařazeno'\n",
    "dfs.loc[dfs.loc[:, esak] == '00001', kat] = 'Ostatní (soukromé)' # fyzicke osoby\n",
    "dfs.loc[dfs.loc[:, esak] == '00002', kat] = 'Ostatní (veřejné)' # EIB"
   ]
  },
  {
   "cell_type": "code",
   "execution_count": 56,
   "metadata": {
    "collapsed": false
   },
   "outputs": [
    {
     "data": {
      "text/plain": [
       "0"
      ]
     },
     "execution_count": 56,
     "metadata": {},
     "output_type": "execute_result"
    }
   ],
   "source": [
    "dfs.loc[:, kat].isnull().sum()"
   ]
  },
  {
   "cell_type": "code",
   "execution_count": 57,
   "metadata": {
    "collapsed": false
   },
   "outputs": [
    {
     "data": {
      "text/html": [
       "<div>\n",
       "<table border=\"1\" class=\"dataframe\">\n",
       "  <thead>\n",
       "    <tr style=\"text-align: right;\">\n",
       "      <th></th>\n",
       "      <th>Celkové zdroje</th>\n",
       "      <th>Smlouva</th>\n",
       "      <th>Proplaceno</th>\n",
       "    </tr>\n",
       "    <tr>\n",
       "      <th>Kategorie</th>\n",
       "      <th></th>\n",
       "      <th></th>\n",
       "      <th></th>\n",
       "    </tr>\n",
       "  </thead>\n",
       "  <tbody>\n",
       "    <tr>\n",
       "      <th>Finanční sektor</th>\n",
       "      <td>0.35</td>\n",
       "      <td>0.15</td>\n",
       "      <td>0.15</td>\n",
       "    </tr>\n",
       "    <tr>\n",
       "      <th>Nefinanční podnik</th>\n",
       "      <td>288.68</td>\n",
       "      <td>124.43</td>\n",
       "      <td>116.56</td>\n",
       "    </tr>\n",
       "    <tr>\n",
       "      <th>Nefinanční podnik (veřejný)</th>\n",
       "      <td>78.90</td>\n",
       "      <td>36.90</td>\n",
       "      <td>34.32</td>\n",
       "    </tr>\n",
       "    <tr>\n",
       "      <th>Nezařazeno</th>\n",
       "      <td>0.13</td>\n",
       "      <td>0.10</td>\n",
       "      <td>0.09</td>\n",
       "    </tr>\n",
       "    <tr>\n",
       "      <th>Neziskovka</th>\n",
       "      <td>32.77</td>\n",
       "      <td>24.65</td>\n",
       "      <td>22.36</td>\n",
       "    </tr>\n",
       "    <tr>\n",
       "      <th>Ostatní (soukromé)</th>\n",
       "      <td>17.53</td>\n",
       "      <td>8.64</td>\n",
       "      <td>8.27</td>\n",
       "    </tr>\n",
       "    <tr>\n",
       "      <th>Ostatní (veřejné)</th>\n",
       "      <td>0.51</td>\n",
       "      <td>0.43</td>\n",
       "      <td>0.43</td>\n",
       "    </tr>\n",
       "    <tr>\n",
       "      <th>Vládní instituce (místní)</th>\n",
       "      <td>346.25</td>\n",
       "      <td>241.14</td>\n",
       "      <td>217.01</td>\n",
       "    </tr>\n",
       "    <tr>\n",
       "      <th>Vládní instituce (ústřední)</th>\n",
       "      <td>438.11</td>\n",
       "      <td>310.72</td>\n",
       "      <td>265.32</td>\n",
       "    </tr>\n",
       "  </tbody>\n",
       "</table>\n",
       "</div>"
      ],
      "text/plain": [
       "                             Celkové zdroje  Smlouva  Proplaceno\n",
       "Kategorie                                                       \n",
       "Finanční sektor                        0.35     0.15        0.15\n",
       "Nefinanční podnik                    288.68   124.43      116.56\n",
       "Nefinanční podnik (veřejný)           78.90    36.90       34.32\n",
       "Nezařazeno                             0.13     0.10        0.09\n",
       "Neziskovka                            32.77    24.65       22.36\n",
       "Ostatní (soukromé)                    17.53     8.64        8.27\n",
       "Ostatní (veřejné)                      0.51     0.43        0.43\n",
       "Vládní instituce (místní)            346.25   241.14      217.01\n",
       "Vládní instituce (ústřední)          438.11   310.72      265.32"
      ]
     },
     "execution_count": 57,
     "metadata": {},
     "output_type": "execute_result"
    }
   ],
   "source": [
    "(dfs.groupby(kat).sum()/10**9).round(2)"
   ]
  },
  {
   "cell_type": "markdown",
   "metadata": {},
   "source": [
    "Nyní konečně přidáme info o veřejných institucích."
   ]
  },
  {
   "cell_type": "code",
   "execution_count": 58,
   "metadata": {
    "collapsed": true
   },
   "outputs": [],
   "source": [
    "ver = 'Veřejná instituce'\n",
    "dfs.loc[:, ver] = np.nan"
   ]
  },
  {
   "cell_type": "code",
   "execution_count": 59,
   "metadata": {
    "collapsed": false
   },
   "outputs": [],
   "source": [
    "dfs.loc[dfs.loc[:, kat].isin('Vládní instituce (ústřední), Vládní instituce (místní), Ostatní (veřejné), Nefinanční podnik (veřejný)'.split(', ')), ver] = True\n",
    "dfs.loc[dfs.loc[:, kat].isin('Finanční sektor, Nefinanční podnik, Neziskovka, Ostatní (soukromé)'.split(', ')), ver] = False"
   ]
  },
  {
   "cell_type": "code",
   "execution_count": 60,
   "metadata": {
    "collapsed": false
   },
   "outputs": [
    {
     "data": {
      "text/plain": [
       "Celkové zdroje    130.206249\n",
       "Smlouva            98.204275\n",
       "Proplaceno         87.349603\n",
       "dtype: float64"
      ]
     },
     "execution_count": 60,
     "metadata": {},
     "output_type": "execute_result"
    }
   ],
   "source": [
    "dfs.loc[dfs.loc[:, ver].isnull()].sum()/10**6 # zbylo 'Nezařazeno, tedy cca 100 milionů"
   ]
  },
  {
   "cell_type": "code",
   "execution_count": 61,
   "metadata": {
    "collapsed": false
   },
   "outputs": [
    {
     "data": {
      "text/html": [
       "<div>\n",
       "<table border=\"1\" class=\"dataframe\">\n",
       "  <thead>\n",
       "    <tr style=\"text-align: right;\">\n",
       "      <th></th>\n",
       "      <th></th>\n",
       "      <th>Celkové zdroje</th>\n",
       "      <th>Smlouva</th>\n",
       "      <th>Proplaceno</th>\n",
       "    </tr>\n",
       "    <tr>\n",
       "      <th>Veřejná instituce</th>\n",
       "      <th>Kategorie</th>\n",
       "      <th></th>\n",
       "      <th></th>\n",
       "      <th></th>\n",
       "    </tr>\n",
       "  </thead>\n",
       "  <tbody>\n",
       "    <tr>\n",
       "      <th rowspan=\"4\" valign=\"top\">False</th>\n",
       "      <th>Finanční sektor</th>\n",
       "      <td>0.4</td>\n",
       "      <td>0.2</td>\n",
       "      <td>0.1</td>\n",
       "    </tr>\n",
       "    <tr>\n",
       "      <th>Nefinanční podnik</th>\n",
       "      <td>288.7</td>\n",
       "      <td>124.4</td>\n",
       "      <td>116.6</td>\n",
       "    </tr>\n",
       "    <tr>\n",
       "      <th>Neziskovka</th>\n",
       "      <td>32.8</td>\n",
       "      <td>24.7</td>\n",
       "      <td>22.4</td>\n",
       "    </tr>\n",
       "    <tr>\n",
       "      <th>Ostatní (soukromé)</th>\n",
       "      <td>17.5</td>\n",
       "      <td>8.6</td>\n",
       "      <td>8.3</td>\n",
       "    </tr>\n",
       "    <tr>\n",
       "      <th rowspan=\"4\" valign=\"top\">True</th>\n",
       "      <th>Nefinanční podnik (veřejný)</th>\n",
       "      <td>78.9</td>\n",
       "      <td>36.9</td>\n",
       "      <td>34.3</td>\n",
       "    </tr>\n",
       "    <tr>\n",
       "      <th>Ostatní (veřejné)</th>\n",
       "      <td>0.5</td>\n",
       "      <td>0.4</td>\n",
       "      <td>0.4</td>\n",
       "    </tr>\n",
       "    <tr>\n",
       "      <th>Vládní instituce (místní)</th>\n",
       "      <td>346.2</td>\n",
       "      <td>241.1</td>\n",
       "      <td>217.0</td>\n",
       "    </tr>\n",
       "    <tr>\n",
       "      <th>Vládní instituce (ústřední)</th>\n",
       "      <td>438.1</td>\n",
       "      <td>310.7</td>\n",
       "      <td>265.3</td>\n",
       "    </tr>\n",
       "  </tbody>\n",
       "</table>\n",
       "</div>"
      ],
      "text/plain": [
       "                                               Celkové zdroje  Smlouva  \\\n",
       "Veřejná instituce Kategorie                                              \n",
       "False             Finanční sektor                         0.4      0.2   \n",
       "                  Nefinanční podnik                     288.7    124.4   \n",
       "                  Neziskovka                             32.8     24.7   \n",
       "                  Ostatní (soukromé)                     17.5      8.6   \n",
       "True              Nefinanční podnik (veřejný)            78.9     36.9   \n",
       "                  Ostatní (veřejné)                       0.5      0.4   \n",
       "                  Vládní instituce (místní)             346.2    241.1   \n",
       "                  Vládní instituce (ústřední)           438.1    310.7   \n",
       "\n",
       "                                               Proplaceno  \n",
       "Veřejná instituce Kategorie                                \n",
       "False             Finanční sektor                     0.1  \n",
       "                  Nefinanční podnik                 116.6  \n",
       "                  Neziskovka                         22.4  \n",
       "                  Ostatní (soukromé)                  8.3  \n",
       "True              Nefinanční podnik (veřejný)        34.3  \n",
       "                  Ostatní (veřejné)                   0.4  \n",
       "                  Vládní instituce (místní)         217.0  \n",
       "                  Vládní instituce (ústřední)       265.3  "
      ]
     },
     "execution_count": 61,
     "metadata": {},
     "output_type": "execute_result"
    }
   ],
   "source": [
    "(dfs.groupby([ver, kat]).sum()/10**9).round(1)"
   ]
  },
  {
   "cell_type": "markdown",
   "metadata": {},
   "source": [
    "## Export dat\n",
    "Máme hotovo, můžeme ukládat."
   ]
  },
  {
   "cell_type": "code",
   "execution_count": 62,
   "metadata": {
    "collapsed": true
   },
   "outputs": [],
   "source": [
    "dfs.to_csv('vystupy/projekty.csv', index=False)\n",
    "dfs.to_excel('vystupy/projekty.xlsx', index=False)"
   ]
  },
  {
   "cell_type": "code",
   "execution_count": 64,
   "metadata": {
    "collapsed": true
   },
   "outputs": [],
   "source": [
    "dfs.drop('Popis', axis=1).to_csv('vystupy/projekty-bez-popisu.csv', index=False)\n",
    "dfs.drop('Popis', axis=1).to_excel('vystupy/projekty-bez-popisu.xlsx', index=False)"
   ]
  },
  {
   "cell_type": "code",
   "execution_count": null,
   "metadata": {
    "collapsed": true
   },
   "outputs": [],
   "source": []
  }
 ],
 "metadata": {
  "kernelspec": {
   "display_name": "Python 3",
   "language": "python",
   "name": "python3"
  },
  "language_info": {
   "codemirror_mode": {
    "name": "ipython",
    "version": 3
   },
   "file_extension": ".py",
   "mimetype": "text/x-python",
   "name": "python",
   "nbconvert_exporter": "python",
   "pygments_lexer": "ipython3",
   "version": "3.5.1"
  }
 },
 "nbformat": 4,
 "nbformat_minor": 0
}
