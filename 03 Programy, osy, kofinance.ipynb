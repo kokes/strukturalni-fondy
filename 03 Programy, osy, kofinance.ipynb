{
 "cells": [
  {
   "cell_type": "markdown",
   "metadata": {},
   "source": [
    "# 3. Operační programy, strategické osy, kofinancování\n",
    "Nyní se podíváme trochu na rozdělení fondů samotných"
   ]
  },
  {
   "cell_type": "code",
   "execution_count": 2,
   "metadata": {
    "collapsed": true
   },
   "outputs": [],
   "source": [
    "import pandas as pd\n",
    "import numpy as np\n",
    "%matplotlib inline"
   ]
  },
  {
   "cell_type": "markdown",
   "metadata": {},
   "source": [
    "## Načítání dat\n",
    "Data od MMR máme zkombinována s daty of MFČR v souboru `vystupy/projekty-bez-popisu.csv` (můžeme použít i `projekty.csv`, ale ty jsou zbytečně velké pro naše potřeby)."
   ]
  },
  {
   "cell_type": "code",
   "execution_count": 3,
   "metadata": {
    "collapsed": false
   },
   "outputs": [],
   "source": [
    "df = pd.read_csv('vystupy/projekty-bez-popisu.csv', low_memory=False, dtype={'IČO': str})"
   ]
  },
  {
   "cell_type": "code",
   "execution_count": 4,
   "metadata": {
    "collapsed": false
   },
   "outputs": [
    {
     "data": {
      "text/plain": [
       "(73494, 18)"
      ]
     },
     "execution_count": 4,
     "metadata": {},
     "output_type": "execute_result"
    }
   ],
   "source": [
    "df.shape"
   ]
  },
  {
   "cell_type": "code",
   "execution_count": 5,
   "metadata": {
    "collapsed": false
   },
   "outputs": [],
   "source": [
    "# nazvy sloupcu, at se to lip filtruje\n",
    "prog = 'Program'\n",
    "ico = 'IČO'\n",
    "dat = 'Datum'\n",
    "naz = 'Název'\n",
    "celk = 'Celkové zdroje'\n",
    "sml = 'Smlouva'\n",
    "prop = 'Proplaceno'\n",
    "zad = 'Žadatel'\n",
    "prfo = 'Právní forma'\n",
    "prfok = 'Právní forma (kód)'\n",
    "nuts = 'NUTS4'\n",
    "esa = 'ESA'\n",
    "esak = 'ESA (kód)'\n",
    "zam = 'Zaměstnanců'\n",
    "kat = 'Kategorie'\n",
    "ver = 'Veřejná instituce'"
   ]
  },
  {
   "cell_type": "code",
   "execution_count": 6,
   "metadata": {
    "collapsed": false
   },
   "outputs": [],
   "source": [
    "# df.loc[:, ico] = [str(j).rjust(8, '0') for j in df.loc[:, ico]]"
   ]
  },
  {
   "cell_type": "markdown",
   "metadata": {},
   "source": [
    "## Operační programy"
   ]
  },
  {
   "cell_type": "code",
   "execution_count": 7,
   "metadata": {
    "collapsed": false
   },
   "outputs": [
    {
     "data": {
      "text/html": [
       "<div>\n",
       "<table border=\"1\" class=\"dataframe\">\n",
       "  <thead>\n",
       "    <tr style=\"text-align: right;\">\n",
       "      <th></th>\n",
       "      <th>Celkové zdroje</th>\n",
       "      <th>Smlouva</th>\n",
       "      <th>Proplaceno</th>\n",
       "    </tr>\n",
       "    <tr>\n",
       "      <th>Program</th>\n",
       "      <th></th>\n",
       "      <th></th>\n",
       "      <th></th>\n",
       "    </tr>\n",
       "  </thead>\n",
       "  <tbody>\n",
       "    <tr>\n",
       "      <th>CZ.1.01 OP Doprava</th>\n",
       "      <td>284.59</td>\n",
       "      <td>183.83</td>\n",
       "      <td>169.19</td>\n",
       "    </tr>\n",
       "    <tr>\n",
       "      <th>CZ.1.02 OP Životní prostředí</th>\n",
       "      <td>225.67</td>\n",
       "      <td>128.06</td>\n",
       "      <td>124.00</td>\n",
       "    </tr>\n",
       "    <tr>\n",
       "      <th>CZ.1.03 OP Podnikání a inovace</th>\n",
       "      <td>224.63</td>\n",
       "      <td>95.51</td>\n",
       "      <td>88.95</td>\n",
       "    </tr>\n",
       "    <tr>\n",
       "      <th>CZ.1.04 OP Lidské zdroje a zaměstnanost</th>\n",
       "      <td>69.39</td>\n",
       "      <td>58.95</td>\n",
       "      <td>50.89</td>\n",
       "    </tr>\n",
       "    <tr>\n",
       "      <th>CZ.1.05 OP Výzkum a vývoj pro inovace</th>\n",
       "      <td>71.35</td>\n",
       "      <td>49.03</td>\n",
       "      <td>47.35</td>\n",
       "    </tr>\n",
       "    <tr>\n",
       "      <th>CZ.1.07 OP Vzdělávání pro konkurenceschopnost</th>\n",
       "      <td>56.20</td>\n",
       "      <td>47.77</td>\n",
       "      <td>43.94</td>\n",
       "    </tr>\n",
       "    <tr>\n",
       "      <th>CZ.1.06 Integrovaný operační program</th>\n",
       "      <td>58.62</td>\n",
       "      <td>44.18</td>\n",
       "      <td>40.29</td>\n",
       "    </tr>\n",
       "    <tr>\n",
       "      <th>CZ.1.10 ROP NUTS II Moravskoslezsko</th>\n",
       "      <td>33.92</td>\n",
       "      <td>22.66</td>\n",
       "      <td>19.92</td>\n",
       "    </tr>\n",
       "    <tr>\n",
       "      <th>CZ.1.11 ROP NUTS II Jihovýchod</th>\n",
       "      <td>33.55</td>\n",
       "      <td>22.31</td>\n",
       "      <td>18.48</td>\n",
       "    </tr>\n",
       "    <tr>\n",
       "      <th>CZ.1.09 ROP NUTS II Severozápad</th>\n",
       "      <td>28.83</td>\n",
       "      <td>19.09</td>\n",
       "      <td>18.00</td>\n",
       "    </tr>\n",
       "    <tr>\n",
       "      <th>CZ.1.14 ROP Jihozápad</th>\n",
       "      <td>28.30</td>\n",
       "      <td>18.74</td>\n",
       "      <td>16.83</td>\n",
       "    </tr>\n",
       "    <tr>\n",
       "      <th>CZ.1.12 ROP NUTS II Střední Morava</th>\n",
       "      <td>30.35</td>\n",
       "      <td>18.72</td>\n",
       "      <td>17.52</td>\n",
       "    </tr>\n",
       "    <tr>\n",
       "      <th>CZ.1.13 ROP NUTS II Severovýchod</th>\n",
       "      <td>28.88</td>\n",
       "      <td>18.44</td>\n",
       "      <td>17.40</td>\n",
       "    </tr>\n",
       "    <tr>\n",
       "      <th>CZ.1.15 ROP NUTS II Střední Čechy</th>\n",
       "      <td>25.92</td>\n",
       "      <td>17.70</td>\n",
       "      <td>14.92</td>\n",
       "    </tr>\n",
       "    <tr>\n",
       "      <th>CZ.2.16 OP Praha Konkurenceschopnost</th>\n",
       "      <td>11.26</td>\n",
       "      <td>7.33</td>\n",
       "      <td>6.54</td>\n",
       "    </tr>\n",
       "    <tr>\n",
       "      <th>CZ.1.08 OP Technická pomoc</th>\n",
       "      <td>5.13</td>\n",
       "      <td>4.35</td>\n",
       "      <td>3.61</td>\n",
       "    </tr>\n",
       "    <tr>\n",
       "      <th>CZ.2.17 OP Praha Adaptibilita</th>\n",
       "      <td>3.64</td>\n",
       "      <td>3.03</td>\n",
       "      <td>2.66</td>\n",
       "    </tr>\n",
       "    <tr>\n",
       "      <th>CZ.1.25 OP Rybářství</th>\n",
       "      <td>1.56</td>\n",
       "      <td>0.69</td>\n",
       "      <td>0.68</td>\n",
       "    </tr>\n",
       "    <tr>\n",
       "      <th>CZ.3.22 OP ČR - Polsko</th>\n",
       "      <td>0.18</td>\n",
       "      <td>0.15</td>\n",
       "      <td>0.19</td>\n",
       "    </tr>\n",
       "  </tbody>\n",
       "</table>\n",
       "</div>"
      ],
      "text/plain": [
       "                                               Celkové zdroje  Smlouva  \\\n",
       "Program                                                                  \n",
       "CZ.1.01 OP Doprava                                     284.59   183.83   \n",
       "CZ.1.02 OP Životní prostředí                           225.67   128.06   \n",
       "CZ.1.03 OP Podnikání a inovace                         224.63    95.51   \n",
       "CZ.1.04 OP Lidské zdroje a zaměstnanost                 69.39    58.95   \n",
       "CZ.1.05 OP Výzkum a vývoj pro inovace                   71.35    49.03   \n",
       "CZ.1.07 OP Vzdělávání pro konkurenceschopnost           56.20    47.77   \n",
       "CZ.1.06 Integrovaný operační program                    58.62    44.18   \n",
       "CZ.1.10 ROP NUTS II Moravskoslezsko                     33.92    22.66   \n",
       "CZ.1.11 ROP NUTS II Jihovýchod                          33.55    22.31   \n",
       "CZ.1.09 ROP NUTS II Severozápad                         28.83    19.09   \n",
       "CZ.1.14 ROP Jihozápad                                   28.30    18.74   \n",
       "CZ.1.12 ROP NUTS II Střední Morava                      30.35    18.72   \n",
       "CZ.1.13 ROP NUTS II Severovýchod                        28.88    18.44   \n",
       "CZ.1.15 ROP NUTS II Střední Čechy                       25.92    17.70   \n",
       "CZ.2.16 OP Praha Konkurenceschopnost                    11.26     7.33   \n",
       "CZ.1.08 OP Technická pomoc                               5.13     4.35   \n",
       "CZ.2.17 OP Praha Adaptibilita                            3.64     3.03   \n",
       "CZ.1.25 OP Rybářství                                     1.56     0.69   \n",
       "CZ.3.22 OP ČR - Polsko                                   0.18     0.15   \n",
       "\n",
       "                                               Proplaceno  \n",
       "Program                                                    \n",
       "CZ.1.01 OP Doprava                                 169.19  \n",
       "CZ.1.02 OP Životní prostředí                       124.00  \n",
       "CZ.1.03 OP Podnikání a inovace                      88.95  \n",
       "CZ.1.04 OP Lidské zdroje a zaměstnanost             50.89  \n",
       "CZ.1.05 OP Výzkum a vývoj pro inovace               47.35  \n",
       "CZ.1.07 OP Vzdělávání pro konkurenceschopnost       43.94  \n",
       "CZ.1.06 Integrovaný operační program                40.29  \n",
       "CZ.1.10 ROP NUTS II Moravskoslezsko                 19.92  \n",
       "CZ.1.11 ROP NUTS II Jihovýchod                      18.48  \n",
       "CZ.1.09 ROP NUTS II Severozápad                     18.00  \n",
       "CZ.1.14 ROP Jihozápad                               16.83  \n",
       "CZ.1.12 ROP NUTS II Střední Morava                  17.52  \n",
       "CZ.1.13 ROP NUTS II Severovýchod                    17.40  \n",
       "CZ.1.15 ROP NUTS II Střední Čechy                   14.92  \n",
       "CZ.2.16 OP Praha Konkurenceschopnost                 6.54  \n",
       "CZ.1.08 OP Technická pomoc                           3.61  \n",
       "CZ.2.17 OP Praha Adaptibilita                        2.66  \n",
       "CZ.1.25 OP Rybářství                                 0.68  \n",
       "CZ.3.22 OP ČR - Polsko                               0.19  "
      ]
     },
     "execution_count": 7,
     "metadata": {},
     "output_type": "execute_result"
    }
   ],
   "source": [
    "opp = df.groupby(prog).sum().loc[:, [celk, sml, prop]]\n",
    "opp = (opp/10**9).round(2).sort_values(by=sml, ascending=False)\n",
    "opp"
   ]
  },
  {
   "cell_type": "code",
   "execution_count": 8,
   "metadata": {
    "collapsed": false
   },
   "outputs": [],
   "source": [
    "opp.to_csv('vystupy/tabulky/operacni-programy.csv')\n",
    "opp.to_excel('vystupy/tabulky/operacni-programy.xlsx')"
   ]
  },
  {
   "cell_type": "markdown",
   "metadata": {},
   "source": [
    "### Podle vlastnictví\n",
    "Operační programy podle toho, zda jde o peníze pro veřejné podniky nebo ne."
   ]
  },
  {
   "cell_type": "markdown",
   "metadata": {},
   "source": [
    "*(Není úplně jasné, jak následující tabulku ukázat, je tam celkem dost informací.)*"
   ]
  },
  {
   "cell_type": "code",
   "execution_count": 9,
   "metadata": {
    "collapsed": false
   },
   "outputs": [
    {
     "data": {
      "text/html": [
       "<div>\n",
       "<table border=\"1\" class=\"dataframe\">\n",
       "  <thead>\n",
       "    <tr>\n",
       "      <th>Veřejná instituce</th>\n",
       "      <th colspan=\"3\" halign=\"left\">False</th>\n",
       "      <th colspan=\"3\" halign=\"left\">True</th>\n",
       "    </tr>\n",
       "    <tr>\n",
       "      <th></th>\n",
       "      <th>Celkové zdroje</th>\n",
       "      <th>Proplaceno</th>\n",
       "      <th>Smlouva</th>\n",
       "      <th>Celkové zdroje</th>\n",
       "      <th>Proplaceno</th>\n",
       "      <th>Smlouva</th>\n",
       "    </tr>\n",
       "    <tr>\n",
       "      <th>Program</th>\n",
       "      <th></th>\n",
       "      <th></th>\n",
       "      <th></th>\n",
       "      <th></th>\n",
       "      <th></th>\n",
       "      <th></th>\n",
       "    </tr>\n",
       "  </thead>\n",
       "  <tbody>\n",
       "    <tr>\n",
       "      <th>CZ.1.01 OP Doprava</th>\n",
       "      <td>0.55</td>\n",
       "      <td>0.17</td>\n",
       "      <td>0.17</td>\n",
       "      <td>284.04</td>\n",
       "      <td>169.02</td>\n",
       "      <td>183.65</td>\n",
       "    </tr>\n",
       "    <tr>\n",
       "      <th>CZ.1.02 OP Životní prostředí</th>\n",
       "      <td>48.21</td>\n",
       "      <td>22.64</td>\n",
       "      <td>23.14</td>\n",
       "      <td>177.46</td>\n",
       "      <td>101.35</td>\n",
       "      <td>104.92</td>\n",
       "    </tr>\n",
       "    <tr>\n",
       "      <th>CZ.1.03 OP Podnikání a inovace</th>\n",
       "      <td>206.69</td>\n",
       "      <td>78.19</td>\n",
       "      <td>83.40</td>\n",
       "      <td>17.91</td>\n",
       "      <td>10.75</td>\n",
       "      <td>12.10</td>\n",
       "    </tr>\n",
       "    <tr>\n",
       "      <th>CZ.1.04 OP Lidské zdroje a zaměstnanost</th>\n",
       "      <td>17.51</td>\n",
       "      <td>13.20</td>\n",
       "      <td>14.86</td>\n",
       "      <td>51.80</td>\n",
       "      <td>37.63</td>\n",
       "      <td>44.03</td>\n",
       "    </tr>\n",
       "    <tr>\n",
       "      <th>CZ.1.05 OP Výzkum a vývoj pro inovace</th>\n",
       "      <td>5.95</td>\n",
       "      <td>4.02</td>\n",
       "      <td>4.15</td>\n",
       "      <td>65.41</td>\n",
       "      <td>43.33</td>\n",
       "      <td>44.88</td>\n",
       "    </tr>\n",
       "    <tr>\n",
       "      <th>CZ.1.06 Integrovaný operační program</th>\n",
       "      <td>9.22</td>\n",
       "      <td>4.87</td>\n",
       "      <td>5.25</td>\n",
       "      <td>49.39</td>\n",
       "      <td>35.42</td>\n",
       "      <td>38.93</td>\n",
       "    </tr>\n",
       "    <tr>\n",
       "      <th>CZ.1.07 OP Vzdělávání pro konkurenceschopnost</th>\n",
       "      <td>10.32</td>\n",
       "      <td>8.13</td>\n",
       "      <td>8.77</td>\n",
       "      <td>45.87</td>\n",
       "      <td>35.79</td>\n",
       "      <td>38.99</td>\n",
       "    </tr>\n",
       "    <tr>\n",
       "      <th>CZ.1.08 OP Technická pomoc</th>\n",
       "      <td>0.12</td>\n",
       "      <td>0.09</td>\n",
       "      <td>0.10</td>\n",
       "      <td>5.01</td>\n",
       "      <td>3.52</td>\n",
       "      <td>4.25</td>\n",
       "    </tr>\n",
       "    <tr>\n",
       "      <th>CZ.1.09 ROP NUTS II Severozápad</th>\n",
       "      <td>4.35</td>\n",
       "      <td>1.68</td>\n",
       "      <td>1.74</td>\n",
       "      <td>24.48</td>\n",
       "      <td>16.33</td>\n",
       "      <td>17.35</td>\n",
       "    </tr>\n",
       "    <tr>\n",
       "      <th>CZ.1.10 ROP NUTS II Moravskoslezsko</th>\n",
       "      <td>5.11</td>\n",
       "      <td>1.89</td>\n",
       "      <td>2.17</td>\n",
       "      <td>28.81</td>\n",
       "      <td>18.03</td>\n",
       "      <td>20.49</td>\n",
       "    </tr>\n",
       "    <tr>\n",
       "      <th>CZ.1.11 ROP NUTS II Jihovýchod</th>\n",
       "      <td>4.77</td>\n",
       "      <td>1.94</td>\n",
       "      <td>2.20</td>\n",
       "      <td>28.78</td>\n",
       "      <td>16.54</td>\n",
       "      <td>20.12</td>\n",
       "    </tr>\n",
       "    <tr>\n",
       "      <th>CZ.1.12 ROP NUTS II Střední Morava</th>\n",
       "      <td>7.12</td>\n",
       "      <td>2.53</td>\n",
       "      <td>2.70</td>\n",
       "      <td>23.23</td>\n",
       "      <td>14.99</td>\n",
       "      <td>16.03</td>\n",
       "    </tr>\n",
       "    <tr>\n",
       "      <th>CZ.1.13 ROP NUTS II Severovýchod</th>\n",
       "      <td>6.28</td>\n",
       "      <td>2.56</td>\n",
       "      <td>2.70</td>\n",
       "      <td>22.60</td>\n",
       "      <td>14.84</td>\n",
       "      <td>15.74</td>\n",
       "    </tr>\n",
       "    <tr>\n",
       "      <th>CZ.1.14 ROP Jihozápad</th>\n",
       "      <td>4.25</td>\n",
       "      <td>1.82</td>\n",
       "      <td>1.93</td>\n",
       "      <td>24.05</td>\n",
       "      <td>15.01</td>\n",
       "      <td>16.81</td>\n",
       "    </tr>\n",
       "    <tr>\n",
       "      <th>CZ.1.15 ROP NUTS II Střední Čechy</th>\n",
       "      <td>3.22</td>\n",
       "      <td>1.19</td>\n",
       "      <td>1.23</td>\n",
       "      <td>22.70</td>\n",
       "      <td>13.74</td>\n",
       "      <td>16.46</td>\n",
       "    </tr>\n",
       "    <tr>\n",
       "      <th>CZ.1.25 OP Rybářství</th>\n",
       "      <td>1.31</td>\n",
       "      <td>0.52</td>\n",
       "      <td>0.54</td>\n",
       "      <td>0.25</td>\n",
       "      <td>0.16</td>\n",
       "      <td>0.16</td>\n",
       "    </tr>\n",
       "    <tr>\n",
       "      <th>CZ.2.16 OP Praha Konkurenceschopnost</th>\n",
       "      <td>1.71</td>\n",
       "      <td>0.86</td>\n",
       "      <td>0.93</td>\n",
       "      <td>9.55</td>\n",
       "      <td>5.67</td>\n",
       "      <td>6.40</td>\n",
       "    </tr>\n",
       "    <tr>\n",
       "      <th>CZ.2.17 OP Praha Adaptibilita</th>\n",
       "      <td>2.15</td>\n",
       "      <td>1.57</td>\n",
       "      <td>1.78</td>\n",
       "      <td>1.47</td>\n",
       "      <td>1.07</td>\n",
       "      <td>1.24</td>\n",
       "    </tr>\n",
       "    <tr>\n",
       "      <th>CZ.3.22 OP ČR - Polsko</th>\n",
       "      <td>0.03</td>\n",
       "      <td>0.05</td>\n",
       "      <td>0.02</td>\n",
       "      <td>0.15</td>\n",
       "      <td>0.14</td>\n",
       "      <td>0.12</td>\n",
       "    </tr>\n",
       "  </tbody>\n",
       "</table>\n",
       "</div>"
      ],
      "text/plain": [
       "Veřejná instituce                                      False             \\\n",
       "                                              Celkové zdroje Proplaceno   \n",
       "Program                                                                   \n",
       "CZ.1.01 OP Doprava                                      0.55       0.17   \n",
       "CZ.1.02 OP Životní prostředí                           48.21      22.64   \n",
       "CZ.1.03 OP Podnikání a inovace                        206.69      78.19   \n",
       "CZ.1.04 OP Lidské zdroje a zaměstnanost                17.51      13.20   \n",
       "CZ.1.05 OP Výzkum a vývoj pro inovace                   5.95       4.02   \n",
       "CZ.1.06 Integrovaný operační program                    9.22       4.87   \n",
       "CZ.1.07 OP Vzdělávání pro konkurenceschopnost          10.32       8.13   \n",
       "CZ.1.08 OP Technická pomoc                              0.12       0.09   \n",
       "CZ.1.09 ROP NUTS II Severozápad                         4.35       1.68   \n",
       "CZ.1.10 ROP NUTS II Moravskoslezsko                     5.11       1.89   \n",
       "CZ.1.11 ROP NUTS II Jihovýchod                          4.77       1.94   \n",
       "CZ.1.12 ROP NUTS II Střední Morava                      7.12       2.53   \n",
       "CZ.1.13 ROP NUTS II Severovýchod                        6.28       2.56   \n",
       "CZ.1.14 ROP Jihozápad                                   4.25       1.82   \n",
       "CZ.1.15 ROP NUTS II Střední Čechy                       3.22       1.19   \n",
       "CZ.1.25 OP Rybářství                                    1.31       0.52   \n",
       "CZ.2.16 OP Praha Konkurenceschopnost                    1.71       0.86   \n",
       "CZ.2.17 OP Praha Adaptibilita                           2.15       1.57   \n",
       "CZ.3.22 OP ČR - Polsko                                  0.03       0.05   \n",
       "\n",
       "Veřejná instituce                                              True   \\\n",
       "                                              Smlouva Celkové zdroje   \n",
       "Program                                                                \n",
       "CZ.1.01 OP Doprava                               0.17         284.04   \n",
       "CZ.1.02 OP Životní prostředí                    23.14         177.46   \n",
       "CZ.1.03 OP Podnikání a inovace                  83.40          17.91   \n",
       "CZ.1.04 OP Lidské zdroje a zaměstnanost         14.86          51.80   \n",
       "CZ.1.05 OP Výzkum a vývoj pro inovace            4.15          65.41   \n",
       "CZ.1.06 Integrovaný operační program             5.25          49.39   \n",
       "CZ.1.07 OP Vzdělávání pro konkurenceschopnost    8.77          45.87   \n",
       "CZ.1.08 OP Technická pomoc                       0.10           5.01   \n",
       "CZ.1.09 ROP NUTS II Severozápad                  1.74          24.48   \n",
       "CZ.1.10 ROP NUTS II Moravskoslezsko              2.17          28.81   \n",
       "CZ.1.11 ROP NUTS II Jihovýchod                   2.20          28.78   \n",
       "CZ.1.12 ROP NUTS II Střední Morava               2.70          23.23   \n",
       "CZ.1.13 ROP NUTS II Severovýchod                 2.70          22.60   \n",
       "CZ.1.14 ROP Jihozápad                            1.93          24.05   \n",
       "CZ.1.15 ROP NUTS II Střední Čechy                1.23          22.70   \n",
       "CZ.1.25 OP Rybářství                             0.54           0.25   \n",
       "CZ.2.16 OP Praha Konkurenceschopnost             0.93           9.55   \n",
       "CZ.2.17 OP Praha Adaptibilita                    1.78           1.47   \n",
       "CZ.3.22 OP ČR - Polsko                           0.02           0.15   \n",
       "\n",
       "Veřejná instituce                                                 \n",
       "                                              Proplaceno Smlouva  \n",
       "Program                                                           \n",
       "CZ.1.01 OP Doprava                                169.02  183.65  \n",
       "CZ.1.02 OP Životní prostředí                      101.35  104.92  \n",
       "CZ.1.03 OP Podnikání a inovace                     10.75   12.10  \n",
       "CZ.1.04 OP Lidské zdroje a zaměstnanost            37.63   44.03  \n",
       "CZ.1.05 OP Výzkum a vývoj pro inovace              43.33   44.88  \n",
       "CZ.1.06 Integrovaný operační program               35.42   38.93  \n",
       "CZ.1.07 OP Vzdělávání pro konkurenceschopnost      35.79   38.99  \n",
       "CZ.1.08 OP Technická pomoc                          3.52    4.25  \n",
       "CZ.1.09 ROP NUTS II Severozápad                    16.33   17.35  \n",
       "CZ.1.10 ROP NUTS II Moravskoslezsko                18.03   20.49  \n",
       "CZ.1.11 ROP NUTS II Jihovýchod                     16.54   20.12  \n",
       "CZ.1.12 ROP NUTS II Střední Morava                 14.99   16.03  \n",
       "CZ.1.13 ROP NUTS II Severovýchod                   14.84   15.74  \n",
       "CZ.1.14 ROP Jihozápad                              15.01   16.81  \n",
       "CZ.1.15 ROP NUTS II Střední Čechy                  13.74   16.46  \n",
       "CZ.1.25 OP Rybářství                                0.16    0.16  \n",
       "CZ.2.16 OP Praha Konkurenceschopnost                5.67    6.40  \n",
       "CZ.2.17 OP Praha Adaptibilita                       1.07    1.24  \n",
       "CZ.3.22 OP ČR - Polsko                              0.14    0.12  "
      ]
     },
     "execution_count": 9,
     "metadata": {},
     "output_type": "execute_result"
    }
   ],
   "source": [
    "opp = (df.groupby([prog, ver]).sum().loc[:, [celk, sml, prop]]/10**9).\\\n",
    "unstack().round(2).swaplevel(0,1,axis=1).sort_index(axis=1)\n",
    "opp"
   ]
  },
  {
   "cell_type": "code",
   "execution_count": 10,
   "metadata": {
    "collapsed": true
   },
   "outputs": [],
   "source": [
    "opp.to_csv('vystupy/tabulky/operacni-programy-verejne-soukrome.csv')\n",
    "opp.to_excel('vystupy/tabulky/operacni-programy-verejne-soukrome.xlsx')"
   ]
  },
  {
   "cell_type": "markdown",
   "metadata": {},
   "source": [
    "### Poměr veřejných podle programu\n",
    "Tahle tabulka ukazuje, jak jsou rozděleny zdroje *v rámci* programu mezi veřejné a soukromé příjemce. Je tu vidět, že zatímco u OP Doprava jdou skoro všechny prostředky nepřekrapivě veřejným institucím (99.91 %), u programu OP Podnikání a inovace to je opět nepřekvapivě naopak - pouhých 12.67 % pro veřejné subjekty.\n",
    "\n",
    "(Jde o rozdělení podle objemu nasmlouvaných prostředků, nejde o počet projektů.)"
   ]
  },
  {
   "cell_type": "code",
   "execution_count": 11,
   "metadata": {
    "collapsed": false
   },
   "outputs": [
    {
     "data": {
      "text/html": [
       "<div>\n",
       "<table border=\"1\" class=\"dataframe\">\n",
       "  <thead>\n",
       "    <tr style=\"text-align: right;\">\n",
       "      <th>Veřejná instituce</th>\n",
       "      <th>False</th>\n",
       "      <th>True</th>\n",
       "    </tr>\n",
       "    <tr>\n",
       "      <th>Program</th>\n",
       "      <th></th>\n",
       "      <th></th>\n",
       "    </tr>\n",
       "  </thead>\n",
       "  <tbody>\n",
       "    <tr>\n",
       "      <th>CZ.1.01 OP Doprava</th>\n",
       "      <td>0.09</td>\n",
       "      <td>99.91</td>\n",
       "    </tr>\n",
       "    <tr>\n",
       "      <th>CZ.1.08 OP Technická pomoc</th>\n",
       "      <td>2.29</td>\n",
       "      <td>97.71</td>\n",
       "    </tr>\n",
       "    <tr>\n",
       "      <th>CZ.1.15 ROP NUTS II Střední Čechy</th>\n",
       "      <td>6.96</td>\n",
       "      <td>93.04</td>\n",
       "    </tr>\n",
       "    <tr>\n",
       "      <th>CZ.1.05 OP Výzkum a vývoj pro inovace</th>\n",
       "      <td>8.47</td>\n",
       "      <td>91.53</td>\n",
       "    </tr>\n",
       "    <tr>\n",
       "      <th>CZ.1.09 ROP NUTS II Severozápad</th>\n",
       "      <td>9.10</td>\n",
       "      <td>90.90</td>\n",
       "    </tr>\n",
       "    <tr>\n",
       "      <th>CZ.1.10 ROP NUTS II Moravskoslezsko</th>\n",
       "      <td>9.58</td>\n",
       "      <td>90.42</td>\n",
       "    </tr>\n",
       "    <tr>\n",
       "      <th>CZ.1.11 ROP NUTS II Jihovýchod</th>\n",
       "      <td>9.85</td>\n",
       "      <td>90.15</td>\n",
       "    </tr>\n",
       "    <tr>\n",
       "      <th>CZ.1.14 ROP Jihozápad</th>\n",
       "      <td>10.31</td>\n",
       "      <td>89.69</td>\n",
       "    </tr>\n",
       "    <tr>\n",
       "      <th>CZ.1.06 Integrovaný operační program</th>\n",
       "      <td>11.87</td>\n",
       "      <td>88.13</td>\n",
       "    </tr>\n",
       "    <tr>\n",
       "      <th>CZ.2.16 OP Praha Konkurenceschopnost</th>\n",
       "      <td>12.63</td>\n",
       "      <td>87.37</td>\n",
       "    </tr>\n",
       "    <tr>\n",
       "      <th>CZ.1.12 ROP NUTS II Střední Morava</th>\n",
       "      <td>14.40</td>\n",
       "      <td>85.60</td>\n",
       "    </tr>\n",
       "    <tr>\n",
       "      <th>CZ.1.13 ROP NUTS II Severovýchod</th>\n",
       "      <td>14.65</td>\n",
       "      <td>85.35</td>\n",
       "    </tr>\n",
       "    <tr>\n",
       "      <th>CZ.3.22 OP ČR - Polsko</th>\n",
       "      <td>16.64</td>\n",
       "      <td>83.36</td>\n",
       "    </tr>\n",
       "    <tr>\n",
       "      <th>CZ.1.02 OP Životní prostředí</th>\n",
       "      <td>18.07</td>\n",
       "      <td>81.93</td>\n",
       "    </tr>\n",
       "    <tr>\n",
       "      <th>CZ.1.07 OP Vzdělávání pro konkurenceschopnost</th>\n",
       "      <td>18.37</td>\n",
       "      <td>81.63</td>\n",
       "    </tr>\n",
       "    <tr>\n",
       "      <th>CZ.1.04 OP Lidské zdroje a zaměstnanost</th>\n",
       "      <td>25.24</td>\n",
       "      <td>74.76</td>\n",
       "    </tr>\n",
       "    <tr>\n",
       "      <th>CZ.2.17 OP Praha Adaptibilita</th>\n",
       "      <td>58.88</td>\n",
       "      <td>41.12</td>\n",
       "    </tr>\n",
       "    <tr>\n",
       "      <th>CZ.1.25 OP Rybářství</th>\n",
       "      <td>77.43</td>\n",
       "      <td>22.57</td>\n",
       "    </tr>\n",
       "    <tr>\n",
       "      <th>CZ.1.03 OP Podnikání a inovace</th>\n",
       "      <td>87.33</td>\n",
       "      <td>12.67</td>\n",
       "    </tr>\n",
       "  </tbody>\n",
       "</table>\n",
       "</div>"
      ],
      "text/plain": [
       "Veřejná instituce                              False  True \n",
       "Program                                                    \n",
       "CZ.1.01 OP Doprava                              0.09  99.91\n",
       "CZ.1.08 OP Technická pomoc                      2.29  97.71\n",
       "CZ.1.15 ROP NUTS II Střední Čechy               6.96  93.04\n",
       "CZ.1.05 OP Výzkum a vývoj pro inovace           8.47  91.53\n",
       "CZ.1.09 ROP NUTS II Severozápad                 9.10  90.90\n",
       "CZ.1.10 ROP NUTS II Moravskoslezsko             9.58  90.42\n",
       "CZ.1.11 ROP NUTS II Jihovýchod                  9.85  90.15\n",
       "CZ.1.14 ROP Jihozápad                          10.31  89.69\n",
       "CZ.1.06 Integrovaný operační program           11.87  88.13\n",
       "CZ.2.16 OP Praha Konkurenceschopnost           12.63  87.37\n",
       "CZ.1.12 ROP NUTS II Střední Morava             14.40  85.60\n",
       "CZ.1.13 ROP NUTS II Severovýchod               14.65  85.35\n",
       "CZ.3.22 OP ČR - Polsko                         16.64  83.36\n",
       "CZ.1.02 OP Životní prostředí                   18.07  81.93\n",
       "CZ.1.07 OP Vzdělávání pro konkurenceschopnost  18.37  81.63\n",
       "CZ.1.04 OP Lidské zdroje a zaměstnanost        25.24  74.76\n",
       "CZ.2.17 OP Praha Adaptibilita                  58.88  41.12\n",
       "CZ.1.25 OP Rybářství                           77.43  22.57\n",
       "CZ.1.03 OP Podnikání a inovace                 87.33  12.67"
      ]
     },
     "execution_count": 11,
     "metadata": {},
     "output_type": "execute_result"
    }
   ],
   "source": [
    "pom = df.groupby([prog, ver]).sum().loc[:, sml].unstack()/10**9\n",
    "pom = (100*pom.div(pom.sum(axis=1), axis=0)).round(2).sort_values(by=False)\n",
    "pom"
   ]
  },
  {
   "cell_type": "code",
   "execution_count": 12,
   "metadata": {
    "collapsed": true
   },
   "outputs": [],
   "source": [
    "pom.to_csv('vystupy/tabulky/operacni-programy-pomer-verejnych.csv')\n",
    "pom.to_excel('vystupy/tabulky/operacni-programy-pomer-verejnych.xlsx')"
   ]
  },
  {
   "cell_type": "markdown",
   "metadata": {},
   "source": [
    "### Největší projekty podle programu\n",
    "**Tabulka je v milionech!**"
   ]
  },
  {
   "cell_type": "code",
   "execution_count": 51,
   "metadata": {
    "collapsed": false
   },
   "outputs": [],
   "source": [
    "progs = df.groupby([prog, ico, zad, naz])[[celk,sml,prop]].sum()/10**6"
   ]
  },
  {
   "cell_type": "code",
   "execution_count": 52,
   "metadata": {
    "collapsed": true
   },
   "outputs": [],
   "source": [
    "xw = pd.ExcelWriter('vystupy/tabulky/operacni-programy-zvlast.xlsx')"
   ]
  },
  {
   "cell_type": "code",
   "execution_count": 53,
   "metadata": {
    "collapsed": false
   },
   "outputs": [],
   "source": [
    "for pr in progs.index.levels[0]:\n",
    "    progs.loc[pr].sort_values(by=sml, ascending=False).\\\n",
    "        reset_index().head(100).round(3).to_excel(xw, pr[:31], index=False)"
   ]
  },
  {
   "cell_type": "code",
   "execution_count": 54,
   "metadata": {
    "collapsed": false
   },
   "outputs": [],
   "source": [
    "xw.save()"
   ]
  },
  {
   "cell_type": "markdown",
   "metadata": {},
   "source": [
    "## Strategické osy\n",
    "TODO: budu muset doplnit data, protože info o osách sem na začátku smazal."
   ]
  },
  {
   "cell_type": "markdown",
   "metadata": {},
   "source": [
    "## Kofinancování"
   ]
  },
  {
   "cell_type": "code",
   "execution_count": 13,
   "metadata": {
    "collapsed": false
   },
   "outputs": [],
   "source": [
    "kofi = 1 - (df.loc[:, sml]/df.loc[:, celk])\n",
    "kofi.loc[kofi < 0] = np.nan # chyba v datech MMR u firmy BioFish s.r.o"
   ]
  },
  {
   "cell_type": "code",
   "execution_count": 14,
   "metadata": {
    "collapsed": false
   },
   "outputs": [
    {
     "data": {
      "text/plain": [
       "<matplotlib.axes._subplots.AxesSubplot at 0x10f6178d0>"
      ]
     },
     "execution_count": 14,
     "metadata": {},
     "output_type": "execute_result"
    },
    {
     "data": {
      "image/png": "[encoded data removed]",
      "text/plain": [
       "<matplotlib.figure.Figure at 0x10f4bdf60>"
      ]
     },
     "metadata": {},
     "output_type": "display_data"
    }
   ],
   "source": [
    "kofi.hist(bins=50)"
   ]
  },
  {
   "cell_type": "code",
   "execution_count": 15,
   "metadata": {
    "collapsed": false
   },
   "outputs": [],
   "source": [
    "kofiv = kofi * df.loc[:, ver]\n",
    "kofiv = kofiv.loc[kofiv>0]\n",
    "\n",
    "kofis = kofi * ~(df.loc[:, ver].replace(np.nan, True))\n",
    "kofis = kofis.loc[kofis>0]"
   ]
  },
  {
   "cell_type": "code",
   "execution_count": 16,
   "metadata": {
    "collapsed": false
   },
   "outputs": [
    {
     "data": {
      "text/plain": [
       "<matplotlib.axes._subplots.AxesSubplot at 0x10f7ea1d0>"
      ]
     },
     "execution_count": 16,
     "metadata": {},
     "output_type": "execute_result"
    },
    {
     "data": {
      "image/png": "[encoded data removed]",
      "text/plain": [
       "<matplotlib.figure.Figure at 0x10f9ac0f0>"
      ]
     },
     "metadata": {},
     "output_type": "display_data"
    }
   ],
   "source": [
    "kofis.hist(bins=50)"
   ]
  },
  {
   "cell_type": "code",
   "execution_count": 17,
   "metadata": {
    "collapsed": false
   },
   "outputs": [
    {
     "data": {
      "text/plain": [
       "<matplotlib.axes._subplots.AxesSubplot at 0x10fcf0ba8>"
      ]
     },
     "execution_count": 17,
     "metadata": {},
     "output_type": "execute_result"
    },
    {
     "data": {
      "image/png": "[encoded data removed]",
      "text/plain": [
       "<matplotlib.figure.Figure at 0x110969e80>"
      ]
     },
     "metadata": {},
     "output_type": "display_data"
    }
   ],
   "source": [
    "kofiv.hist(bins=50)"
   ]
  },
  {
   "cell_type": "code",
   "execution_count": null,
   "metadata": {
    "collapsed": true
   },
   "outputs": [],
   "source": []
  },
  {
   "cell_type": "markdown",
   "metadata": {},
   "source": [
    "Jak velké bylo kofinancování veřejných a soukromých projektů, podle programu. Tabulka je trochu kryptická, princip je ale celkem snadný. Odpovídá na otázku *Jaká je průměrná míra kofinancování?* První řádek tak říká, že veřejné dopravní programy jsou financovány z třetiny (35.34 %) národními zadavateli, zbytek dělají finance z EU. Soukromé dopravní projekty jsou kofinancovány mnohem více, přes dvě třetiny prostředků jdou od oněch vykonavatelů, zbylých 30 % dostávají od EU."
   ]
  },
  {
   "cell_type": "code",
   "execution_count": 18,
   "metadata": {
    "collapsed": false
   },
   "outputs": [
    {
     "data": {
      "text/html": [
       "<div>\n",
       "<table border=\"1\" class=\"dataframe\">\n",
       "  <thead>\n",
       "    <tr style=\"text-align: right;\">\n",
       "      <th>Veřejná instituce</th>\n",
       "      <th>False</th>\n",
       "      <th>True</th>\n",
       "    </tr>\n",
       "    <tr>\n",
       "      <th>Program</th>\n",
       "      <th></th>\n",
       "      <th></th>\n",
       "    </tr>\n",
       "  </thead>\n",
       "  <tbody>\n",
       "    <tr>\n",
       "      <th>CZ.1.01 OP Doprava</th>\n",
       "      <td>68.77</td>\n",
       "      <td>35.34</td>\n",
       "    </tr>\n",
       "    <tr>\n",
       "      <th>CZ.1.02 OP Životní prostředí</th>\n",
       "      <td>52.00</td>\n",
       "      <td>40.88</td>\n",
       "    </tr>\n",
       "    <tr>\n",
       "      <th>CZ.1.03 OP Podnikání a inovace</th>\n",
       "      <td>59.65</td>\n",
       "      <td>32.42</td>\n",
       "    </tr>\n",
       "    <tr>\n",
       "      <th>CZ.1.04 OP Lidské zdroje a zaměstnanost</th>\n",
       "      <td>15.12</td>\n",
       "      <td>15.01</td>\n",
       "    </tr>\n",
       "    <tr>\n",
       "      <th>CZ.1.05 OP Výzkum a vývoj pro inovace</th>\n",
       "      <td>30.16</td>\n",
       "      <td>31.39</td>\n",
       "    </tr>\n",
       "    <tr>\n",
       "      <th>CZ.1.06 Integrovaný operační program</th>\n",
       "      <td>43.14</td>\n",
       "      <td>21.18</td>\n",
       "    </tr>\n",
       "    <tr>\n",
       "      <th>CZ.1.07 OP Vzdělávání pro konkurenceschopnost</th>\n",
       "      <td>15.00</td>\n",
       "      <td>15.00</td>\n",
       "    </tr>\n",
       "    <tr>\n",
       "      <th>CZ.1.08 OP Technická pomoc</th>\n",
       "      <td>15.00</td>\n",
       "      <td>15.25</td>\n",
       "    </tr>\n",
       "    <tr>\n",
       "      <th>CZ.1.09 ROP NUTS II Severozápad</th>\n",
       "      <td>60.05</td>\n",
       "      <td>29.13</td>\n",
       "    </tr>\n",
       "    <tr>\n",
       "      <th>CZ.1.10 ROP NUTS II Moravskoslezsko</th>\n",
       "      <td>57.51</td>\n",
       "      <td>28.87</td>\n",
       "    </tr>\n",
       "    <tr>\n",
       "      <th>CZ.1.11 ROP NUTS II Jihovýchod</th>\n",
       "      <td>53.94</td>\n",
       "      <td>30.10</td>\n",
       "    </tr>\n",
       "    <tr>\n",
       "      <th>CZ.1.12 ROP NUTS II Střední Morava</th>\n",
       "      <td>62.12</td>\n",
       "      <td>31.02</td>\n",
       "    </tr>\n",
       "    <tr>\n",
       "      <th>CZ.1.13 ROP NUTS II Severovýchod</th>\n",
       "      <td>56.95</td>\n",
       "      <td>30.37</td>\n",
       "    </tr>\n",
       "    <tr>\n",
       "      <th>CZ.1.14 ROP Jihozápad</th>\n",
       "      <td>54.57</td>\n",
       "      <td>30.09</td>\n",
       "    </tr>\n",
       "    <tr>\n",
       "      <th>CZ.1.15 ROP NUTS II Střední Čechy</th>\n",
       "      <td>61.75</td>\n",
       "      <td>27.48</td>\n",
       "    </tr>\n",
       "    <tr>\n",
       "      <th>CZ.1.25 OP Rybářství</th>\n",
       "      <td>59.16</td>\n",
       "      <td>36.42</td>\n",
       "    </tr>\n",
       "    <tr>\n",
       "      <th>CZ.2.16 OP Praha Konkurenceschopnost</th>\n",
       "      <td>46.04</td>\n",
       "      <td>32.94</td>\n",
       "    </tr>\n",
       "    <tr>\n",
       "      <th>CZ.2.17 OP Praha Adaptibilita</th>\n",
       "      <td>17.48</td>\n",
       "      <td>15.62</td>\n",
       "    </tr>\n",
       "    <tr>\n",
       "      <th>CZ.3.22 OP ČR - Polsko</th>\n",
       "      <td>18.01</td>\n",
       "      <td>16.50</td>\n",
       "    </tr>\n",
       "  </tbody>\n",
       "</table>\n",
       "</div>"
      ],
      "text/plain": [
       "Veřejná instituce                              False  True \n",
       "Program                                                    \n",
       "CZ.1.01 OP Doprava                             68.77  35.34\n",
       "CZ.1.02 OP Životní prostředí                   52.00  40.88\n",
       "CZ.1.03 OP Podnikání a inovace                 59.65  32.42\n",
       "CZ.1.04 OP Lidské zdroje a zaměstnanost        15.12  15.01\n",
       "CZ.1.05 OP Výzkum a vývoj pro inovace          30.16  31.39\n",
       "CZ.1.06 Integrovaný operační program           43.14  21.18\n",
       "CZ.1.07 OP Vzdělávání pro konkurenceschopnost  15.00  15.00\n",
       "CZ.1.08 OP Technická pomoc                     15.00  15.25\n",
       "CZ.1.09 ROP NUTS II Severozápad                60.05  29.13\n",
       "CZ.1.10 ROP NUTS II Moravskoslezsko            57.51  28.87\n",
       "CZ.1.11 ROP NUTS II Jihovýchod                 53.94  30.10\n",
       "CZ.1.12 ROP NUTS II Střední Morava             62.12  31.02\n",
       "CZ.1.13 ROP NUTS II Severovýchod               56.95  30.37\n",
       "CZ.1.14 ROP Jihozápad                          54.57  30.09\n",
       "CZ.1.15 ROP NUTS II Střední Čechy              61.75  27.48\n",
       "CZ.1.25 OP Rybářství                           59.16  36.42\n",
       "CZ.2.16 OP Praha Konkurenceschopnost           46.04  32.94\n",
       "CZ.2.17 OP Praha Adaptibilita                  17.48  15.62\n",
       "CZ.3.22 OP ČR - Polsko                         18.01  16.50"
      ]
     },
     "execution_count": 18,
     "metadata": {},
     "output_type": "execute_result"
    }
   ],
   "source": [
    "kofid = df.groupby([prog, ver]).sum().loc[:, [celk, sml]]\n",
    "kofid = (100*(1 - kofid.loc[:, sml] / kofid.loc[:, celk])).unstack().round(2)\n",
    "kofid"
   ]
  },
  {
   "cell_type": "code",
   "execution_count": 19,
   "metadata": {
    "collapsed": false
   },
   "outputs": [],
   "source": [
    "kofid.to_csv('vystupy/tabulky/kofinancovani-program.csv')\n",
    "kofid.to_excel('vystupy/tabulky/kofinancovani-program.xlsx')"
   ]
  },
  {
   "cell_type": "code",
   "execution_count": null,
   "metadata": {
    "collapsed": true
   },
   "outputs": [],
   "source": []
  },
  {
   "cell_type": "markdown",
   "metadata": {},
   "source": [
    "## Dle zaměstnanců\n",
    "Podíváme se na operační programy podle počtu zaměstnanců v recipientních firmách a institucích."
   ]
  },
  {
   "cell_type": "code",
   "execution_count": 20,
   "metadata": {
    "collapsed": false
   },
   "outputs": [],
   "source": [
    "zz = df.loc[:, zam]\n",
    "zo = sorted(zz.unique(), key = lambda x: int(x.split(' ')[0]))\n",
    "df.loc[:, zam] = pd.Categorical(zz, categories=zo, ordered=True)"
   ]
  },
  {
   "cell_type": "markdown",
   "metadata": {},
   "source": [
    "Následujících tabulek je tolik, že jsem je rovnou dal do Excelu. Je to vesměs počet, průměrná dotace a celkový objem dotací v matici (program x velikost firmy). **Počty jsou v milionech, ne v miliardách jako normálně!**"
   ]
  },
  {
   "cell_type": "code",
   "execution_count": 21,
   "metadata": {
    "collapsed": true
   },
   "outputs": [],
   "source": [
    "xw = pd.ExcelWriter('vystupy/tabulky/operacni-programy-zamestnanci.xlsx')"
   ]
  },
  {
   "cell_type": "code",
   "execution_count": 22,
   "metadata": {
    "collapsed": false
   },
   "outputs": [],
   "source": [
    "zmag = df.groupby([prog, zam, ver]).agg([sum, len, np.mean]).loc[:, sml].unstack([ver, zam])\n",
    "zmag.sortlevel(level=[0,1,2], axis=1, inplace=True)"
   ]
  },
  {
   "cell_type": "code",
   "execution_count": 23,
   "metadata": {
    "collapsed": true
   },
   "outputs": [],
   "source": [
    "cls = { 'len': 'Počet', 'sum': 'Objem', 'mean': 'Průměr' }"
   ]
  },
  {
   "cell_type": "code",
   "execution_count": 24,
   "metadata": {
    "collapsed": true
   },
   "outputs": [],
   "source": [
    "for mt, nz in cls.items():\n",
    "    dv = 1 if mt == 'len' else 10**6 # if mt == 'mean' else 10**9)\n",
    "    (zmag.loc[:, mt].groupby(level=1,axis=1).sum()/dv).apply(lambda x: x.round(2)).to_excel(xw, nz)\n",
    "    (zmag.loc[:, mt].loc[:, True]/dv).apply(lambda x: x.round(2)).to_excel(xw, '%s (veřejné)' % nz)\n",
    "    (zmag.loc[:, mt].loc[:, False]/dv).apply(lambda x: x.round(2)).to_excel(xw, '%s (soukromé)' % nz)"
   ]
  },
  {
   "cell_type": "code",
   "execution_count": 25,
   "metadata": {
    "collapsed": true
   },
   "outputs": [],
   "source": [
    "xw.save()"
   ]
  },
  {
   "cell_type": "markdown",
   "metadata": {},
   "source": [
    "Další užitečný výstup je podívat na kumulativní distribuční funkce. Tabulku čtěte zleva a každé číslo znamená, kolik procent zakázek dostaly firmy s x a méně zaměstnanci. Takže v tabulce níže - soukromým firmám do 100 zaměstnanců šlo v OP Doprava 37 % zakázek. A všechny šly firmám do 2000 zaměstnanců. Zato v Životním prostředí šla půlka firmám do padesáti zaměstnanců, vše firmám pod 10000."
   ]
  },
  {
   "cell_type": "code",
   "execution_count": 26,
   "metadata": {
    "collapsed": false
   },
   "outputs": [],
   "source": [
    "for vr in [True, False]:\n",
    "    sks = zmag.loc[:, ('sum', vr)]\n",
    "    cums = sks.replace(np.nan, 0).cumsum(axis=1)\n",
    "    cumd = (100*cums.div(sks.sum(axis=1), axis=0))\n",
    "    cumd.apply(lambda x: x.round(2)).to_csv('vystupy/tabulky/operacni-programy-kumulativne-%s.csv' % ('verejne' if vr else 'soukrome'))"
   ]
  },
  {
   "cell_type": "code",
   "execution_count": 27,
   "metadata": {
    "collapsed": false
   },
   "outputs": [
    {
     "data": {
      "text/html": [
       "<div>\n",
       "<table border=\"1\" class=\"dataframe\">\n",
       "  <thead>\n",
       "    <tr style=\"text-align: right;\">\n",
       "      <th>Zaměstnanců</th>\n",
       "      <th>-1</th>\n",
       "      <th>0</th>\n",
       "      <th>1 - 5</th>\n",
       "      <th>6 - 9</th>\n",
       "      <th>10 - 19</th>\n",
       "      <th>20 - 24</th>\n",
       "      <th>25 - 49</th>\n",
       "      <th>50 - 99</th>\n",
       "      <th>100 - 199</th>\n",
       "      <th>200 - 249</th>\n",
       "      <th>250 - 499</th>\n",
       "      <th>500 - 999</th>\n",
       "      <th>1000 - 1499</th>\n",
       "      <th>1500 - 1999</th>\n",
       "      <th>2000 - 2499</th>\n",
       "      <th>2500 - 2999</th>\n",
       "      <th>3000 - 3999</th>\n",
       "      <th>4000 - 4999</th>\n",
       "      <th>5000 - 9999</th>\n",
       "      <th>10000 a více</th>\n",
       "    </tr>\n",
       "    <tr>\n",
       "      <th>Program</th>\n",
       "      <th></th>\n",
       "      <th></th>\n",
       "      <th></th>\n",
       "      <th></th>\n",
       "      <th></th>\n",
       "      <th></th>\n",
       "      <th></th>\n",
       "      <th></th>\n",
       "      <th></th>\n",
       "      <th></th>\n",
       "      <th></th>\n",
       "      <th></th>\n",
       "      <th></th>\n",
       "      <th></th>\n",
       "      <th></th>\n",
       "      <th></th>\n",
       "      <th></th>\n",
       "      <th></th>\n",
       "      <th></th>\n",
       "      <th></th>\n",
       "    </tr>\n",
       "  </thead>\n",
       "  <tbody>\n",
       "    <tr>\n",
       "      <th>CZ.1.01 OP Doprava</th>\n",
       "      <td>1.34</td>\n",
       "      <td>1.34</td>\n",
       "      <td>1.34</td>\n",
       "      <td>4.27</td>\n",
       "      <td>4.27</td>\n",
       "      <td>4.27</td>\n",
       "      <td>4.27</td>\n",
       "      <td>36.87</td>\n",
       "      <td>39.25</td>\n",
       "      <td>39.25</td>\n",
       "      <td>44.16</td>\n",
       "      <td>88.01</td>\n",
       "      <td>88.01</td>\n",
       "      <td>100.00</td>\n",
       "      <td>100.00</td>\n",
       "      <td>100.00</td>\n",
       "      <td>100.00</td>\n",
       "      <td>100.00</td>\n",
       "      <td>100.0</td>\n",
       "      <td>100.0</td>\n",
       "    </tr>\n",
       "    <tr>\n",
       "      <th>CZ.1.02 OP Životní prostředí</th>\n",
       "      <td>23.86</td>\n",
       "      <td>24.04</td>\n",
       "      <td>30.93</td>\n",
       "      <td>35.28</td>\n",
       "      <td>42.26</td>\n",
       "      <td>43.86</td>\n",
       "      <td>50.35</td>\n",
       "      <td>59.87</td>\n",
       "      <td>64.24</td>\n",
       "      <td>65.00</td>\n",
       "      <td>73.97</td>\n",
       "      <td>77.00</td>\n",
       "      <td>79.00</td>\n",
       "      <td>83.84</td>\n",
       "      <td>83.99</td>\n",
       "      <td>83.99</td>\n",
       "      <td>84.13</td>\n",
       "      <td>84.13</td>\n",
       "      <td>100.0</td>\n",
       "      <td>100.0</td>\n",
       "    </tr>\n",
       "  </tbody>\n",
       "</table>\n",
       "</div>"
      ],
      "text/plain": [
       "Zaměstnanců                      -1      0  1 - 5  6 - 9  10 - 19  20 - 24  \\\n",
       "Program                                                                      \n",
       "CZ.1.01 OP Doprava             1.34   1.34   1.34   4.27     4.27     4.27   \n",
       "CZ.1.02 OP Životní prostředí  23.86  24.04  30.93  35.28    42.26    43.86   \n",
       "\n",
       "Zaměstnanců                   25 - 49  50 - 99  100 - 199  200 - 249  \\\n",
       "Program                                                                \n",
       "CZ.1.01 OP Doprava               4.27    36.87      39.25      39.25   \n",
       "CZ.1.02 OP Životní prostředí    50.35    59.87      64.24      65.00   \n",
       "\n",
       "Zaměstnanců                   250 - 499  500 - 999  1000 - 1499  1500 - 1999  \\\n",
       "Program                                                                        \n",
       "CZ.1.01 OP Doprava                44.16      88.01        88.01       100.00   \n",
       "CZ.1.02 OP Životní prostředí      73.97      77.00        79.00        83.84   \n",
       "\n",
       "Zaměstnanců                   2000 - 2499  2500 - 2999  3000 - 3999  \\\n",
       "Program                                                               \n",
       "CZ.1.01 OP Doprava                 100.00       100.00       100.00   \n",
       "CZ.1.02 OP Životní prostředí        83.99        83.99        84.13   \n",
       "\n",
       "Zaměstnanců                   4000 - 4999  5000 - 9999  10000 a více  \n",
       "Program                                                               \n",
       "CZ.1.01 OP Doprava                 100.00        100.0         100.0  \n",
       "CZ.1.02 OP Životní prostředí        84.13        100.0         100.0  "
      ]
     },
     "execution_count": 27,
     "metadata": {},
     "output_type": "execute_result"
    }
   ],
   "source": [
    "cumd.head(2).apply(lambda x: x.round(2))"
   ]
  },
  {
   "cell_type": "code",
   "execution_count": null,
   "metadata": {
    "collapsed": true
   },
   "outputs": [],
   "source": []
  }
 ],
 "metadata": {
  "kernelspec": {
   "display_name": "Python 3",
   "language": "python",
   "name": "python3"
  },
  "language_info": {
   "codemirror_mode": {
    "name": "ipython",
    "version": 3
   },
   "file_extension": ".py",
   "mimetype": "text/x-python",
   "name": "python",
   "nbconvert_exporter": "python",
   "pygments_lexer": "ipython3",
   "version": "3.5.2"
  },
  "widgets": {
   "state": {},
   "version": "1.1.2"
  }
 },
 "nbformat": 4,
 "nbformat_minor": 0
}
