{
 "cells": [
  {
   "cell_type": "markdown",
   "metadata": {},
   "source": [
    "# *Nedokončeno*"
   ]
  },
  {
   "cell_type": "markdown",
   "metadata": {},
   "source": [
    "# 3. Operační programy, strategické osy, kofinancování\n",
    "Nyní se podíváme trochu na rozdělení fondů samotných"
   ]
  },
  {
   "cell_type": "code",
   "execution_count": 37,
   "metadata": {
    "collapsed": true
   },
   "outputs": [],
   "source": [
    "import pandas as pd\n",
    "import numpy as np\n",
    "%matplotlib inline"
   ]
  },
  {
   "cell_type": "markdown",
   "metadata": {},
   "source": [
    "## Načítání dat\n",
    "Data od MMR máme zkombinována s daty of MFČR v souboru `vystupy/projekty-bez-popisu.csv` (můžeme použít i `projekty.csv`, ale ty jsou zbytečně velké pro naše potřeby)."
   ]
  },
  {
   "cell_type": "code",
   "execution_count": 38,
   "metadata": {
    "collapsed": false
   },
   "outputs": [],
   "source": [
    "df = pd.read_csv('vystupy/projekty-bez-popisu.csv', low_memory=False)"
   ]
  },
  {
   "cell_type": "code",
   "execution_count": 39,
   "metadata": {
    "collapsed": false
   },
   "outputs": [
    {
     "data": {
      "text/plain": [
       "(73446, 18)"
      ]
     },
     "execution_count": 39,
     "metadata": {},
     "output_type": "execute_result"
    }
   ],
   "source": [
    "df.shape"
   ]
  },
  {
   "cell_type": "code",
   "execution_count": 40,
   "metadata": {
    "collapsed": false
   },
   "outputs": [],
   "source": [
    "# nazvy sloupcu, at se to lip filtruje\n",
    "prog = 'Program'\n",
    "ico = 'IČO'\n",
    "dat = 'Datum'\n",
    "naz = 'Název'\n",
    "celk = 'Celkové zdroje'\n",
    "sml = 'Smlouva'\n",
    "prop = 'Proplaceno'\n",
    "zad = 'Žadatel'\n",
    "prfo = 'Právní forma'\n",
    "prfok = 'Právní forma (kód)'\n",
    "nuts = 'NUTS4'\n",
    "esa = 'ESA'\n",
    "esak = 'ESA (kód)'\n",
    "zam = 'Zaměstnanců'\n",
    "kat = 'Kategorie'\n",
    "ver = 'Veřejná instituce'"
   ]
  },
  {
   "cell_type": "code",
   "execution_count": 41,
   "metadata": {
    "collapsed": false
   },
   "outputs": [],
   "source": [
    "df.loc[:, ico] = [str(j).rjust(8, '0') for j in df.loc[:, ico]]"
   ]
  },
  {
   "cell_type": "markdown",
   "metadata": {},
   "source": [
    "## Operační programy"
   ]
  },
  {
   "cell_type": "code",
   "execution_count": 47,
   "metadata": {
    "collapsed": false
   },
   "outputs": [
    {
     "data": {
      "text/html": [
       "<div>\n",
       "<table border=\"1\" class=\"dataframe\">\n",
       "  <thead>\n",
       "    <tr style=\"text-align: right;\">\n",
       "      <th></th>\n",
       "      <th>Celkové zdroje</th>\n",
       "      <th>Smlouva</th>\n",
       "      <th>Proplaceno</th>\n",
       "    </tr>\n",
       "    <tr>\n",
       "      <th>Program</th>\n",
       "      <th></th>\n",
       "      <th></th>\n",
       "      <th></th>\n",
       "    </tr>\n",
       "  </thead>\n",
       "  <tbody>\n",
       "    <tr>\n",
       "      <th>CZ.1.01 OP Doprava</th>\n",
       "      <td>266.75</td>\n",
       "      <td>171.35</td>\n",
       "      <td>144.81</td>\n",
       "    </tr>\n",
       "    <tr>\n",
       "      <th>CZ.1.02 OP Životní prostředí</th>\n",
       "      <td>224.43</td>\n",
       "      <td>127.29</td>\n",
       "      <td>122.88</td>\n",
       "    </tr>\n",
       "    <tr>\n",
       "      <th>CZ.1.03 OP Podnikání a inovace</th>\n",
       "      <td>225.08</td>\n",
       "      <td>95.63</td>\n",
       "      <td>88.92</td>\n",
       "    </tr>\n",
       "    <tr>\n",
       "      <th>CZ.1.04 OP Lidské zdroje a zaměstnanost</th>\n",
       "      <td>69.43</td>\n",
       "      <td>58.99</td>\n",
       "      <td>48.00</td>\n",
       "    </tr>\n",
       "    <tr>\n",
       "      <th>CZ.1.05 OP Výzkum a vývoj pro inovace</th>\n",
       "      <td>71.43</td>\n",
       "      <td>49.09</td>\n",
       "      <td>46.54</td>\n",
       "    </tr>\n",
       "    <tr>\n",
       "      <th>CZ.1.07 OP Vzdělávání pro konkurenceschopnost</th>\n",
       "      <td>56.22</td>\n",
       "      <td>47.78</td>\n",
       "      <td>43.83</td>\n",
       "    </tr>\n",
       "    <tr>\n",
       "      <th>CZ.1.06 Integrovaný operační program</th>\n",
       "      <td>58.74</td>\n",
       "      <td>44.26</td>\n",
       "      <td>38.06</td>\n",
       "    </tr>\n",
       "    <tr>\n",
       "      <th>CZ.1.10 ROP NUTS II Moravskoslezsko</th>\n",
       "      <td>33.86</td>\n",
       "      <td>22.46</td>\n",
       "      <td>17.67</td>\n",
       "    </tr>\n",
       "    <tr>\n",
       "      <th>CZ.1.11 ROP NUTS II Jihovýchod</th>\n",
       "      <td>33.55</td>\n",
       "      <td>22.31</td>\n",
       "      <td>17.88</td>\n",
       "    </tr>\n",
       "    <tr>\n",
       "      <th>CZ.1.09 ROP NUTS II Severozápad</th>\n",
       "      <td>28.39</td>\n",
       "      <td>18.79</td>\n",
       "      <td>17.03</td>\n",
       "    </tr>\n",
       "    <tr>\n",
       "      <th>CZ.1.12 ROP NUTS II Střední Morava</th>\n",
       "      <td>30.43</td>\n",
       "      <td>18.75</td>\n",
       "      <td>17.13</td>\n",
       "    </tr>\n",
       "    <tr>\n",
       "      <th>CZ.1.14 ROP Jihozápad</th>\n",
       "      <td>28.30</td>\n",
       "      <td>18.74</td>\n",
       "      <td>16.74</td>\n",
       "    </tr>\n",
       "    <tr>\n",
       "      <th>CZ.1.13 ROP NUTS II Severovýchod</th>\n",
       "      <td>28.88</td>\n",
       "      <td>18.44</td>\n",
       "      <td>17.20</td>\n",
       "    </tr>\n",
       "    <tr>\n",
       "      <th>CZ.1.15 ROP NUTS II Střední Čechy</th>\n",
       "      <td>25.92</td>\n",
       "      <td>17.70</td>\n",
       "      <td>14.80</td>\n",
       "    </tr>\n",
       "    <tr>\n",
       "      <th>CZ.2.16 OP Praha Konkurenceschopnost</th>\n",
       "      <td>11.33</td>\n",
       "      <td>7.36</td>\n",
       "      <td>6.09</td>\n",
       "    </tr>\n",
       "    <tr>\n",
       "      <th>CZ.1.08 OP Technická pomoc</th>\n",
       "      <td>5.13</td>\n",
       "      <td>4.35</td>\n",
       "      <td>3.47</td>\n",
       "    </tr>\n",
       "    <tr>\n",
       "      <th>CZ.2.17 OP Praha Adaptibilita</th>\n",
       "      <td>3.64</td>\n",
       "      <td>3.03</td>\n",
       "      <td>2.66</td>\n",
       "    </tr>\n",
       "    <tr>\n",
       "      <th>CZ.1.25 OP Rybářství</th>\n",
       "      <td>1.56</td>\n",
       "      <td>0.69</td>\n",
       "      <td>0.68</td>\n",
       "    </tr>\n",
       "    <tr>\n",
       "      <th>CZ.3.22 OP ČR - Polsko</th>\n",
       "      <td>0.18</td>\n",
       "      <td>0.15</td>\n",
       "      <td>0.13</td>\n",
       "    </tr>\n",
       "  </tbody>\n",
       "</table>\n",
       "</div>"
      ],
      "text/plain": [
       "                                               Celkové zdroje  Smlouva  \\\n",
       "Program                                                                  \n",
       "CZ.1.01 OP Doprava                                     266.75   171.35   \n",
       "CZ.1.02 OP Životní prostředí                           224.43   127.29   \n",
       "CZ.1.03 OP Podnikání a inovace                         225.08    95.63   \n",
       "CZ.1.04 OP Lidské zdroje a zaměstnanost                 69.43    58.99   \n",
       "CZ.1.05 OP Výzkum a vývoj pro inovace                   71.43    49.09   \n",
       "CZ.1.07 OP Vzdělávání pro konkurenceschopnost           56.22    47.78   \n",
       "CZ.1.06 Integrovaný operační program                    58.74    44.26   \n",
       "CZ.1.10 ROP NUTS II Moravskoslezsko                     33.86    22.46   \n",
       "CZ.1.11 ROP NUTS II Jihovýchod                          33.55    22.31   \n",
       "CZ.1.09 ROP NUTS II Severozápad                         28.39    18.79   \n",
       "CZ.1.12 ROP NUTS II Střední Morava                      30.43    18.75   \n",
       "CZ.1.14 ROP Jihozápad                                   28.30    18.74   \n",
       "CZ.1.13 ROP NUTS II Severovýchod                        28.88    18.44   \n",
       "CZ.1.15 ROP NUTS II Střední Čechy                       25.92    17.70   \n",
       "CZ.2.16 OP Praha Konkurenceschopnost                    11.33     7.36   \n",
       "CZ.1.08 OP Technická pomoc                               5.13     4.35   \n",
       "CZ.2.17 OP Praha Adaptibilita                            3.64     3.03   \n",
       "CZ.1.25 OP Rybářství                                     1.56     0.69   \n",
       "CZ.3.22 OP ČR - Polsko                                   0.18     0.15   \n",
       "\n",
       "                                               Proplaceno  \n",
       "Program                                                    \n",
       "CZ.1.01 OP Doprava                                 144.81  \n",
       "CZ.1.02 OP Životní prostředí                       122.88  \n",
       "CZ.1.03 OP Podnikání a inovace                      88.92  \n",
       "CZ.1.04 OP Lidské zdroje a zaměstnanost             48.00  \n",
       "CZ.1.05 OP Výzkum a vývoj pro inovace               46.54  \n",
       "CZ.1.07 OP Vzdělávání pro konkurenceschopnost       43.83  \n",
       "CZ.1.06 Integrovaný operační program                38.06  \n",
       "CZ.1.10 ROP NUTS II Moravskoslezsko                 17.67  \n",
       "CZ.1.11 ROP NUTS II Jihovýchod                      17.88  \n",
       "CZ.1.09 ROP NUTS II Severozápad                     17.03  \n",
       "CZ.1.12 ROP NUTS II Střední Morava                  17.13  \n",
       "CZ.1.14 ROP Jihozápad                               16.74  \n",
       "CZ.1.13 ROP NUTS II Severovýchod                    17.20  \n",
       "CZ.1.15 ROP NUTS II Střední Čechy                   14.80  \n",
       "CZ.2.16 OP Praha Konkurenceschopnost                 6.09  \n",
       "CZ.1.08 OP Technická pomoc                           3.47  \n",
       "CZ.2.17 OP Praha Adaptibilita                        2.66  \n",
       "CZ.1.25 OP Rybářství                                 0.68  \n",
       "CZ.3.22 OP ČR - Polsko                               0.13  "
      ]
     },
     "execution_count": 47,
     "metadata": {},
     "output_type": "execute_result"
    }
   ],
   "source": [
    "opp = df.groupby(prog).sum().loc[:, [celk, sml, prop]]\n",
    "opp = (opp/10**9).round(2).sort_values(by=sml, ascending=False)\n",
    "opp"
   ]
  },
  {
   "cell_type": "code",
   "execution_count": 52,
   "metadata": {
    "collapsed": false
   },
   "outputs": [],
   "source": [
    "opp.to_csv('vystupy/tabulky/operacni-programy.csv')"
   ]
  },
  {
   "cell_type": "markdown",
   "metadata": {},
   "source": [
    "### Podle vlastnictví\n",
    "Operační programy podle toho, zda jde o peníze pro veřejné podniky nebo ne."
   ]
  },
  {
   "cell_type": "markdown",
   "metadata": {},
   "source": [
    "*(Není úplně jasné, jak následující tabulku ukázat, je tam celkem dost informací.)*"
   ]
  },
  {
   "cell_type": "code",
   "execution_count": 80,
   "metadata": {
    "collapsed": false
   },
   "outputs": [
    {
     "data": {
      "text/html": [
       "<div>\n",
       "<table border=\"1\" class=\"dataframe\">\n",
       "  <thead>\n",
       "    <tr>\n",
       "      <th>Veřejná instituce</th>\n",
       "      <th colspan=\"3\" halign=\"left\">False</th>\n",
       "      <th colspan=\"3\" halign=\"left\">True</th>\n",
       "    </tr>\n",
       "    <tr>\n",
       "      <th></th>\n",
       "      <th>Celkové zdroje</th>\n",
       "      <th>Proplaceno</th>\n",
       "      <th>Smlouva</th>\n",
       "      <th>Celkové zdroje</th>\n",
       "      <th>Proplaceno</th>\n",
       "      <th>Smlouva</th>\n",
       "    </tr>\n",
       "    <tr>\n",
       "      <th>Program</th>\n",
       "      <th></th>\n",
       "      <th></th>\n",
       "      <th></th>\n",
       "      <th></th>\n",
       "      <th></th>\n",
       "      <th></th>\n",
       "    </tr>\n",
       "  </thead>\n",
       "  <tbody>\n",
       "    <tr>\n",
       "      <th>CZ.1.01 OP Doprava</th>\n",
       "      <td>0.55</td>\n",
       "      <td>0.17</td>\n",
       "      <td>0.17</td>\n",
       "      <td>266.20</td>\n",
       "      <td>144.64</td>\n",
       "      <td>171.18</td>\n",
       "    </tr>\n",
       "    <tr>\n",
       "      <th>CZ.1.02 OP Životní prostředí</th>\n",
       "      <td>48.11</td>\n",
       "      <td>22.47</td>\n",
       "      <td>23.07</td>\n",
       "      <td>176.33</td>\n",
       "      <td>100.41</td>\n",
       "      <td>104.22</td>\n",
       "    </tr>\n",
       "    <tr>\n",
       "      <th>CZ.1.03 OP Podnikání a inovace</th>\n",
       "      <td>207.15</td>\n",
       "      <td>78.16</td>\n",
       "      <td>83.51</td>\n",
       "      <td>17.91</td>\n",
       "      <td>10.75</td>\n",
       "      <td>12.10</td>\n",
       "    </tr>\n",
       "    <tr>\n",
       "      <th>CZ.1.04 OP Lidské zdroje a zaměstnanost</th>\n",
       "      <td>17.54</td>\n",
       "      <td>13.22</td>\n",
       "      <td>14.89</td>\n",
       "      <td>51.81</td>\n",
       "      <td>34.73</td>\n",
       "      <td>44.04</td>\n",
       "    </tr>\n",
       "    <tr>\n",
       "      <th>CZ.1.05 OP Výzkum a vývoj pro inovace</th>\n",
       "      <td>5.95</td>\n",
       "      <td>3.94</td>\n",
       "      <td>4.15</td>\n",
       "      <td>65.48</td>\n",
       "      <td>42.60</td>\n",
       "      <td>44.94</td>\n",
       "    </tr>\n",
       "    <tr>\n",
       "      <th>CZ.1.06 Integrovaný operační program</th>\n",
       "      <td>9.22</td>\n",
       "      <td>4.70</td>\n",
       "      <td>5.25</td>\n",
       "      <td>49.52</td>\n",
       "      <td>33.35</td>\n",
       "      <td>39.01</td>\n",
       "    </tr>\n",
       "    <tr>\n",
       "      <th>CZ.1.07 OP Vzdělávání pro konkurenceschopnost</th>\n",
       "      <td>10.32</td>\n",
       "      <td>8.12</td>\n",
       "      <td>8.78</td>\n",
       "      <td>45.88</td>\n",
       "      <td>35.69</td>\n",
       "      <td>38.99</td>\n",
       "    </tr>\n",
       "    <tr>\n",
       "      <th>CZ.1.08 OP Technická pomoc</th>\n",
       "      <td>0.12</td>\n",
       "      <td>0.09</td>\n",
       "      <td>0.10</td>\n",
       "      <td>5.01</td>\n",
       "      <td>3.38</td>\n",
       "      <td>4.25</td>\n",
       "    </tr>\n",
       "    <tr>\n",
       "      <th>CZ.1.09 ROP NUTS II Severozápad</th>\n",
       "      <td>4.35</td>\n",
       "      <td>1.64</td>\n",
       "      <td>1.74</td>\n",
       "      <td>24.04</td>\n",
       "      <td>15.38</td>\n",
       "      <td>17.05</td>\n",
       "    </tr>\n",
       "    <tr>\n",
       "      <th>CZ.1.10 ROP NUTS II Moravskoslezsko</th>\n",
       "      <td>5.11</td>\n",
       "      <td>1.82</td>\n",
       "      <td>2.17</td>\n",
       "      <td>28.75</td>\n",
       "      <td>15.85</td>\n",
       "      <td>20.29</td>\n",
       "    </tr>\n",
       "    <tr>\n",
       "      <th>CZ.1.11 ROP NUTS II Jihovýchod</th>\n",
       "      <td>4.77</td>\n",
       "      <td>1.94</td>\n",
       "      <td>2.20</td>\n",
       "      <td>28.78</td>\n",
       "      <td>15.94</td>\n",
       "      <td>20.12</td>\n",
       "    </tr>\n",
       "    <tr>\n",
       "      <th>CZ.1.12 ROP NUTS II Střední Morava</th>\n",
       "      <td>7.19</td>\n",
       "      <td>2.52</td>\n",
       "      <td>2.72</td>\n",
       "      <td>23.24</td>\n",
       "      <td>14.62</td>\n",
       "      <td>16.03</td>\n",
       "    </tr>\n",
       "    <tr>\n",
       "      <th>CZ.1.13 ROP NUTS II Severovýchod</th>\n",
       "      <td>6.28</td>\n",
       "      <td>2.56</td>\n",
       "      <td>2.70</td>\n",
       "      <td>22.60</td>\n",
       "      <td>14.64</td>\n",
       "      <td>15.74</td>\n",
       "    </tr>\n",
       "    <tr>\n",
       "      <th>CZ.1.14 ROP Jihozápad</th>\n",
       "      <td>4.25</td>\n",
       "      <td>1.82</td>\n",
       "      <td>1.93</td>\n",
       "      <td>24.05</td>\n",
       "      <td>14.91</td>\n",
       "      <td>16.81</td>\n",
       "    </tr>\n",
       "    <tr>\n",
       "      <th>CZ.1.15 ROP NUTS II Střední Čechy</th>\n",
       "      <td>3.22</td>\n",
       "      <td>1.19</td>\n",
       "      <td>1.23</td>\n",
       "      <td>22.70</td>\n",
       "      <td>13.61</td>\n",
       "      <td>16.46</td>\n",
       "    </tr>\n",
       "    <tr>\n",
       "      <th>CZ.1.25 OP Rybářství</th>\n",
       "      <td>1.31</td>\n",
       "      <td>0.52</td>\n",
       "      <td>0.54</td>\n",
       "      <td>0.25</td>\n",
       "      <td>0.16</td>\n",
       "      <td>0.16</td>\n",
       "    </tr>\n",
       "    <tr>\n",
       "      <th>CZ.2.16 OP Praha Konkurenceschopnost</th>\n",
       "      <td>1.71</td>\n",
       "      <td>0.85</td>\n",
       "      <td>0.93</td>\n",
       "      <td>9.61</td>\n",
       "      <td>5.24</td>\n",
       "      <td>6.44</td>\n",
       "    </tr>\n",
       "    <tr>\n",
       "      <th>CZ.2.17 OP Praha Adaptibilita</th>\n",
       "      <td>2.15</td>\n",
       "      <td>1.58</td>\n",
       "      <td>1.78</td>\n",
       "      <td>1.47</td>\n",
       "      <td>1.07</td>\n",
       "      <td>1.24</td>\n",
       "    </tr>\n",
       "    <tr>\n",
       "      <th>CZ.3.22 OP ČR - Polsko</th>\n",
       "      <td>0.03</td>\n",
       "      <td>0.03</td>\n",
       "      <td>0.02</td>\n",
       "      <td>0.15</td>\n",
       "      <td>0.10</td>\n",
       "      <td>0.12</td>\n",
       "    </tr>\n",
       "  </tbody>\n",
       "</table>\n",
       "</div>"
      ],
      "text/plain": [
       "Veřejná instituce                                      False             \\\n",
       "                                              Celkové zdroje Proplaceno   \n",
       "Program                                                                   \n",
       "CZ.1.01 OP Doprava                                      0.55       0.17   \n",
       "CZ.1.02 OP Životní prostředí                           48.11      22.47   \n",
       "CZ.1.03 OP Podnikání a inovace                        207.15      78.16   \n",
       "CZ.1.04 OP Lidské zdroje a zaměstnanost                17.54      13.22   \n",
       "CZ.1.05 OP Výzkum a vývoj pro inovace                   5.95       3.94   \n",
       "CZ.1.06 Integrovaný operační program                    9.22       4.70   \n",
       "CZ.1.07 OP Vzdělávání pro konkurenceschopnost          10.32       8.12   \n",
       "CZ.1.08 OP Technická pomoc                              0.12       0.09   \n",
       "CZ.1.09 ROP NUTS II Severozápad                         4.35       1.64   \n",
       "CZ.1.10 ROP NUTS II Moravskoslezsko                     5.11       1.82   \n",
       "CZ.1.11 ROP NUTS II Jihovýchod                          4.77       1.94   \n",
       "CZ.1.12 ROP NUTS II Střední Morava                      7.19       2.52   \n",
       "CZ.1.13 ROP NUTS II Severovýchod                        6.28       2.56   \n",
       "CZ.1.14 ROP Jihozápad                                   4.25       1.82   \n",
       "CZ.1.15 ROP NUTS II Střední Čechy                       3.22       1.19   \n",
       "CZ.1.25 OP Rybářství                                    1.31       0.52   \n",
       "CZ.2.16 OP Praha Konkurenceschopnost                    1.71       0.85   \n",
       "CZ.2.17 OP Praha Adaptibilita                           2.15       1.58   \n",
       "CZ.3.22 OP ČR - Polsko                                  0.03       0.03   \n",
       "\n",
       "Veřejná instituce                                              True   \\\n",
       "                                              Smlouva Celkové zdroje   \n",
       "Program                                                                \n",
       "CZ.1.01 OP Doprava                               0.17         266.20   \n",
       "CZ.1.02 OP Životní prostředí                    23.07         176.33   \n",
       "CZ.1.03 OP Podnikání a inovace                  83.51          17.91   \n",
       "CZ.1.04 OP Lidské zdroje a zaměstnanost         14.89          51.81   \n",
       "CZ.1.05 OP Výzkum a vývoj pro inovace            4.15          65.48   \n",
       "CZ.1.06 Integrovaný operační program             5.25          49.52   \n",
       "CZ.1.07 OP Vzdělávání pro konkurenceschopnost    8.78          45.88   \n",
       "CZ.1.08 OP Technická pomoc                       0.10           5.01   \n",
       "CZ.1.09 ROP NUTS II Severozápad                  1.74          24.04   \n",
       "CZ.1.10 ROP NUTS II Moravskoslezsko              2.17          28.75   \n",
       "CZ.1.11 ROP NUTS II Jihovýchod                   2.20          28.78   \n",
       "CZ.1.12 ROP NUTS II Střední Morava               2.72          23.24   \n",
       "CZ.1.13 ROP NUTS II Severovýchod                 2.70          22.60   \n",
       "CZ.1.14 ROP Jihozápad                            1.93          24.05   \n",
       "CZ.1.15 ROP NUTS II Střední Čechy                1.23          22.70   \n",
       "CZ.1.25 OP Rybářství                             0.54           0.25   \n",
       "CZ.2.16 OP Praha Konkurenceschopnost             0.93           9.61   \n",
       "CZ.2.17 OP Praha Adaptibilita                    1.78           1.47   \n",
       "CZ.3.22 OP ČR - Polsko                           0.02           0.15   \n",
       "\n",
       "Veřejná instituce                                                 \n",
       "                                              Proplaceno Smlouva  \n",
       "Program                                                           \n",
       "CZ.1.01 OP Doprava                                144.64  171.18  \n",
       "CZ.1.02 OP Životní prostředí                      100.41  104.22  \n",
       "CZ.1.03 OP Podnikání a inovace                     10.75   12.10  \n",
       "CZ.1.04 OP Lidské zdroje a zaměstnanost            34.73   44.04  \n",
       "CZ.1.05 OP Výzkum a vývoj pro inovace              42.60   44.94  \n",
       "CZ.1.06 Integrovaný operační program               33.35   39.01  \n",
       "CZ.1.07 OP Vzdělávání pro konkurenceschopnost      35.69   38.99  \n",
       "CZ.1.08 OP Technická pomoc                          3.38    4.25  \n",
       "CZ.1.09 ROP NUTS II Severozápad                    15.38   17.05  \n",
       "CZ.1.10 ROP NUTS II Moravskoslezsko                15.85   20.29  \n",
       "CZ.1.11 ROP NUTS II Jihovýchod                     15.94   20.12  \n",
       "CZ.1.12 ROP NUTS II Střední Morava                 14.62   16.03  \n",
       "CZ.1.13 ROP NUTS II Severovýchod                   14.64   15.74  \n",
       "CZ.1.14 ROP Jihozápad                              14.91   16.81  \n",
       "CZ.1.15 ROP NUTS II Střední Čechy                  13.61   16.46  \n",
       "CZ.1.25 OP Rybářství                                0.16    0.16  \n",
       "CZ.2.16 OP Praha Konkurenceschopnost                5.24    6.44  \n",
       "CZ.2.17 OP Praha Adaptibilita                       1.07    1.24  \n",
       "CZ.3.22 OP ČR - Polsko                              0.10    0.12  "
      ]
     },
     "execution_count": 80,
     "metadata": {},
     "output_type": "execute_result"
    }
   ],
   "source": [
    "oppvs = df.groupby([prog, ver]).sum().loc[:, [celk, sml, prop]]/10**9\n",
    "oppvs = oppvs.unstack().round(2).swaplevel(0,1,axis=1).sort_index(axis=1)\n",
    "oppvs"
   ]
  },
  {
   "cell_type": "code",
   "execution_count": 81,
   "metadata": {
    "collapsed": true
   },
   "outputs": [],
   "source": [
    "oppvs.to_csv('vystupy/tabulky/operacni-programy-verejne-soukrome.csv')"
   ]
  },
  {
   "cell_type": "markdown",
   "metadata": {},
   "source": [
    "### Poměr veřejných podle programu"
   ]
  },
  {
   "cell_type": "code",
   "execution_count": 98,
   "metadata": {
    "collapsed": false
   },
   "outputs": [
    {
     "data": {
      "text/html": [
       "<div>\n",
       "<table border=\"1\" class=\"dataframe\">\n",
       "  <thead>\n",
       "    <tr style=\"text-align: right;\">\n",
       "      <th>Veřejná instituce</th>\n",
       "      <th>False</th>\n",
       "      <th>True</th>\n",
       "    </tr>\n",
       "    <tr>\n",
       "      <th>Program</th>\n",
       "      <th></th>\n",
       "      <th></th>\n",
       "    </tr>\n",
       "  </thead>\n",
       "  <tbody>\n",
       "    <tr>\n",
       "      <th>CZ.1.01 OP Doprava</th>\n",
       "      <td>0.10</td>\n",
       "      <td>99.90</td>\n",
       "    </tr>\n",
       "    <tr>\n",
       "      <th>CZ.1.08 OP Technická pomoc</th>\n",
       "      <td>2.29</td>\n",
       "      <td>97.71</td>\n",
       "    </tr>\n",
       "    <tr>\n",
       "      <th>CZ.1.15 ROP NUTS II Střední Čechy</th>\n",
       "      <td>6.96</td>\n",
       "      <td>93.04</td>\n",
       "    </tr>\n",
       "    <tr>\n",
       "      <th>CZ.1.05 OP Výzkum a vývoj pro inovace</th>\n",
       "      <td>8.46</td>\n",
       "      <td>91.54</td>\n",
       "    </tr>\n",
       "    <tr>\n",
       "      <th>CZ.1.09 ROP NUTS II Severozápad</th>\n",
       "      <td>9.24</td>\n",
       "      <td>90.76</td>\n",
       "    </tr>\n",
       "    <tr>\n",
       "      <th>CZ.1.10 ROP NUTS II Moravskoslezsko</th>\n",
       "      <td>9.66</td>\n",
       "      <td>90.34</td>\n",
       "    </tr>\n",
       "    <tr>\n",
       "      <th>CZ.1.11 ROP NUTS II Jihovýchod</th>\n",
       "      <td>9.85</td>\n",
       "      <td>90.15</td>\n",
       "    </tr>\n",
       "    <tr>\n",
       "      <th>CZ.1.14 ROP Jihozápad</th>\n",
       "      <td>10.31</td>\n",
       "      <td>89.69</td>\n",
       "    </tr>\n",
       "    <tr>\n",
       "      <th>CZ.1.06 Integrovaný operační program</th>\n",
       "      <td>11.85</td>\n",
       "      <td>88.15</td>\n",
       "    </tr>\n",
       "    <tr>\n",
       "      <th>CZ.2.16 OP Praha Konkurenceschopnost</th>\n",
       "      <td>12.57</td>\n",
       "      <td>87.43</td>\n",
       "    </tr>\n",
       "    <tr>\n",
       "      <th>CZ.1.12 ROP NUTS II Střední Morava</th>\n",
       "      <td>14.50</td>\n",
       "      <td>85.50</td>\n",
       "    </tr>\n",
       "    <tr>\n",
       "      <th>CZ.1.13 ROP NUTS II Severovýchod</th>\n",
       "      <td>14.65</td>\n",
       "      <td>85.35</td>\n",
       "    </tr>\n",
       "    <tr>\n",
       "      <th>CZ.3.22 OP ČR - Polsko</th>\n",
       "      <td>16.64</td>\n",
       "      <td>83.36</td>\n",
       "    </tr>\n",
       "    <tr>\n",
       "      <th>CZ.1.02 OP Životní prostředí</th>\n",
       "      <td>18.13</td>\n",
       "      <td>81.87</td>\n",
       "    </tr>\n",
       "    <tr>\n",
       "      <th>CZ.1.07 OP Vzdělávání pro konkurenceschopnost</th>\n",
       "      <td>18.37</td>\n",
       "      <td>81.63</td>\n",
       "    </tr>\n",
       "    <tr>\n",
       "      <th>CZ.1.04 OP Lidské zdroje a zaměstnanost</th>\n",
       "      <td>25.27</td>\n",
       "      <td>74.73</td>\n",
       "    </tr>\n",
       "    <tr>\n",
       "      <th>CZ.2.17 OP Praha Adaptibilita</th>\n",
       "      <td>58.89</td>\n",
       "      <td>41.11</td>\n",
       "    </tr>\n",
       "    <tr>\n",
       "      <th>CZ.1.25 OP Rybářství</th>\n",
       "      <td>77.43</td>\n",
       "      <td>22.57</td>\n",
       "    </tr>\n",
       "    <tr>\n",
       "      <th>CZ.1.03 OP Podnikání a inovace</th>\n",
       "      <td>87.34</td>\n",
       "      <td>12.66</td>\n",
       "    </tr>\n",
       "  </tbody>\n",
       "</table>\n",
       "</div>"
      ],
      "text/plain": [
       "Veřejná instituce                              False  True \n",
       "Program                                                    \n",
       "CZ.1.01 OP Doprava                              0.10  99.90\n",
       "CZ.1.08 OP Technická pomoc                      2.29  97.71\n",
       "CZ.1.15 ROP NUTS II Střední Čechy               6.96  93.04\n",
       "CZ.1.05 OP Výzkum a vývoj pro inovace           8.46  91.54\n",
       "CZ.1.09 ROP NUTS II Severozápad                 9.24  90.76\n",
       "CZ.1.10 ROP NUTS II Moravskoslezsko             9.66  90.34\n",
       "CZ.1.11 ROP NUTS II Jihovýchod                  9.85  90.15\n",
       "CZ.1.14 ROP Jihozápad                          10.31  89.69\n",
       "CZ.1.06 Integrovaný operační program           11.85  88.15\n",
       "CZ.2.16 OP Praha Konkurenceschopnost           12.57  87.43\n",
       "CZ.1.12 ROP NUTS II Střední Morava             14.50  85.50\n",
       "CZ.1.13 ROP NUTS II Severovýchod               14.65  85.35\n",
       "CZ.3.22 OP ČR - Polsko                         16.64  83.36\n",
       "CZ.1.02 OP Životní prostředí                   18.13  81.87\n",
       "CZ.1.07 OP Vzdělávání pro konkurenceschopnost  18.37  81.63\n",
       "CZ.1.04 OP Lidské zdroje a zaměstnanost        25.27  74.73\n",
       "CZ.2.17 OP Praha Adaptibilita                  58.89  41.11\n",
       "CZ.1.25 OP Rybářství                           77.43  22.57\n",
       "CZ.1.03 OP Podnikání a inovace                 87.34  12.66"
      ]
     },
     "execution_count": 98,
     "metadata": {},
     "output_type": "execute_result"
    }
   ],
   "source": [
    "pom = df.groupby([prog, ver]).sum().loc[:, sml].unstack()/10**9\n",
    "pom = (100*pom.div(pom.sum(axis=1), axis=0)).round(2).sort_values(by=False)\n",
    "pom"
   ]
  },
  {
   "cell_type": "code",
   "execution_count": 99,
   "metadata": {
    "collapsed": true
   },
   "outputs": [],
   "source": [
    "pom.to_csv('vystupy/tabulky/operacni-programy-pomer-verejnych.csv')"
   ]
  },
  {
   "cell_type": "markdown",
   "metadata": {},
   "source": [
    "## Strategické osy\n",
    "TODO: budu muset doplnit data, protože info o osách sem na začátku smazal."
   ]
  },
  {
   "cell_type": "markdown",
   "metadata": {},
   "source": [
    "## Kofinancování"
   ]
  },
  {
   "cell_type": "code",
   "execution_count": 53,
   "metadata": {
    "collapsed": false
   },
   "outputs": [],
   "source": [
    "kofi = 1 - (df.loc[:, sml]/df.loc[:, celk])\n",
    "kofi.loc[kofi < 0] = np.nan # chyba v datech MMR u firmy BioFish s.r.o"
   ]
  },
  {
   "cell_type": "code",
   "execution_count": 54,
   "metadata": {
    "collapsed": false
   },
   "outputs": [
    {
     "data": {
      "text/plain": [
       "<matplotlib.axes._subplots.AxesSubplot at 0x11625c390>"
      ]
     },
     "execution_count": 54,
     "metadata": {},
     "output_type": "execute_result"
    },
    {
     "data": {
      "image/png": "[encoded data removed]",
      "text/plain": [
       "<matplotlib.figure.Figure at 0x11624ffd0>"
      ]
     },
     "metadata": {},
     "output_type": "display_data"
    }
   ],
   "source": [
    "kofi.hist(bins=50)"
   ]
  },
  {
   "cell_type": "code",
   "execution_count": 55,
   "metadata": {
    "collapsed": false
   },
   "outputs": [],
   "source": [
    "kofiv = kofi * df.loc[:, ver]\n",
    "kofiv = kofiv.loc[kofiv>0]\n",
    "\n",
    "kofis = kofi * ~(df.loc[:, ver].replace(np.nan, True))\n",
    "kofis = kofis.loc[kofis>0]"
   ]
  },
  {
   "cell_type": "code",
   "execution_count": 56,
   "metadata": {
    "collapsed": false
   },
   "outputs": [
    {
     "data": {
      "text/plain": [
       "<matplotlib.axes._subplots.AxesSubplot at 0x11624feb8>"
      ]
     },
     "execution_count": 56,
     "metadata": {},
     "output_type": "execute_result"
    },
    {
     "data": {
      "image/png": "[encoded data removed]",
      "text/plain": [
       "<matplotlib.figure.Figure at 0x116881048>"
      ]
     },
     "metadata": {},
     "output_type": "display_data"
    }
   ],
   "source": [
    "kofis.hist(bins=50)"
   ]
  },
  {
   "cell_type": "code",
   "execution_count": 57,
   "metadata": {
    "collapsed": false
   },
   "outputs": [
    {
     "data": {
      "text/plain": [
       "<matplotlib.axes._subplots.AxesSubplot at 0x10e608978>"
      ]
     },
     "execution_count": 57,
     "metadata": {},
     "output_type": "execute_result"
    },
    {
     "data": {
      "image/png": "[encoded data removed]",
      "text/plain": [
       "<matplotlib.figure.Figure at 0x11624f7f0>"
      ]
     },
     "metadata": {},
     "output_type": "display_data"
    }
   ],
   "source": [
    "kofiv.hist(bins=50)"
   ]
  },
  {
   "cell_type": "code",
   "execution_count": null,
   "metadata": {
    "collapsed": true
   },
   "outputs": [],
   "source": []
  },
  {
   "cell_type": "code",
   "execution_count": 107,
   "metadata": {
    "collapsed": false
   },
   "outputs": [
    {
     "data": {
      "text/html": [
       "<div>\n",
       "<table border=\"1\" class=\"dataframe\">\n",
       "  <thead>\n",
       "    <tr style=\"text-align: right;\">\n",
       "      <th>Veřejná instituce</th>\n",
       "      <th>False</th>\n",
       "      <th>True</th>\n",
       "    </tr>\n",
       "    <tr>\n",
       "      <th>Program</th>\n",
       "      <th></th>\n",
       "      <th></th>\n",
       "    </tr>\n",
       "  </thead>\n",
       "  <tbody>\n",
       "    <tr>\n",
       "      <th>CZ.1.01 OP Doprava</th>\n",
       "      <td>68.77</td>\n",
       "      <td>35.69</td>\n",
       "    </tr>\n",
       "    <tr>\n",
       "      <th>CZ.1.02 OP Životní prostředí</th>\n",
       "      <td>52.04</td>\n",
       "      <td>40.90</td>\n",
       "    </tr>\n",
       "    <tr>\n",
       "      <th>CZ.1.03 OP Podnikání a inovace</th>\n",
       "      <td>59.68</td>\n",
       "      <td>32.42</td>\n",
       "    </tr>\n",
       "    <tr>\n",
       "      <th>CZ.1.04 OP Lidské zdroje a zaměstnanost</th>\n",
       "      <td>15.12</td>\n",
       "      <td>15.01</td>\n",
       "    </tr>\n",
       "    <tr>\n",
       "      <th>CZ.1.05 OP Výzkum a vývoj pro inovace</th>\n",
       "      <td>30.16</td>\n",
       "      <td>31.37</td>\n",
       "    </tr>\n",
       "    <tr>\n",
       "      <th>CZ.1.06 Integrovaný operační program</th>\n",
       "      <td>43.14</td>\n",
       "      <td>21.22</td>\n",
       "    </tr>\n",
       "    <tr>\n",
       "      <th>CZ.1.07 OP Vzdělávání pro konkurenceschopnost</th>\n",
       "      <td>15.00</td>\n",
       "      <td>15.00</td>\n",
       "    </tr>\n",
       "    <tr>\n",
       "      <th>CZ.1.08 OP Technická pomoc</th>\n",
       "      <td>15.00</td>\n",
       "      <td>15.25</td>\n",
       "    </tr>\n",
       "    <tr>\n",
       "      <th>CZ.1.09 ROP NUTS II Severozápad</th>\n",
       "      <td>60.05</td>\n",
       "      <td>29.07</td>\n",
       "    </tr>\n",
       "    <tr>\n",
       "      <th>CZ.1.10 ROP NUTS II Moravskoslezsko</th>\n",
       "      <td>57.51</td>\n",
       "      <td>29.43</td>\n",
       "    </tr>\n",
       "    <tr>\n",
       "      <th>CZ.1.11 ROP NUTS II Jihovýchod</th>\n",
       "      <td>53.94</td>\n",
       "      <td>30.10</td>\n",
       "    </tr>\n",
       "    <tr>\n",
       "      <th>CZ.1.12 ROP NUTS II Střední Morava</th>\n",
       "      <td>62.20</td>\n",
       "      <td>31.01</td>\n",
       "    </tr>\n",
       "    <tr>\n",
       "      <th>CZ.1.13 ROP NUTS II Severovýchod</th>\n",
       "      <td>56.95</td>\n",
       "      <td>30.36</td>\n",
       "    </tr>\n",
       "    <tr>\n",
       "      <th>CZ.1.14 ROP Jihozápad</th>\n",
       "      <td>54.57</td>\n",
       "      <td>30.09</td>\n",
       "    </tr>\n",
       "    <tr>\n",
       "      <th>CZ.1.15 ROP NUTS II Střední Čechy</th>\n",
       "      <td>61.75</td>\n",
       "      <td>27.48</td>\n",
       "    </tr>\n",
       "    <tr>\n",
       "      <th>CZ.1.25 OP Rybářství</th>\n",
       "      <td>59.16</td>\n",
       "      <td>36.42</td>\n",
       "    </tr>\n",
       "    <tr>\n",
       "      <th>CZ.2.16 OP Praha Konkurenceschopnost</th>\n",
       "      <td>46.04</td>\n",
       "      <td>33.05</td>\n",
       "    </tr>\n",
       "    <tr>\n",
       "      <th>CZ.2.17 OP Praha Adaptibilita</th>\n",
       "      <td>17.48</td>\n",
       "      <td>15.63</td>\n",
       "    </tr>\n",
       "    <tr>\n",
       "      <th>CZ.3.22 OP ČR - Polsko</th>\n",
       "      <td>18.01</td>\n",
       "      <td>16.50</td>\n",
       "    </tr>\n",
       "  </tbody>\n",
       "</table>\n",
       "</div>"
      ],
      "text/plain": [
       "Veřejná instituce                              False  True \n",
       "Program                                                    \n",
       "CZ.1.01 OP Doprava                             68.77  35.69\n",
       "CZ.1.02 OP Životní prostředí                   52.04  40.90\n",
       "CZ.1.03 OP Podnikání a inovace                 59.68  32.42\n",
       "CZ.1.04 OP Lidské zdroje a zaměstnanost        15.12  15.01\n",
       "CZ.1.05 OP Výzkum a vývoj pro inovace          30.16  31.37\n",
       "CZ.1.06 Integrovaný operační program           43.14  21.22\n",
       "CZ.1.07 OP Vzdělávání pro konkurenceschopnost  15.00  15.00\n",
       "CZ.1.08 OP Technická pomoc                     15.00  15.25\n",
       "CZ.1.09 ROP NUTS II Severozápad                60.05  29.07\n",
       "CZ.1.10 ROP NUTS II Moravskoslezsko            57.51  29.43\n",
       "CZ.1.11 ROP NUTS II Jihovýchod                 53.94  30.10\n",
       "CZ.1.12 ROP NUTS II Střední Morava             62.20  31.01\n",
       "CZ.1.13 ROP NUTS II Severovýchod               56.95  30.36\n",
       "CZ.1.14 ROP Jihozápad                          54.57  30.09\n",
       "CZ.1.15 ROP NUTS II Střední Čechy              61.75  27.48\n",
       "CZ.1.25 OP Rybářství                           59.16  36.42\n",
       "CZ.2.16 OP Praha Konkurenceschopnost           46.04  33.05\n",
       "CZ.2.17 OP Praha Adaptibilita                  17.48  15.63\n",
       "CZ.3.22 OP ČR - Polsko                         18.01  16.50"
      ]
     },
     "execution_count": 107,
     "metadata": {},
     "output_type": "execute_result"
    }
   ],
   "source": [
    "kofid = df.groupby([prog, ver]).sum().loc[:, [celk, sml]]\n",
    "kofid = (100*(1 - kofid.loc[:, sml] / kofid.loc[:, celk])).unstack().round(2)\n",
    "kofid"
   ]
  },
  {
   "cell_type": "code",
   "execution_count": 108,
   "metadata": {
    "collapsed": true
   },
   "outputs": [],
   "source": [
    "kofid.to_csv('vystupy/tabulky/kofinancovani-program.csv')"
   ]
  },
  {
   "cell_type": "code",
   "execution_count": null,
   "metadata": {
    "collapsed": true
   },
   "outputs": [],
   "source": []
  },
  {
   "cell_type": "code",
   "execution_count": null,
   "metadata": {
    "collapsed": true
   },
   "outputs": [],
   "source": []
  }
 ],
 "metadata": {
  "kernelspec": {
   "display_name": "Python 3",
   "language": "python",
   "name": "python3"
  },
  "language_info": {
   "codemirror_mode": {
    "name": "ipython",
    "version": 3
   },
   "file_extension": ".py",
   "mimetype": "text/x-python",
   "name": "python",
   "nbconvert_exporter": "python",
   "pygments_lexer": "ipython3",
   "version": "3.5.1"
  }
 },
 "nbformat": 4,
 "nbformat_minor": 0
}
