{
 "cells": [
  {
   "cell_type": "markdown",
   "metadata": {},
   "source": [
    "# 4. NACE, ESA a další kategorie žadatelů"
   ]
  },
  {
   "cell_type": "code",
   "execution_count": 1,
   "metadata": {
    "collapsed": true
   },
   "outputs": [],
   "source": [
    "import pandas as pd\n",
    "import numpy as np\n",
    "%matplotlib inline"
   ]
  },
  {
   "cell_type": "markdown",
   "metadata": {},
   "source": [
    "## Načítání dat\n",
    "Data od MMR máme zkombinována s daty of MFČR v souboru `vystupy/projekty-bez-popisu.csv` (můžeme použít i `projekty.csv`, ale ty jsou zbytečně velké pro naše potřeby)."
   ]
  },
  {
   "cell_type": "code",
   "execution_count": 2,
   "metadata": {
    "collapsed": false
   },
   "outputs": [],
   "source": [
    "df = pd.read_csv('vystupy/projekty-bez-popisu.csv', low_memory=False, dtype={'IČO': str})"
   ]
  },
  {
   "cell_type": "code",
   "execution_count": 3,
   "metadata": {
    "collapsed": false
   },
   "outputs": [
    {
     "data": {
      "text/plain": [
       "(73494, 18)"
      ]
     },
     "execution_count": 3,
     "metadata": {},
     "output_type": "execute_result"
    }
   ],
   "source": [
    "df.shape"
   ]
  },
  {
   "cell_type": "code",
   "execution_count": 4,
   "metadata": {
    "collapsed": false
   },
   "outputs": [],
   "source": [
    "# nazvy sloupcu, at se to lip filtruje\n",
    "prog = 'Program'\n",
    "ico = 'IČO'\n",
    "dat = 'Datum'\n",
    "naz = 'Název'\n",
    "celk = 'Celkové zdroje'\n",
    "sml = 'Smlouva'\n",
    "prop = 'Proplaceno'\n",
    "zad = 'Žadatel'\n",
    "prfo = 'Právní forma'\n",
    "prfok = 'Právní forma (kód)'\n",
    "nuts = 'NUTS4'\n",
    "esa = 'ESA'\n",
    "esak = 'ESA (kód)'\n",
    "nace = 'NACE'\n",
    "zam = 'Zaměstnanců'\n",
    "kat = 'Kategorie'\n",
    "ver = 'Veřejná instituce'"
   ]
  },
  {
   "cell_type": "code",
   "execution_count": 5,
   "metadata": {
    "collapsed": false
   },
   "outputs": [],
   "source": [
    "# df.loc[:, ico] = [str(j).rjust(8, '0') for j in df.loc[:, ico]]"
   ]
  },
  {
   "cell_type": "markdown",
   "metadata": {},
   "source": [
    "## Právní formy"
   ]
  },
  {
   "cell_type": "code",
   "execution_count": 6,
   "metadata": {
    "collapsed": false
   },
   "outputs": [
    {
     "data": {
      "text/html": [
       "<div>\n",
       "<table border=\"1\" class=\"dataframe\">\n",
       "  <thead>\n",
       "    <tr style=\"text-align: right;\">\n",
       "      <th></th>\n",
       "      <th>Celkové zdroje</th>\n",
       "      <th>Smlouva</th>\n",
       "      <th>Proplaceno</th>\n",
       "    </tr>\n",
       "    <tr>\n",
       "      <th>Právní forma</th>\n",
       "      <th></th>\n",
       "      <th></th>\n",
       "      <th></th>\n",
       "    </tr>\n",
       "  </thead>\n",
       "  <tbody>\n",
       "    <tr>\n",
       "      <th>Příspěvková organizace</th>\n",
       "      <td>197.30</td>\n",
       "      <td>135.21</td>\n",
       "      <td>125.86</td>\n",
       "    </tr>\n",
       "    <tr>\n",
       "      <th>Obec nebo městská část hlavního města Prahy</th>\n",
       "      <td>193.00</td>\n",
       "      <td>125.50</td>\n",
       "      <td>116.84</td>\n",
       "    </tr>\n",
       "    <tr>\n",
       "      <th>Správa železniční dopravní cesty, státní organizace</th>\n",
       "      <td>128.99</td>\n",
       "      <td>88.63</td>\n",
       "      <td>79.11</td>\n",
       "    </tr>\n",
       "    <tr>\n",
       "      <th>Akciová společnost</th>\n",
       "      <td>194.52</td>\n",
       "      <td>87.27</td>\n",
       "      <td>82.55</td>\n",
       "    </tr>\n",
       "    <tr>\n",
       "      <th>Společnost s ručením omezeným</th>\n",
       "      <td>174.14</td>\n",
       "      <td>77.87</td>\n",
       "      <td>72.89</td>\n",
       "    </tr>\n",
       "    <tr>\n",
       "      <th>Organizační složka státu</th>\n",
       "      <td>79.56</td>\n",
       "      <td>66.30</td>\n",
       "      <td>57.95</td>\n",
       "    </tr>\n",
       "    <tr>\n",
       "      <th>Kraj</th>\n",
       "      <td>72.53</td>\n",
       "      <td>56.05</td>\n",
       "      <td>50.54</td>\n",
       "    </tr>\n",
       "    <tr>\n",
       "      <th>Vysoká škola</th>\n",
       "      <td>63.29</td>\n",
       "      <td>46.59</td>\n",
       "      <td>43.68</td>\n",
       "    </tr>\n",
       "    <tr>\n",
       "      <th>Svazek obcí</th>\n",
       "      <td>23.77</td>\n",
       "      <td>14.31</td>\n",
       "      <td>13.51</td>\n",
       "    </tr>\n",
       "    <tr>\n",
       "      <th>Veřejná výzkumná instituce</th>\n",
       "      <td>16.90</td>\n",
       "      <td>12.41</td>\n",
       "      <td>12.00</td>\n",
       "    </tr>\n",
       "    <tr>\n",
       "      <th>Spolek</th>\n",
       "      <td>14.05</td>\n",
       "      <td>10.12</td>\n",
       "      <td>9.27</td>\n",
       "    </tr>\n",
       "    <tr>\n",
       "      <th>Obecně prospěšná společnost</th>\n",
       "      <td>8.09</td>\n",
       "      <td>6.16</td>\n",
       "      <td>5.73</td>\n",
       "    </tr>\n",
       "    <tr>\n",
       "      <th>Státní podnik</th>\n",
       "      <td>7.35</td>\n",
       "      <td>4.75</td>\n",
       "      <td>4.56</td>\n",
       "    </tr>\n",
       "    <tr>\n",
       "      <th>Regionální rada regionu soudržnosti</th>\n",
       "      <td>5.10</td>\n",
       "      <td>4.24</td>\n",
       "      <td>3.36</td>\n",
       "    </tr>\n",
       "    <tr>\n",
       "      <th>Církevní organizace</th>\n",
       "      <td>4.17</td>\n",
       "      <td>3.32</td>\n",
       "      <td>3.11</td>\n",
       "    </tr>\n",
       "  </tbody>\n",
       "</table>\n",
       "</div>"
      ],
      "text/plain": [
       "                                                    Celkové zdroje  Smlouva  \\\n",
       "Právní forma                                                                  \n",
       "Příspěvková organizace                                      197.30   135.21   \n",
       "Obec nebo městská část hlavního města Prahy                 193.00   125.50   \n",
       "Správa železniční dopravní cesty, státní organi...          128.99    88.63   \n",
       "Akciová společnost                                          194.52    87.27   \n",
       "Společnost s ručením omezeným                               174.14    77.87   \n",
       "Organizační složka státu                                     79.56    66.30   \n",
       "Kraj                                                         72.53    56.05   \n",
       "Vysoká škola                                                 63.29    46.59   \n",
       "Svazek obcí                                                  23.77    14.31   \n",
       "Veřejná výzkumná instituce                                   16.90    12.41   \n",
       "Spolek                                                       14.05    10.12   \n",
       "Obecně prospěšná společnost                                   8.09     6.16   \n",
       "Státní podnik                                                 7.35     4.75   \n",
       "Regionální rada regionu soudržnosti                           5.10     4.24   \n",
       "Církevní organizace                                           4.17     3.32   \n",
       "\n",
       "                                                    Proplaceno  \n",
       "Právní forma                                                    \n",
       "Příspěvková organizace                                  125.86  \n",
       "Obec nebo městská část hlavního města Prahy             116.84  \n",
       "Správa železniční dopravní cesty, státní organi...       79.11  \n",
       "Akciová společnost                                       82.55  \n",
       "Společnost s ručením omezeným                            72.89  \n",
       "Organizační složka státu                                 57.95  \n",
       "Kraj                                                     50.54  \n",
       "Vysoká škola                                             43.68  \n",
       "Svazek obcí                                              13.51  \n",
       "Veřejná výzkumná instituce                               12.00  \n",
       "Spolek                                                    9.27  \n",
       "Obecně prospěšná společnost                               5.73  \n",
       "Státní podnik                                             4.56  \n",
       "Regionální rada regionu soudržnosti                       3.36  \n",
       "Církevní organizace                                       3.11  "
      ]
     },
     "execution_count": 6,
     "metadata": {},
     "output_type": "execute_result"
    }
   ],
   "source": [
    "dfprf = (df.groupby(prfo)[[celk, sml, prop]].sum().sort_values(by=sml, ascending=False)/10**9)\n",
    "dfprf.head(15).round(2)"
   ]
  },
  {
   "cell_type": "code",
   "execution_count": 7,
   "metadata": {
    "collapsed": true
   },
   "outputs": [],
   "source": [
    "dfprf.round(3).to_csv('vystupy/tabulky/nejvetsi-pravni-formy.csv')\n",
    "dfprf.round(3).to_excel('vystupy/tabulky/nejvetsi-pravni-formy.xlsx')"
   ]
  },
  {
   "cell_type": "markdown",
   "metadata": {},
   "source": [
    "A největší projekty podle právních forem. **V milionech korun.**"
   ]
  },
  {
   "cell_type": "code",
   "execution_count": 43,
   "metadata": {
    "collapsed": true
   },
   "outputs": [],
   "source": [
    "df[zad] = df[zad].replace(np.nan, 'FO')"
   ]
  },
  {
   "cell_type": "code",
   "execution_count": 44,
   "metadata": {
    "collapsed": false
   },
   "outputs": [],
   "source": [
    "prfa = df.groupby([prfo, ico, zad, naz])[[celk, sml, prop]].sum()/10**6"
   ]
  },
  {
   "cell_type": "code",
   "execution_count": 45,
   "metadata": {
    "collapsed": false
   },
   "outputs": [],
   "source": [
    "xw = pd.ExcelWriter('vystupy/tabulky/nejvetsi-pravni-formy-projekty.xlsx')\n",
    "for pf in prfa.index.levels[0]:\n",
    "    prfa.loc[pf].reset_index().sort_values(by=sml, ascending=False).\\\n",
    "    head(100).round(3).to_excel(xw, pf[:31], index=False)\n",
    "xw.save()"
   ]
  },
  {
   "cell_type": "markdown",
   "metadata": {},
   "source": [
    "A největší *žadatelé* podle právních forem. **Opět v milionech.**"
   ]
  },
  {
   "cell_type": "code",
   "execution_count": 46,
   "metadata": {
    "collapsed": true
   },
   "outputs": [],
   "source": [
    "xw = pd.ExcelWriter('vystupy/tabulky/nejvetsi-pravni-formy-zadatele.xlsx')\n",
    "for pf in prfa.index.levels[0]:\n",
    "    prfa.loc[pf].groupby(level=[ico, zad]).sum().\\\n",
    "    reset_index().sort_values(by=sml, ascending=False).\\\n",
    "    head(100).round(3).to_excel(xw, pf[:31], index=False)\n",
    "xw.save()"
   ]
  },
  {
   "cell_type": "markdown",
   "metadata": {},
   "source": [
    "## ESA\n",
    "ESA (ESA2010) je trochu jiná klasifikace než právní formy. Nejde tu o právní zařazení, jde o hrubší kategorie, např. *nefinanční podniky soukromé národní* (národní zde neznamená veřejná, jen že je pod národní kontrolou), kam patří všechna možná sročka, akciovky atd."
   ]
  },
  {
   "cell_type": "code",
   "execution_count": 49,
   "metadata": {
    "collapsed": false
   },
   "outputs": [
    {
     "data": {
      "text/html": [
       "<div>\n",
       "<table border=\"1\" class=\"dataframe\">\n",
       "  <thead>\n",
       "    <tr style=\"text-align: right;\">\n",
       "      <th></th>\n",
       "      <th>Celkové zdroje</th>\n",
       "      <th>Smlouva</th>\n",
       "      <th>Proplaceno</th>\n",
       "    </tr>\n",
       "    <tr>\n",
       "      <th>ESA</th>\n",
       "      <th></th>\n",
       "      <th></th>\n",
       "      <th></th>\n",
       "    </tr>\n",
       "  </thead>\n",
       "  <tbody>\n",
       "    <tr>\n",
       "      <th>Ústřední vládní instituce</th>\n",
       "      <td>453.33</td>\n",
       "      <td>320.92</td>\n",
       "      <td>293.02</td>\n",
       "    </tr>\n",
       "    <tr>\n",
       "      <th>Místní vládní instituce</th>\n",
       "      <td>348.99</td>\n",
       "      <td>243.14</td>\n",
       "      <td>223.57</td>\n",
       "    </tr>\n",
       "    <tr>\n",
       "      <th>Nefinanční podniky soukromé národní</th>\n",
       "      <td>226.42</td>\n",
       "      <td>99.93</td>\n",
       "      <td>94.32</td>\n",
       "    </tr>\n",
       "    <tr>\n",
       "      <th>Nefinanční podniky veřejné</th>\n",
       "      <td>80.13</td>\n",
       "      <td>38.17</td>\n",
       "      <td>36.33</td>\n",
       "    </tr>\n",
       "    <tr>\n",
       "      <th>Neziskové instituce sloužící domácnostem soukromé národní</th>\n",
       "      <td>32.57</td>\n",
       "      <td>24.50</td>\n",
       "      <td>22.59</td>\n",
       "    </tr>\n",
       "    <tr>\n",
       "      <th>Nefinanční podniky soukromé pod zahraniční kontrolou</th>\n",
       "      <td>61.79</td>\n",
       "      <td>24.40</td>\n",
       "      <td>22.47</td>\n",
       "    </tr>\n",
       "    <tr>\n",
       "      <th>Fyzické osoby</th>\n",
       "      <td>14.68</td>\n",
       "      <td>7.69</td>\n",
       "      <td>7.43</td>\n",
       "    </tr>\n",
       "    <tr>\n",
       "      <th>Příjemci ostatních transferů</th>\n",
       "      <td>2.75</td>\n",
       "      <td>0.92</td>\n",
       "      <td>0.82</td>\n",
       "    </tr>\n",
       "    <tr>\n",
       "      <th>Evropská investiční banka</th>\n",
       "      <td>0.51</td>\n",
       "      <td>0.43</td>\n",
       "      <td>0.43</td>\n",
       "    </tr>\n",
       "    <tr>\n",
       "      <th>Neziskové instituce sloužící domácnostem pod zahraniční kontrolou</th>\n",
       "      <td>0.12</td>\n",
       "      <td>0.10</td>\n",
       "      <td>0.09</td>\n",
       "    </tr>\n",
       "  </tbody>\n",
       "</table>\n",
       "</div>"
      ],
      "text/plain": [
       "                                                    Celkové zdroje  Smlouva  \\\n",
       "ESA                                                                           \n",
       "Ústřední vládní instituce                                   453.33   320.92   \n",
       "Místní vládní instituce                                     348.99   243.14   \n",
       "Nefinanční podniky soukromé národní                         226.42    99.93   \n",
       "Nefinanční podniky veřejné                                   80.13    38.17   \n",
       "Neziskové instituce sloužící domácnostem soukro...           32.57    24.50   \n",
       "Nefinanční podniky soukromé pod zahraniční kont...           61.79    24.40   \n",
       "Fyzické osoby                                                14.68     7.69   \n",
       "Příjemci ostatních transferů                                  2.75     0.92   \n",
       "Evropská investiční banka                                     0.51     0.43   \n",
       "Neziskové instituce sloužící domácnostem pod za...            0.12     0.10   \n",
       "\n",
       "                                                    Proplaceno  \n",
       "ESA                                                             \n",
       "Ústřední vládní instituce                               293.02  \n",
       "Místní vládní instituce                                 223.57  \n",
       "Nefinanční podniky soukromé národní                      94.32  \n",
       "Nefinanční podniky veřejné                               36.33  \n",
       "Neziskové instituce sloužící domácnostem soukro...       22.59  \n",
       "Nefinanční podniky soukromé pod zahraniční kont...       22.47  \n",
       "Fyzické osoby                                             7.43  \n",
       "Příjemci ostatních transferů                              0.82  \n",
       "Evropská investiční banka                                 0.43  \n",
       "Neziskové instituce sloužící domácnostem pod za...        0.09  "
      ]
     },
     "execution_count": 49,
     "metadata": {},
     "output_type": "execute_result"
    }
   ],
   "source": [
    "dfesa = df.groupby(esa)[[celk, sml, prop]].sum().sort_values(by=sml, ascending=False)/10**9\n",
    "dfesa.round(2).head(10)"
   ]
  },
  {
   "cell_type": "code",
   "execution_count": 50,
   "metadata": {
    "collapsed": true
   },
   "outputs": [],
   "source": [
    "dfesa.round(3).to_csv('vystupy/tabulky/nejvetsi-esa.csv')\n",
    "dfesa.round(3).to_excel('vystupy/tabulky/nejvetsi-esa.xlsx')"
   ]
  },
  {
   "cell_type": "markdown",
   "metadata": {},
   "source": [
    "A největší *projekty* podle ESA kódů. **V milionech korun**"
   ]
  },
  {
   "cell_type": "code",
   "execution_count": 47,
   "metadata": {
    "collapsed": true
   },
   "outputs": [],
   "source": [
    "esapr = df.groupby([esa, ico, zad, naz])[[celk, sml, prop]].sum()/10**6"
   ]
  },
  {
   "cell_type": "code",
   "execution_count": 48,
   "metadata": {
    "collapsed": true
   },
   "outputs": [],
   "source": [
    "xw = pd.ExcelWriter('vystupy/tabulky/nejvetsi-esa-projekty.xlsx')\n",
    "for pf in esapr.index.levels[0]:\n",
    "    esapr.loc[pf].reset_index().sort_values(by=sml, ascending=False).\\\n",
    "    head(100).round(3).to_excel(xw, pf[:31], index=False)\n",
    "xw.save()"
   ]
  },
  {
   "cell_type": "markdown",
   "metadata": {},
   "source": [
    "A největší *zadavatelé* podle ESA kódů. **V milionech korun**"
   ]
  },
  {
   "cell_type": "code",
   "execution_count": 49,
   "metadata": {
    "collapsed": true
   },
   "outputs": [],
   "source": [
    "xw = pd.ExcelWriter('vystupy/tabulky/nejvetsi-esa-zadatele.xlsx')\n",
    "for pf in esapr.index.levels[0]:\n",
    "    esapr.loc[pf].groupby(level=[ico, zad]).sum().\\\n",
    "    reset_index().sort_values(by=sml, ascending=False).\\\n",
    "    head(100).round(3).to_excel(xw, pf[:31], index=False)\n",
    "xw.save()"
   ]
  },
  {
   "cell_type": "code",
   "execution_count": null,
   "metadata": {
    "collapsed": true
   },
   "outputs": [],
   "source": []
  },
  {
   "cell_type": "markdown",
   "metadata": {},
   "source": [
    "## NACE\n",
    "Díky datům z Registru ekonomických subjektů máme i informace o NACE kategoriích. V registru je celkový seznam NACE, my bereme pouze primární NACE."
   ]
  },
  {
   "cell_type": "code",
   "execution_count": 65,
   "metadata": {
    "collapsed": false
   },
   "outputs": [
    {
     "data": {
      "text/html": [
       "<div>\n",
       "<table border=\"1\" class=\"dataframe\">\n",
       "  <thead>\n",
       "    <tr style=\"text-align: right;\">\n",
       "      <th></th>\n",
       "      <th>Celkové zdroje</th>\n",
       "      <th>Smlouva</th>\n",
       "      <th>Proplaceno</th>\n",
       "    </tr>\n",
       "    <tr>\n",
       "      <th>NACE</th>\n",
       "      <th></th>\n",
       "      <th></th>\n",
       "      <th></th>\n",
       "    </tr>\n",
       "  </thead>\n",
       "  <tbody>\n",
       "    <tr>\n",
       "      <th>Všeobecné činnosti veřejné správy</th>\n",
       "      <td>349.17</td>\n",
       "      <td>246.35</td>\n",
       "      <td>224.60</td>\n",
       "    </tr>\n",
       "    <tr>\n",
       "      <th>Činnosti související s pozemní dopravou</th>\n",
       "      <td>270.31</td>\n",
       "      <td>181.51</td>\n",
       "      <td>165.83</td>\n",
       "    </tr>\n",
       "    <tr>\n",
       "      <th>Terciární vzdělávání</th>\n",
       "      <td>63.87</td>\n",
       "      <td>47.06</td>\n",
       "      <td>44.11</td>\n",
       "    </tr>\n",
       "    <tr>\n",
       "      <th>Ostatní výzkum a vývoj v oblasti přírodních a technických věd</th>\n",
       "      <td>26.53</td>\n",
       "      <td>18.85</td>\n",
       "      <td>18.28</td>\n",
       "    </tr>\n",
       "    <tr>\n",
       "      <th>Ústavní zdravotní péče</th>\n",
       "      <td>26.27</td>\n",
       "      <td>17.05</td>\n",
       "      <td>15.58</td>\n",
       "    </tr>\n",
       "    <tr>\n",
       "      <th>Městská a příměstská pozemní osobní doprava</th>\n",
       "      <td>37.06</td>\n",
       "      <td>16.75</td>\n",
       "      <td>15.66</td>\n",
       "    </tr>\n",
       "    <tr>\n",
       "      <th>Regulace a podpora podnikatelského prostředí</th>\n",
       "      <td>16.80</td>\n",
       "      <td>13.92</td>\n",
       "      <td>12.14</td>\n",
       "    </tr>\n",
       "    <tr>\n",
       "      <th>Činnosti ostatních organizací sdružujících osoby za účelem prosazování společných zájmů j. n.</th>\n",
       "      <td>10.88</td>\n",
       "      <td>8.35</td>\n",
       "      <td>7.69</td>\n",
       "    </tr>\n",
       "    <tr>\n",
       "      <th>Základní vzdělávání na druhém stupni základních škol</th>\n",
       "      <td>8.44</td>\n",
       "      <td>7.03</td>\n",
       "      <td>6.84</td>\n",
       "    </tr>\n",
       "    <tr>\n",
       "      <th>Ostatní peněžní zprostředkování</th>\n",
       "      <td>8.36</td>\n",
       "      <td>5.78</td>\n",
       "      <td>5.53</td>\n",
       "    </tr>\n",
       "  </tbody>\n",
       "</table>\n",
       "</div>"
      ],
      "text/plain": [
       "                                                    Celkové zdroje  Smlouva  \\\n",
       "NACE                                                                          \n",
       "Všeobecné činnosti veřejné správy                           349.17   246.35   \n",
       "Činnosti související s pozemní dopravou                     270.31   181.51   \n",
       "Terciární vzdělávání                                         63.87    47.06   \n",
       "Ostatní výzkum a vývoj v oblasti přírodních a t...           26.53    18.85   \n",
       "Ústavní zdravotní péče                                       26.27    17.05   \n",
       "Městská a příměstská pozemní osobní doprava                  37.06    16.75   \n",
       "Regulace a podpora podnikatelského prostředí                 16.80    13.92   \n",
       "Činnosti ostatních organizací sdružujících osob...           10.88     8.35   \n",
       "Základní vzdělávání na druhém stupni základních...            8.44     7.03   \n",
       "Ostatní peněžní zprostředkování                               8.36     5.78   \n",
       "\n",
       "                                                    Proplaceno  \n",
       "NACE                                                            \n",
       "Všeobecné činnosti veřejné správy                       224.60  \n",
       "Činnosti související s pozemní dopravou                 165.83  \n",
       "Terciární vzdělávání                                     44.11  \n",
       "Ostatní výzkum a vývoj v oblasti přírodních a t...       18.28  \n",
       "Ústavní zdravotní péče                                   15.58  \n",
       "Městská a příměstská pozemní osobní doprava              15.66  \n",
       "Regulace a podpora podnikatelského prostředí             12.14  \n",
       "Činnosti ostatních organizací sdružujících osob...        7.69  \n",
       "Základní vzdělávání na druhém stupni základních...        6.84  \n",
       "Ostatní peněžní zprostředkování                           5.53  "
      ]
     },
     "execution_count": 65,
     "metadata": {},
     "output_type": "execute_result"
    }
   ],
   "source": [
    "dfnace = df.groupby([ver, nace])[[celk, sml, prop]].sum()/10**9\n",
    "dfnacevse = dfnace.groupby(level=1).sum().sort_values(by=sml, ascending=False)\n",
    "\n",
    "dfnacevse.round(2).head(10)"
   ]
  },
  {
   "cell_type": "code",
   "execution_count": 66,
   "metadata": {
    "collapsed": true
   },
   "outputs": [],
   "source": [
    "dfnacevse.round(3).head(100).to_csv('vystupy/tabulky/nejvetsi-nace.csv')\n",
    "dfnacevse.round(3).head(100).to_excel('vystupy/tabulky/nejvetsi-nace.xlsx')"
   ]
  },
  {
   "cell_type": "markdown",
   "metadata": {},
   "source": [
    "Možná si toto rozdělení zaslouží rozdělení na soukromé a veřejné podniky, jejich NACE budou dost jiné."
   ]
  },
  {
   "cell_type": "markdown",
   "metadata": {},
   "source": [
    "### NACE soukromé"
   ]
  },
  {
   "cell_type": "code",
   "execution_count": 91,
   "metadata": {
    "collapsed": true
   },
   "outputs": [],
   "source": [
    "dfnace = dfnace.reset_index()"
   ]
  },
  {
   "cell_type": "code",
   "execution_count": 98,
   "metadata": {
    "collapsed": false
   },
   "outputs": [
    {
     "data": {
      "text/html": [
       "<div>\n",
       "<table border=\"1\" class=\"dataframe\">\n",
       "  <thead>\n",
       "    <tr style=\"text-align: right;\">\n",
       "      <th></th>\n",
       "      <th>Celkové zdroje</th>\n",
       "      <th>Smlouva</th>\n",
       "      <th>Proplaceno</th>\n",
       "    </tr>\n",
       "    <tr>\n",
       "      <th>NACE</th>\n",
       "      <th></th>\n",
       "      <th></th>\n",
       "      <th></th>\n",
       "    </tr>\n",
       "  </thead>\n",
       "  <tbody>\n",
       "    <tr>\n",
       "      <th>Činnosti ostatních organizací sdružujících osoby za účelem prosazování společných zájmů j. n.</th>\n",
       "      <td>10.65</td>\n",
       "      <td>8.22</td>\n",
       "      <td>7.57</td>\n",
       "    </tr>\n",
       "    <tr>\n",
       "      <th>Pronájem a správa vlastních nebo pronajatých nemovitostí</th>\n",
       "      <td>12.06</td>\n",
       "      <td>5.04</td>\n",
       "      <td>4.66</td>\n",
       "    </tr>\n",
       "    <tr>\n",
       "      <th>Výroba surového železa, oceli a feroslitin, plochých výrobků (kromě pásky za studena), tváření výrobků za tepla</th>\n",
       "      <td>6.66</td>\n",
       "      <td>4.10</td>\n",
       "      <td>4.05</td>\n",
       "    </tr>\n",
       "    <tr>\n",
       "      <th>Ostatní výzkum a vývoj v oblasti přírodních a technických věd</th>\n",
       "      <td>6.03</td>\n",
       "      <td>3.60</td>\n",
       "      <td>3.51</td>\n",
       "    </tr>\n",
       "    <tr>\n",
       "      <th>Výroba elektřiny</th>\n",
       "      <td>10.68</td>\n",
       "      <td>3.02</td>\n",
       "      <td>2.98</td>\n",
       "    </tr>\n",
       "    <tr>\n",
       "      <th>Ostatní vzdělávání j. n.</th>\n",
       "      <td>3.50</td>\n",
       "      <td>2.80</td>\n",
       "      <td>2.57</td>\n",
       "    </tr>\n",
       "    <tr>\n",
       "      <th>Programování</th>\n",
       "      <td>6.06</td>\n",
       "      <td>2.72</td>\n",
       "      <td>2.53</td>\n",
       "    </tr>\n",
       "    <tr>\n",
       "      <th>Činnosti náboženských organizací</th>\n",
       "      <td>3.02</td>\n",
       "      <td>2.38</td>\n",
       "      <td>2.24</td>\n",
       "    </tr>\n",
       "    <tr>\n",
       "      <th>Výroba ostatních dílů a příslušenství pro motorová vozidla</th>\n",
       "      <td>5.93</td>\n",
       "      <td>2.21</td>\n",
       "      <td>1.94</td>\n",
       "    </tr>\n",
       "    <tr>\n",
       "      <th>Obrábění</th>\n",
       "      <td>4.99</td>\n",
       "      <td>2.12</td>\n",
       "      <td>1.99</td>\n",
       "    </tr>\n",
       "  </tbody>\n",
       "</table>\n",
       "</div>"
      ],
      "text/plain": [
       "                                                    Celkové zdroje  Smlouva  \\\n",
       "NACE                                                                          \n",
       "Činnosti ostatních organizací sdružujících osob...           10.65     8.22   \n",
       "Pronájem a správa vlastních nebo pronajatých ne...           12.06     5.04   \n",
       "Výroba surového železa, oceli a feroslitin, plo...            6.66     4.10   \n",
       "Ostatní výzkum a vývoj v oblasti přírodních a t...            6.03     3.60   \n",
       "Výroba elektřiny                                             10.68     3.02   \n",
       "Ostatní vzdělávání j. n.                                      3.50     2.80   \n",
       "Programování                                                  6.06     2.72   \n",
       "Činnosti náboženských organizací                              3.02     2.38   \n",
       "Výroba ostatních dílů a příslušenství pro motor...            5.93     2.21   \n",
       "Obrábění                                                      4.99     2.12   \n",
       "\n",
       "                                                    Proplaceno  \n",
       "NACE                                                            \n",
       "Činnosti ostatních organizací sdružujících osob...        7.57  \n",
       "Pronájem a správa vlastních nebo pronajatých ne...        4.66  \n",
       "Výroba surového železa, oceli a feroslitin, plo...        4.05  \n",
       "Ostatní výzkum a vývoj v oblasti přírodních a t...        3.51  \n",
       "Výroba elektřiny                                          2.98  \n",
       "Ostatní vzdělávání j. n.                                  2.57  \n",
       "Programování                                              2.53  \n",
       "Činnosti náboženských organizací                          2.24  \n",
       "Výroba ostatních dílů a příslušenství pro motor...        1.94  \n",
       "Obrábění                                                  1.99  "
      ]
     },
     "execution_count": 98,
     "metadata": {},
     "output_type": "execute_result"
    }
   ],
   "source": [
    "dfsou = dfnace.loc[dfnace[ver] == False].groupby(nace)[[celk, sml, prop]].sum().sort_values(by=sml, ascending=False)\n",
    "\n",
    "dfsou.round(2).head(10)"
   ]
  },
  {
   "cell_type": "code",
   "execution_count": 99,
   "metadata": {
    "collapsed": true
   },
   "outputs": [],
   "source": [
    "dfsou.round(3).head(100).to_csv('vystupy/tabulky/nejvetsi-nace-soukrome.csv')\n",
    "dfsou.round(3).head(100).to_excel('vystupy/tabulky/nejvetsi-nace-soukrome.xlsx')"
   ]
  },
  {
   "cell_type": "markdown",
   "metadata": {},
   "source": [
    "### NACE veřejné"
   ]
  },
  {
   "cell_type": "code",
   "execution_count": 100,
   "metadata": {
    "collapsed": false
   },
   "outputs": [
    {
     "data": {
      "text/html": [
       "<div>\n",
       "<table border=\"1\" class=\"dataframe\">\n",
       "  <thead>\n",
       "    <tr style=\"text-align: right;\">\n",
       "      <th></th>\n",
       "      <th>Celkové zdroje</th>\n",
       "      <th>Smlouva</th>\n",
       "      <th>Proplaceno</th>\n",
       "    </tr>\n",
       "    <tr>\n",
       "      <th>NACE</th>\n",
       "      <th></th>\n",
       "      <th></th>\n",
       "      <th></th>\n",
       "    </tr>\n",
       "  </thead>\n",
       "  <tbody>\n",
       "    <tr>\n",
       "      <th>Všeobecné činnosti veřejné správy</th>\n",
       "      <td>349.17</td>\n",
       "      <td>246.35</td>\n",
       "      <td>224.60</td>\n",
       "    </tr>\n",
       "    <tr>\n",
       "      <th>Činnosti související s pozemní dopravou</th>\n",
       "      <td>270.30</td>\n",
       "      <td>181.51</td>\n",
       "      <td>165.83</td>\n",
       "    </tr>\n",
       "    <tr>\n",
       "      <th>Terciární vzdělávání</th>\n",
       "      <td>63.29</td>\n",
       "      <td>46.59</td>\n",
       "      <td>43.68</td>\n",
       "    </tr>\n",
       "    <tr>\n",
       "      <th>Ústavní zdravotní péče</th>\n",
       "      <td>23.89</td>\n",
       "      <td>16.15</td>\n",
       "      <td>14.74</td>\n",
       "    </tr>\n",
       "    <tr>\n",
       "      <th>Městská a příměstská pozemní osobní doprava</th>\n",
       "      <td>35.29</td>\n",
       "      <td>16.05</td>\n",
       "      <td>14.99</td>\n",
       "    </tr>\n",
       "    <tr>\n",
       "      <th>Ostatní výzkum a vývoj v oblasti přírodních a technických věd</th>\n",
       "      <td>20.51</td>\n",
       "      <td>15.25</td>\n",
       "      <td>14.77</td>\n",
       "    </tr>\n",
       "    <tr>\n",
       "      <th>Regulace a podpora podnikatelského prostředí</th>\n",
       "      <td>16.80</td>\n",
       "      <td>13.92</td>\n",
       "      <td>12.14</td>\n",
       "    </tr>\n",
       "    <tr>\n",
       "      <th>Základní vzdělávání na druhém stupni základních škol</th>\n",
       "      <td>8.43</td>\n",
       "      <td>7.02</td>\n",
       "      <td>6.83</td>\n",
       "    </tr>\n",
       "    <tr>\n",
       "      <th>Ostatní peněžní zprostředkování</th>\n",
       "      <td>8.35</td>\n",
       "      <td>5.77</td>\n",
       "      <td>5.53</td>\n",
       "    </tr>\n",
       "    <tr>\n",
       "      <th>Střední odborné vzdělávání na středních odborných školách</th>\n",
       "      <td>6.60</td>\n",
       "      <td>5.10</td>\n",
       "      <td>4.79</td>\n",
       "    </tr>\n",
       "  </tbody>\n",
       "</table>\n",
       "</div>"
      ],
      "text/plain": [
       "                                                    Celkové zdroje  Smlouva  \\\n",
       "NACE                                                                          \n",
       "Všeobecné činnosti veřejné správy                           349.17   246.35   \n",
       "Činnosti související s pozemní dopravou                     270.30   181.51   \n",
       "Terciární vzdělávání                                         63.29    46.59   \n",
       "Ústavní zdravotní péče                                       23.89    16.15   \n",
       "Městská a příměstská pozemní osobní doprava                  35.29    16.05   \n",
       "Ostatní výzkum a vývoj v oblasti přírodních a t...           20.51    15.25   \n",
       "Regulace a podpora podnikatelského prostředí                 16.80    13.92   \n",
       "Základní vzdělávání na druhém stupni základních...            8.43     7.02   \n",
       "Ostatní peněžní zprostředkování                               8.35     5.77   \n",
       "Střední odborné vzdělávání na středních odborný...            6.60     5.10   \n",
       "\n",
       "                                                    Proplaceno  \n",
       "NACE                                                            \n",
       "Všeobecné činnosti veřejné správy                       224.60  \n",
       "Činnosti související s pozemní dopravou                 165.83  \n",
       "Terciární vzdělávání                                     43.68  \n",
       "Ústavní zdravotní péče                                   14.74  \n",
       "Městská a příměstská pozemní osobní doprava              14.99  \n",
       "Ostatní výzkum a vývoj v oblasti přírodních a t...       14.77  \n",
       "Regulace a podpora podnikatelského prostředí             12.14  \n",
       "Základní vzdělávání na druhém stupni základních...        6.83  \n",
       "Ostatní peněžní zprostředkování                           5.53  \n",
       "Střední odborné vzdělávání na středních odborný...        4.79  "
      ]
     },
     "execution_count": 100,
     "metadata": {},
     "output_type": "execute_result"
    }
   ],
   "source": [
    "dfver = dfnace.loc[dfnace[ver] == True].groupby(nace)[[celk, sml, prop]].sum().sort_values(by=sml, ascending=False)\n",
    "\n",
    "dfver.round(2).head(10)"
   ]
  },
  {
   "cell_type": "code",
   "execution_count": 101,
   "metadata": {
    "collapsed": true
   },
   "outputs": [],
   "source": [
    "dfver.round(3).head(100).to_csv('vystupy/tabulky/nejvetsi-nace-verejne.csv')\n",
    "dfver.round(3).head(100).to_excel('vystupy/tabulky/nejvetsi-nace-verejne.xlsx')"
   ]
  },
  {
   "cell_type": "code",
   "execution_count": null,
   "metadata": {
    "collapsed": true
   },
   "outputs": [],
   "source": []
  }
 ],
 "metadata": {
  "kernelspec": {
   "display_name": "Python 3",
   "language": "python",
   "name": "python3"
  },
  "language_info": {
   "codemirror_mode": {
    "name": "ipython",
    "version": 3
   },
   "file_extension": ".py",
   "mimetype": "text/x-python",
   "name": "python",
   "nbconvert_exporter": "python",
   "pygments_lexer": "ipython3",
   "version": "3.5.1"
  },
  "widgets": {
   "state": {},
   "version": "1.1.2"
  }
 },
 "nbformat": 4,
 "nbformat_minor": 0
}
